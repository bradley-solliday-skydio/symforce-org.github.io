{
 "cells": [
  {
   "cell_type": "markdown",
   "metadata": {},
   "source": [
    "# Concepts Tutorial"
   ]
  },
  {
   "cell_type": "markdown",
   "metadata": {},
   "source": [
    "SymForce uses [concepts](https://en.wikipedia.org/wiki/Concept_(generic_programming%29)) as an underlying mechanism. A concept is a specification of supported operations, including syntax and semantics, but does not require a subtype relationship. This means that a set of heterogenous types can be operated on in a homogenous way, i.e. types that are external and don't share a base class, like Python floats treated as scalars.\n",
    "\n",
    "There are three core concepts, each of which is a superset of the previous. The core routines use these ops interfaces rather than calling methods on types directly. The [ops package](../api/symforce.ops.html) docs provide much more detail and each op is tested on each type, but examples are given here.\n",
    "\n",
    "In the case of lists of objects or a Values object (see the [Values tutorial](../notebooks/values_tutorial.html)), we perform element-wise operations."
   ]
  },
  {
   "cell_type": "code",
   "execution_count": 1,
   "metadata": {
    "execution": {
     "iopub.execute_input": "2022-04-01T21:23:48.912238Z",
     "iopub.status.busy": "2022-04-01T21:23:48.912063Z",
     "iopub.status.idle": "2022-04-01T21:23:49.260470Z",
     "shell.execute_reply": "2022-04-01T21:23:49.260156Z"
    }
   },
   "outputs": [],
   "source": [
    "# Setup\n",
    "import symforce\n",
    "\n",
    "symforce.set_backend(\"sympy\")\n",
    "symforce.set_log_level(\"warning\")\n",
    "\n",
    "from symforce.notebook_util import display\n",
    "from symforce import geo\n",
    "from symforce import sympy as sm\n",
    "from symforce.values import Values\n",
    "from symforce.ops import StorageOps, GroupOps, LieGroupOps"
   ]
  },
  {
   "cell_type": "markdown",
   "metadata": {},
   "source": [
    "## StorageOps"
   ]
  },
  {
   "cell_type": "markdown",
   "metadata": {},
   "source": [
    "[StorageOps](../api/symforce.ops.storage_ops.html): **Data type that can be serialized to and from a vector of scalar quantities.**\n",
    "\n",
    "Methods: `.storage_dim()`, `.to_storage()`, `.from_storage()`, `.symbolic()`, `.evalf()`, `.subs()`, `.simplify()`\n",
    "\n",
    "Storage operations are used extensively for marshalling and for operating on each scalar in a type."
   ]
  },
  {
   "cell_type": "code",
   "execution_count": 2,
   "metadata": {
    "execution": {
     "iopub.execute_input": "2022-04-01T21:23:49.262340Z",
     "iopub.status.busy": "2022-04-01T21:23:49.262205Z",
     "iopub.status.idle": "2022-04-01T21:23:49.692509Z",
     "shell.execute_reply": "2022-04-01T21:23:49.692230Z"
    }
   },
   "outputs": [
    {
     "data": {
      "image/png": "[encoded data removed]",
      "text/latex": [
       "$\\displaystyle 7$"
      ],
      "text/plain": [
       "7"
      ]
     },
     "metadata": {},
     "output_type": "display_data"
    }
   ],
   "source": [
    "# Number of scalars used to represent a Pose3 (4 quaternion + 3 position)\n",
    "display(StorageOps.storage_dim(geo.Pose3))"
   ]
  },
  {
   "cell_type": "code",
   "execution_count": 3,
   "metadata": {
    "execution": {
     "iopub.execute_input": "2022-04-01T21:23:49.694052Z",
     "iopub.status.busy": "2022-04-01T21:23:49.693919Z",
     "iopub.status.idle": "2022-04-01T21:23:49.700625Z",
     "shell.execute_reply": "2022-04-01T21:23:49.700360Z"
    }
   },
   "outputs": [
    {
     "data": {
      "image/png": "[encoded data removed]",
      "text/latex": [
       "$\\displaystyle 1$"
      ],
      "text/plain": [
       "1"
      ]
     },
     "metadata": {},
     "output_type": "display_data"
    }
   ],
   "source": [
    "# Because we are using concepts, we can operate on types that aren't subtypes of symforce\n",
    "display(StorageOps.storage_dim(float))"
   ]
  },
  {
   "cell_type": "code",
   "execution_count": 4,
   "metadata": {
    "execution": {
     "iopub.execute_input": "2022-04-01T21:23:49.702089Z",
     "iopub.status.busy": "2022-04-01T21:23:49.701968Z",
     "iopub.status.idle": "2022-04-01T21:23:49.711038Z",
     "shell.execute_reply": "2022-04-01T21:23:49.710759Z"
    }
   },
   "outputs": [
    {
     "data": {
      "image/png": "[encoded data removed]",
      "text/latex": [
       "$\\displaystyle 14$"
      ],
      "text/plain": [
       "14"
      ]
     },
     "metadata": {},
     "output_type": "display_data"
    }
   ],
   "source": [
    "# Element-wise operations on lists of objects\n",
    "display(StorageOps.storage_dim([geo.Pose3, geo.Pose3]))"
   ]
  },
  {
   "cell_type": "code",
   "execution_count": 5,
   "metadata": {
    "execution": {
     "iopub.execute_input": "2022-04-01T21:23:49.712580Z",
     "iopub.status.busy": "2022-04-01T21:23:49.712452Z",
     "iopub.status.idle": "2022-04-01T21:23:49.719673Z",
     "shell.execute_reply": "2022-04-01T21:23:49.719407Z"
    }
   },
   "outputs": [
    {
     "data": {
      "image/png": "[encoded data removed]",
      "text/latex": [
       "$\\displaystyle 8$"
      ],
      "text/plain": [
       "8"
      ]
     },
     "metadata": {},
     "output_type": "display_data"
    }
   ],
   "source": [
    "# Element-wise operations on Values object with multiple types of elements\n",
    "values = Values(\n",
    "    pose=geo.Pose3(),\n",
    "    scalar=sm.Symbol(\"x\"),\n",
    ")\n",
    "display(StorageOps.storage_dim(values))  # 4 quaternion + 3 position + 1 scalar"
   ]
  },
  {
   "cell_type": "code",
   "execution_count": 6,
   "metadata": {
    "execution": {
     "iopub.execute_input": "2022-04-01T21:23:49.721169Z",
     "iopub.status.busy": "2022-04-01T21:23:49.721006Z",
     "iopub.status.idle": "2022-04-01T21:23:49.733796Z",
     "shell.execute_reply": "2022-04-01T21:23:49.733532Z"
    }
   },
   "outputs": [
    {
     "data": {
      "image/png": "[encoded data removed]",
      "text/latex": [
       "$\\displaystyle \\left[ 5\\right]$"
      ],
      "text/plain": [
       "[5]"
      ]
     },
     "metadata": {},
     "output_type": "display_data"
    }
   ],
   "source": [
    "# Serialize scalar\n",
    "display(StorageOps.to_storage(5))"
   ]
  },
  {
   "cell_type": "code",
   "execution_count": 7,
   "metadata": {
    "execution": {
     "iopub.execute_input": "2022-04-01T21:23:49.735304Z",
     "iopub.status.busy": "2022-04-01T21:23:49.735143Z",
     "iopub.status.idle": "2022-04-01T21:23:49.779788Z",
     "shell.execute_reply": "2022-04-01T21:23:49.779514Z"
    }
   },
   "outputs": [
    {
     "data": {
      "image/png": "[encoded data removed]",
      "text/latex": [
       "$\\displaystyle \\left[ x, \\  5.2, \\  \\sqrt{5}\\right]$"
      ],
      "text/plain": [
       "[x, 5.2, √5]"
      ]
     },
     "metadata": {},
     "output_type": "display_data"
    }
   ],
   "source": [
    "# Serialize vector/matrix\n",
    "display(StorageOps.to_storage(geo.V3(sm.Symbol(\"x\"), 5.2, sm.sqrt(5))))"
   ]
  },
  {
   "cell_type": "code",
   "execution_count": 8,
   "metadata": {
    "execution": {
     "iopub.execute_input": "2022-04-01T21:23:49.781286Z",
     "iopub.status.busy": "2022-04-01T21:23:49.781164Z",
     "iopub.status.idle": "2022-04-01T21:23:49.850267Z",
     "shell.execute_reply": "2022-04-01T21:23:49.849983Z"
    }
   },
   "outputs": [
    {
     "data": {
      "image/png": "[encoded data removed]",
      "text/latex": [
       "$\\displaystyle \\left[ T.R_{x}, \\  T.R_{y}, \\  T.R_{z}, \\  T.R_{w}, \\  T.t0, \\  T.t1, \\  T.t2\\right]$"
      ],
      "text/plain": [
       "[T.Rₓ, T.R_y, T.R_z, T.R_w, T.t0, T.t1, T.t2]"
      ]
     },
     "metadata": {},
     "output_type": "display_data"
    },
    {
     "data": {
      "text/plain": [
       "<Pose3 R=<Rot3 <Q xyzw=[T.R_x, T.R_y, T.R_z, T.R_w]>>, t=(T.t0, T.t1, T.t2)>"
      ]
     },
     "metadata": {},
     "output_type": "display_data"
    }
   ],
   "source": [
    "# Serialize geometric type and reconstruct\n",
    "T = geo.Pose3.symbolic(\"T\")\n",
    "T_serialized = StorageOps.to_storage(T)\n",
    "T_recovered = StorageOps.from_storage(geo.Pose3, T_serialized)\n",
    "display(T_serialized)\n",
    "display(T_recovered)"
   ]
  },
  {
   "cell_type": "markdown",
   "metadata": {},
   "source": [
    "## GroupOps"
   ]
  },
  {
   "cell_type": "markdown",
   "metadata": {},
   "source": [
    "[GroupOps](../api/symforce.ops.group_ops.html): **Mathematical group that implements closure, associativity, identity and invertibility.**\n",
    "\n",
    "Methods: `.identity()`, `.inverse()`, `.compose()`, `.between()`\n",
    "\n",
    "Group operations provide the core methods to compare and combine types."
   ]
  },
  {
   "cell_type": "code",
   "execution_count": 9,
   "metadata": {
    "execution": {
     "iopub.execute_input": "2022-04-01T21:23:49.851860Z",
     "iopub.status.busy": "2022-04-01T21:23:49.851734Z",
     "iopub.status.idle": "2022-04-01T21:23:49.854300Z",
     "shell.execute_reply": "2022-04-01T21:23:49.854046Z"
    }
   },
   "outputs": [
    {
     "data": {
      "text/plain": [
       "<Pose3 R=<Rot3 <Q xyzw=[0, 0, 0, 1]>>, t=(0, 0, 0)>"
      ]
     },
     "metadata": {},
     "output_type": "display_data"
    }
   ],
   "source": [
    "# Identity of a pose\n",
    "display(GroupOps.identity(geo.Pose3))"
   ]
  },
  {
   "cell_type": "code",
   "execution_count": 10,
   "metadata": {
    "execution": {
     "iopub.execute_input": "2022-04-01T21:23:49.855734Z",
     "iopub.status.busy": "2022-04-01T21:23:49.855574Z",
     "iopub.status.idle": "2022-04-01T21:23:49.862046Z",
     "shell.execute_reply": "2022-04-01T21:23:49.861786Z"
    }
   },
   "outputs": [
    {
     "data": {
      "image/png": "[encoded data removed]",
      "text/latex": [
       "$\\displaystyle 0$"
      ],
      "text/plain": [
       "0"
      ]
     },
     "metadata": {},
     "output_type": "display_data"
    }
   ],
   "source": [
    "# Identity of a scalar (under addition)\n",
    "display(GroupOps.identity(float))"
   ]
  },
  {
   "cell_type": "code",
   "execution_count": 11,
   "metadata": {
    "execution": {
     "iopub.execute_input": "2022-04-01T21:23:49.863535Z",
     "iopub.status.busy": "2022-04-01T21:23:49.863377Z",
     "iopub.status.idle": "2022-04-01T21:23:49.868431Z",
     "shell.execute_reply": "2022-04-01T21:23:49.868171Z"
    }
   },
   "outputs": [
    {
     "data": {
      "text/latex": [
       "$\\displaystyle \\left[\\begin{matrix}-1.2 & 3 & -2\\end{matrix}\\right]$"
      ],
      "text/plain": [
       "[-1.2  3  -2]"
      ]
     },
     "metadata": {},
     "output_type": "display_data"
    }
   ],
   "source": [
    "# Inverse of a vector\n",
    "display(GroupOps.inverse(geo.V3(1.2, -3, 2)).T)"
   ]
  },
  {
   "cell_type": "code",
   "execution_count": 12,
   "metadata": {
    "execution": {
     "iopub.execute_input": "2022-04-01T21:23:49.869878Z",
     "iopub.status.busy": "2022-04-01T21:23:49.869723Z",
     "iopub.status.idle": "2022-04-01T21:23:49.874655Z",
     "shell.execute_reply": "2022-04-01T21:23:49.874399Z"
    }
   },
   "outputs": [
    {
     "data": {
      "text/latex": [
       "$\\displaystyle \\left[\\begin{matrix}4\\\\-3\\end{matrix}\\right]$"
      ],
      "text/plain": [
       "⎡4 ⎤\n",
       "⎢  ⎥\n",
       "⎣-3⎦"
      ]
     },
     "metadata": {},
     "output_type": "display_data"
    }
   ],
   "source": [
    "# Compose two vectors (under addition)\n",
    "display(GroupOps.compose(geo.V2(1, 2), geo.V2(3, -5)))"
   ]
  },
  {
   "cell_type": "code",
   "execution_count": 13,
   "metadata": {
    "execution": {
     "iopub.execute_input": "2022-04-01T21:23:49.876104Z",
     "iopub.status.busy": "2022-04-01T21:23:49.875950Z",
     "iopub.status.idle": "2022-04-01T21:23:50.070452Z",
     "shell.execute_reply": "2022-04-01T21:23:50.070169Z"
    }
   },
   "outputs": [
    {
     "data": {
      "text/plain": [
       "<Rot3 <Q xyzw=[0, 0, 0, 1]>>"
      ]
     },
     "metadata": {},
     "output_type": "display_data"
    }
   ],
   "source": [
    "# Compose a rotation and its inverse to get identity\n",
    "R1 = geo.Rot3.from_angle_axis(\n",
    "    angle=sm.Symbol(\"theta1\"),\n",
    "    axis=geo.V3(0, 0, 1),\n",
    ")\n",
    "display(StorageOps.simplify(GroupOps.compose(R1, R1.inverse()).simplify()))"
   ]
  },
  {
   "cell_type": "code",
   "execution_count": 14,
   "metadata": {
    "execution": {
     "iopub.execute_input": "2022-04-01T21:23:50.071999Z",
     "iopub.status.busy": "2022-04-01T21:23:50.071868Z",
     "iopub.status.idle": "2022-04-01T21:23:50.186029Z",
     "shell.execute_reply": "2022-04-01T21:23:50.185752Z"
    }
   },
   "outputs": [
    {
     "data": {
      "text/plain": [
       "<Rot3 <Q xyzw=[0, 0, sin(theta2/2), cos(theta2/2)]>>"
      ]
     },
     "metadata": {},
     "output_type": "display_data"
    },
    {
     "data": {
      "text/plain": [
       "<Rot3 <Q xyzw=[0, 0, sin(theta2/2), cos(theta2/2)]>>"
      ]
     },
     "metadata": {},
     "output_type": "display_data"
    }
   ],
   "source": [
    "# Relative rotation using `.between()`\n",
    "R2 = geo.Rot3.from_angle_axis(\n",
    "    angle=sm.Symbol(\"theta2\"),\n",
    "    axis=geo.V3(0, 0, 1),\n",
    ")\n",
    "R_delta = GroupOps.between(R1, R2)\n",
    "display(R2)\n",
    "display(StorageOps.simplify(GroupOps.compose(R1, R_delta)))"
   ]
  },
  {
   "cell_type": "markdown",
   "metadata": {},
   "source": [
    "## LieGroupOps"
   ]
  },
  {
   "cell_type": "markdown",
   "metadata": {},
   "source": [
    "[LieGroupOps](../api/symforce.ops.lie_group_ops.html): **Group that is also a differentiable manifold, such that calculus applies.**\n",
    "\n",
    "Methods: `.tangent_dim()`, `.from_tangent()`, `to_tangent()`, `.retract()`, `.local_coordinates()`, `.storage_D_tangent()`\n",
    "\n",
    "Lie group operations provide the core methods for nonlinear optimization.  \n",
    "Familiarity is not expected for all users, but learning is encouraged!"
   ]
  },
  {
   "cell_type": "code",
   "execution_count": 15,
   "metadata": {
    "execution": {
     "iopub.execute_input": "2022-04-01T21:23:50.187644Z",
     "iopub.status.busy": "2022-04-01T21:23:50.187511Z",
     "iopub.status.idle": "2022-04-01T21:23:50.194345Z",
     "shell.execute_reply": "2022-04-01T21:23:50.194059Z"
    }
   },
   "outputs": [
    {
     "data": {
      "image/png": "[encoded data removed]",
      "text/latex": [
       "$\\displaystyle 3$"
      ],
      "text/plain": [
       "3"
      ]
     },
     "metadata": {},
     "output_type": "display_data"
    }
   ],
   "source": [
    "# Underlying dimension of a 3D rotation's tangent space\n",
    "display(LieGroupOps.tangent_dim(geo.Rot3))"
   ]
  },
  {
   "cell_type": "code",
   "execution_count": 16,
   "metadata": {
    "execution": {
     "iopub.execute_input": "2022-04-01T21:23:50.195984Z",
     "iopub.status.busy": "2022-04-01T21:23:50.195841Z",
     "iopub.status.idle": "2022-04-01T21:23:50.204039Z",
     "shell.execute_reply": "2022-04-01T21:23:50.203740Z"
    }
   },
   "outputs": [
    {
     "data": {
      "text/latex": [
       "$\\displaystyle \\left[\\begin{matrix}\\cos{\\left(\\theta \\right)} & - \\sin{\\left(\\theta \\right)}\\\\\\sin{\\left(\\theta \\right)} & \\cos{\\left(\\theta \\right)}\\end{matrix}\\right]$"
      ],
      "text/plain": [
       "⎡cos(θ)  -sin(θ)⎤\n",
       "⎢               ⎥\n",
       "⎣sin(θ)  cos(θ) ⎦"
      ]
     },
     "metadata": {},
     "output_type": "display_data"
    }
   ],
   "source": [
    "# Exponential map (tangent space vector wrt identity element) for a 2D rotation\n",
    "angle = sm.Symbol(\"theta\")\n",
    "rot2 = LieGroupOps.from_tangent(geo.Rot2, [angle])\n",
    "display(rot2.to_rotation_matrix())"
   ]
  },
  {
   "cell_type": "code",
   "execution_count": 17,
   "metadata": {
    "execution": {
     "iopub.execute_input": "2022-04-01T21:23:50.205608Z",
     "iopub.status.busy": "2022-04-01T21:23:50.205475Z",
     "iopub.status.idle": "2022-04-01T21:23:50.241867Z",
     "shell.execute_reply": "2022-04-01T21:23:50.241598Z"
    }
   },
   "outputs": [
    {
     "data": {
      "image/png": "[encoded data removed]",
      "text/latex": [
       "$\\displaystyle \\left[ \\operatorname{atan_{2}}{\\left(\\sin{\\left(\\theta \\right)},\\cos{\\left(\\theta \\right)} \\right)}\\right]$"
      ],
      "text/plain": [
       "[atan2(sin(θ), cos(θ))]"
      ]
     },
     "metadata": {},
     "output_type": "display_data"
    }
   ],
   "source": [
    "# Logarithmic map (tangent space wrt identity element -> element) of the rotation\n",
    "display(LieGroupOps.to_tangent(rot2))"
   ]
  },
  {
   "cell_type": "code",
   "execution_count": 18,
   "metadata": {
    "execution": {
     "iopub.execute_input": "2022-04-01T21:23:50.243391Z",
     "iopub.status.busy": "2022-04-01T21:23:50.243261Z",
     "iopub.status.idle": "2022-04-01T21:23:50.248626Z",
     "shell.execute_reply": "2022-04-01T21:23:50.248373Z"
    }
   },
   "outputs": [
    {
     "data": {
      "text/latex": [
       "$\\displaystyle \\left[\\begin{matrix}1 & 2 & 3 & 4 & 5\\end{matrix}\\right]$"
      ],
      "text/plain": [
       "[1  2  3  4  5]"
      ]
     },
     "metadata": {},
     "output_type": "display_data"
    }
   ],
   "source": [
    "# Exponential map of a vector type is a no-op\n",
    "display(LieGroupOps.from_tangent(geo.V5(), [1, 2, 3, 4, 5]).T)"
   ]
  },
  {
   "cell_type": "code",
   "execution_count": 19,
   "metadata": {
    "execution": {
     "iopub.execute_input": "2022-04-01T21:23:50.250042Z",
     "iopub.status.busy": "2022-04-01T21:23:50.249918Z",
     "iopub.status.idle": "2022-04-01T21:23:50.262493Z",
     "shell.execute_reply": "2022-04-01T21:23:50.262240Z"
    }
   },
   "outputs": [
    {
     "data": {
      "text/latex": [
       "$\\displaystyle \\left[\\begin{matrix}- \\sin{\\left(\\delta \\right)} \\sin{\\left(\\theta \\right)} + \\cos{\\left(\\delta \\right)} \\cos{\\left(\\theta \\right)} & - \\sin{\\left(\\delta \\right)} \\cos{\\left(\\theta \\right)} - \\sin{\\left(\\theta \\right)} \\cos{\\left(\\delta \\right)}\\\\\\sin{\\left(\\delta \\right)} \\cos{\\left(\\theta \\right)} + \\sin{\\left(\\theta \\right)} \\cos{\\left(\\delta \\right)} & - \\sin{\\left(\\delta \\right)} \\sin{\\left(\\theta \\right)} + \\cos{\\left(\\delta \\right)} \\cos{\\left(\\theta \\right)}\\end{matrix}\\right]$"
      ],
      "text/plain": [
       "⎡-sin(δ)⋅sin(θ) + cos(δ)⋅cos(θ)  -sin(δ)⋅cos(θ) - sin(θ)⋅cos(δ)⎤\n",
       "⎢                                                              ⎥\n",
       "⎣sin(δ)⋅cos(θ) + sin(θ)⋅cos(δ)   -sin(δ)⋅sin(θ) + cos(δ)⋅cos(θ)⎦"
      ]
     },
     "metadata": {},
     "output_type": "display_data"
    }
   ],
   "source": [
    "# Retract perturbs the given element in the tangent space and returns the updated element\n",
    "rot2_perturbed = LieGroupOps.retract(rot2, [sm.Symbol(\"delta\")])\n",
    "display(rot2_perturbed.to_rotation_matrix())"
   ]
  },
  {
   "cell_type": "code",
   "execution_count": 20,
   "metadata": {
    "execution": {
     "iopub.execute_input": "2022-04-01T21:23:50.263917Z",
     "iopub.status.busy": "2022-04-01T21:23:50.263794Z",
     "iopub.status.idle": "2022-04-01T21:23:50.378269Z",
     "shell.execute_reply": "2022-04-01T21:23:50.377998Z"
    }
   },
   "outputs": [
    {
     "data": {
      "image/png": "[encoded data removed]",
      "text/latex": [
       "$\\displaystyle \\left[ \\operatorname{atan_{2}}{\\left(\\sin{\\left(\\delta \\right)},\\cos{\\left(\\delta \\right)} \\right)}\\right]$"
      ],
      "text/plain": [
       "[atan2(sin(δ), cos(δ))]"
      ]
     },
     "metadata": {},
     "output_type": "display_data"
    }
   ],
   "source": [
    "# Local coordinates compute the tangent space perturbation between one element and another\n",
    "display(StorageOps.simplify(LieGroupOps.local_coordinates(rot2, rot2_perturbed)))"
   ]
  },
  {
   "cell_type": "code",
   "execution_count": 21,
   "metadata": {
    "execution": {
     "iopub.execute_input": "2022-04-01T21:23:50.379804Z",
     "iopub.status.busy": "2022-04-01T21:23:50.379673Z",
     "iopub.status.idle": "2022-04-01T21:23:50.385196Z",
     "shell.execute_reply": "2022-04-01T21:23:50.384942Z"
    }
   },
   "outputs": [
    {
     "data": {
      "text/latex": [
       "$\\displaystyle \\left[\\begin{matrix}- \\sin{\\left(\\theta \\right)}\\\\\\cos{\\left(\\theta \\right)}\\end{matrix}\\right]$"
      ],
      "text/plain": [
       "⎡-sin(θ)⎤\n",
       "⎢       ⎥\n",
       "⎣cos(θ) ⎦"
      ]
     },
     "metadata": {},
     "output_type": "display_data"
    }
   ],
   "source": [
    "# storage_D_tangent computes the jacobian of the storage space of an object with respect to\n",
    "# the tangent space around the element.\n",
    "\n",
    "# A 2D rotation is represented by a complex number, so storage_D_tangent represents how\n",
    "# that complex number will change given an infinitesimal perturbation in the tangent space\n",
    "display(LieGroupOps.storage_D_tangent(rot2))"
   ]
  },
  {
   "cell_type": "markdown",
   "metadata": {},
   "source": [
    "Using symbolic geometric types and concepts is already very powerful for development and analysis of robotics, but operating on symbolic objects at runtime is much too slow for most applications. However, symbolic expressions can be beautifully set to fast runtime code."
   ]
  }
 ],
 "metadata": {
  "kernelspec": {
   "display_name": "Python 3",
   "language": "python",
   "name": "python3"
  },
  "language_info": {
   "codemirror_mode": {
    "name": "ipython",
    "version": 3
   },
   "file_extension": ".py",
   "mimetype": "text/x-python",
   "name": "python",
   "nbconvert_exporter": "python",
   "pygments_lexer": "ipython3",
   "version": "3.9.2"
  }
 },
 "nbformat": 4,
 "nbformat_minor": 2
}
