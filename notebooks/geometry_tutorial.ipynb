{
 "cells": [
  {
   "cell_type": "markdown",
   "metadata": {},
   "source": [
    "# Geometry Tutorial"
   ]
  },
  {
   "cell_type": "markdown",
   "metadata": {},
   "source": [
    "This is an introductory walkthrough of the symbolic [geometry package](../api/symforce.geo.html) in symforce. Symforce natively contains the following geometry objects: complex numbers, quaternions, dual quaternions, matrices, 2D and 3D rotations, and 2D and 3D poses (translation + rotation).\n",
    "\n",
    "In this tutorial we will demonstrate a few of the ways these geometry objects can be constructed and composed. Here we pay special attention to 3D rotations, poses, and vectors, as they are typically the most commonly used geometric objects."
   ]
  },
  {
   "cell_type": "code",
   "execution_count": 1,
   "metadata": {
    "execution": {
     "iopub.execute_input": "2022-05-10T03:09:16.968154Z",
     "iopub.status.busy": "2022-05-10T03:09:16.968043Z",
     "iopub.status.idle": "2022-05-10T03:09:17.226733Z",
     "shell.execute_reply": "2022-05-10T03:09:17.226289Z"
    }
   },
   "outputs": [],
   "source": [
    "# Setup\n",
    "import symforce\n",
    "\n",
    "symforce.set_backend(\"sympy\")\n",
    "symforce.set_log_level(\"warning\")\n",
    "\n",
    "from symforce.notebook_util import display\n",
    "from symforce import sympy as sm\n",
    "from symforce import geo\n",
    "from symforce import ops"
   ]
  },
  {
   "cell_type": "markdown",
   "metadata": {},
   "source": [
    "## Rotations"
   ]
  },
  {
   "cell_type": "markdown",
   "metadata": {},
   "source": [
    "Rotations can be defined from and converted to a number of different representations as shown below, but always use a quaternion as the underlying representation. We use the notation world_R_body to represent a rotation that rotates a point written in the body frame into the world frame.\n",
    "\n",
    "Note that in some cases a small epsilon can be provided to prevent numerical errors (e.g. division by zero) when converting to/from rotation representations. Furthermore, converting between certain representations can require additional symbolic expressions to guard against degenerate cases. For example, a rotation constructed from a rotation matrix results in more complexity than when constructed using an axis-angle representation as shown below."
   ]
  },
  {
   "cell_type": "code",
   "execution_count": 2,
   "metadata": {
    "execution": {
     "iopub.execute_input": "2022-05-10T03:09:17.228419Z",
     "iopub.status.busy": "2022-05-10T03:09:17.228330Z",
     "iopub.status.idle": "2022-05-10T03:09:17.231999Z",
     "shell.execute_reply": "2022-05-10T03:09:17.231788Z"
    }
   },
   "outputs": [
    {
     "data": {
      "text/plain": [
       "<Rot3 <Q xyzw=[0, 0, 0, 1]>>"
      ]
     },
     "metadata": {},
     "output_type": "display_data"
    }
   ],
   "source": [
    "# Identity definition\n",
    "display(geo.Rot3())"
   ]
  },
  {
   "cell_type": "code",
   "execution_count": 3,
   "metadata": {
    "execution": {
     "iopub.execute_input": "2022-05-10T03:09:17.233343Z",
     "iopub.status.busy": "2022-05-10T03:09:17.233260Z",
     "iopub.status.idle": "2022-05-10T03:09:17.235638Z",
     "shell.execute_reply": "2022-05-10T03:09:17.235435Z"
    }
   },
   "outputs": [
    {
     "data": {
      "text/plain": [
       "<Rot3 <Q xyzw=[R_x, R_y, R_z, R_w]>>"
      ]
     },
     "metadata": {},
     "output_type": "display_data"
    }
   ],
   "source": [
    "# Symbolic definition\n",
    "display(geo.Rot3.symbolic(\"R\"))"
   ]
  },
  {
   "cell_type": "code",
   "execution_count": 4,
   "metadata": {
    "execution": {
     "iopub.execute_input": "2022-05-10T03:09:17.236952Z",
     "iopub.status.busy": "2022-05-10T03:09:17.236815Z",
     "iopub.status.idle": "2022-05-10T03:09:20.978364Z",
     "shell.execute_reply": "2022-05-10T03:09:20.977912Z"
    }
   },
   "outputs": [
    {
     "data": {
      "text/latex": [
       "$\\displaystyle \\left[\\begin{matrix}1 & 0 & 0\\\\0 & \\cos{\\left(\\theta \\right)} & - \\sin{\\left(\\theta \\right)}\\\\0 & \\sin{\\left(\\theta \\right)} & \\cos{\\left(\\theta \\right)}\\end{matrix}\\right]$"
      ],
      "text/plain": [
       "⎡1    0        0   ⎤\n",
       "⎢                  ⎥\n",
       "⎢0  cos(θ)  -sin(θ)⎥\n",
       "⎢                  ⎥\n",
       "⎣0  sin(θ)  cos(θ) ⎦"
      ]
     },
     "metadata": {},
     "output_type": "display_data"
    },
    {
     "data": {
      "text/plain": [
       "<Rot3 <Q xyzw=[(1 - Max(0, sign(Max(1, 2*cos(theta) + 1, cos(theta)) - 1)))*(sqrt(Max(0, 2 - 2*cos(theta)))/2 + Max(0, sign(Max(1, 2*cos(theta) + 1, cos(theta)) - 1))/2) + 2*sin(theta)*Min(1 - Max(0, sign(-2*cos(theta) + Max(1, 2*cos(theta) + 1, cos(theta)) - 1)), 1 - Max(0, 1 - Max(0, sign(Max(1, 2*cos(theta) + 1, cos(theta)) - 1)), Min(1 - Max(0, sign(-cos(theta) + Max(1, 2*cos(theta) + 1, cos(theta)))), Max(1 - Max(0, 1 - Max(0, sign(Max(1, 2*cos(theta) + 1, cos(theta)) - 1))), 1 - Max(0, 1 - Max(0, sign(Max(1, 2*cos(theta) + 1, cos(theta)) - 1)), Min(1 - Max(0, 1 - Max(0, sign(Max(1, 2*cos(theta) + 1, cos(theta)) - 1))), 1 - Max(0, sign(-cos(theta) + Max(1, 2*cos(theta) + 1, cos(theta))))))))))/(2*sqrt(Max(0, 2*cos(theta) + 2)) - 2*Min(1 - Max(0, sign(-2*cos(theta) + Max(1, 2*cos(theta) + 1, cos(theta)) - 1)), 1 - Max(0, 1 - Max(0, sign(Max(1, 2*cos(theta) + 1, cos(theta)) - 1)), Min(1 - Max(0, sign(-cos(theta) + Max(1, 2*cos(theta) + 1, cos(theta)))), Max(1 - Max(0, 1 - Max(0, sign(Max(1, 2*cos(theta) + 1, cos(theta)) - 1))), 1 - Max(0, 1 - Max(0, sign(Max(1, 2*cos(theta) + 1, cos(theta)) - 1)), Min(1 - Max(0, 1 - Max(0, sign(Max(1, 2*cos(theta) + 1, cos(theta)) - 1))), 1 - Max(0, sign(-cos(theta) + Max(1, 2*cos(theta) + 1, cos(theta)))))))))) + 2), (1/2 - Min(1 - Max(0, 1 - Max(0, sign(Max(1, 2*cos(theta) + 1, cos(theta)) - 1))), 1 - Max(0, sign(-cos(theta) + Max(1, 2*cos(theta) + 1, cos(theta)))))/2)*Min(1 - Max(0, 1 - Max(0, sign(Max(1, 2*cos(theta) + 1, cos(theta)) - 1))), 1 - Max(0, sign(-cos(theta) + Max(1, 2*cos(theta) + 1, cos(theta))))), (1/2 - Min(1 - Max(0, sign(-cos(theta) + Max(1, 2*cos(theta) + 1, cos(theta)))), 1 - Max(0, 1 - Max(0, sign(Max(1, 2*cos(theta) + 1, cos(theta)) - 1)), Min(1 - Max(0, 1 - Max(0, sign(Max(1, 2*cos(theta) + 1, cos(theta)) - 1))), 1 - Max(0, sign(-cos(theta) + Max(1, 2*cos(theta) + 1, cos(theta)))))))/2)*Min(1 - Max(0, sign(-cos(theta) + Max(1, 2*cos(theta) + 1, cos(theta)))), 1 - Max(0, 1 - Max(0, sign(Max(1, 2*cos(theta) + 1, cos(theta)) - 1)), Min(1 - Max(0, 1 - Max(0, sign(Max(1, 2*cos(theta) + 1, cos(theta)) - 1))), 1 - Max(0, sign(-cos(theta) + Max(1, 2*cos(theta) + 1, cos(theta))))))), 2*(1 - Max(0, sign(Max(1, 2*cos(theta) + 1, cos(theta)) - 1)))*sin(theta)/(2*sqrt(Max(0, 2 - 2*cos(theta))) + 2*Max(0, sign(Max(1, 2*cos(theta) + 1, cos(theta)) - 1))) + (sqrt(Max(0, 2*cos(theta) + 2))/2 - Min(1 - Max(0, sign(-2*cos(theta) + Max(1, 2*cos(theta) + 1, cos(theta)) - 1)), 1 - Max(0, 1 - Max(0, sign(Max(1, 2*cos(theta) + 1, cos(theta)) - 1)), Min(1 - Max(0, sign(-cos(theta) + Max(1, 2*cos(theta) + 1, cos(theta)))), Max(1 - Max(0, 1 - Max(0, sign(Max(1, 2*cos(theta) + 1, cos(theta)) - 1))), 1 - Max(0, 1 - Max(0, sign(Max(1, 2*cos(theta) + 1, cos(theta)) - 1)), Min(1 - Max(0, 1 - Max(0, sign(Max(1, 2*cos(theta) + 1, cos(theta)) - 1))), 1 - Max(0, sign(-cos(theta) + Max(1, 2*cos(theta) + 1, cos(theta))))))))))/2 + 1/2)*Min(1 - Max(0, sign(-2*cos(theta) + Max(1, 2*cos(theta) + 1, cos(theta)) - 1)), 1 - Max(0, 1 - Max(0, sign(Max(1, 2*cos(theta) + 1, cos(theta)) - 1)), Min(1 - Max(0, sign(-cos(theta) + Max(1, 2*cos(theta) + 1, cos(theta)))), Max(1 - Max(0, 1 - Max(0, sign(Max(1, 2*cos(theta) + 1, cos(theta)) - 1))), 1 - Max(0, 1 - Max(0, sign(Max(1, 2*cos(theta) + 1, cos(theta)) - 1)), Min(1 - Max(0, 1 - Max(0, sign(Max(1, 2*cos(theta) + 1, cos(theta)) - 1))), 1 - Max(0, sign(-cos(theta) + Max(1, 2*cos(theta) + 1, cos(theta))))))))))]>>"
      ]
     },
     "metadata": {},
     "output_type": "display_data"
    },
    {
     "data": {
      "text/latex": [
       "$\\displaystyle \\left[\\begin{matrix}- 2 \\left(\\frac{1}{2} - \\frac{\\min\\left(1 - \\max\\left(0, 1 - \\max\\left(0, \\operatorname{sign}{\\left(\\max\\left(1, 2 \\cos{\\left(\\theta \\right)} + 1, \\cos{\\left(\\theta \\right)}\\right) - 1 \\right)}\\right)\\right), 1 - \\max\\left(0, \\operatorname{sign}{\\left(- \\cos{\\left(\\theta \\right)} + \\max\\left(1, 2 \\cos{\\left(\\theta \\right)} + 1, \\cos{\\left(\\theta \\right)}\\right) \\right)}\\right)\\right)}{2}\\right)^{2} \\min\\left(1 - \\max\\left(0, 1 - \\max\\left(0, \\operatorname{sign}{\\left(\\max\\left(1, 2 \\cos{\\left(\\theta \\right)} + 1, \\cos{\\left(\\theta \\right)}\\right) - 1 \\right)}\\right)\\right), 1 - \\max\\left(0, \\operatorname{sign}{\\left(- \\cos{\\left(\\theta \\right)} + \\max\\left(1, 2 \\cos{\\left(\\theta \\right)} + 1, \\cos{\\left(\\theta \\right)}\\right) \\right)}\\right)\\right)^{2} - 2 \\left(\\frac{1}{2} - \\frac{\\min\\left(1 - \\max\\left(0, \\operatorname{sign}{\\left(- \\cos{\\left(\\theta \\right)} + \\max\\left(1, 2 \\cos{\\left(\\theta \\right)} + 1, \\cos{\\left(\\theta \\right)}\\right) \\right)}\\right), 1 - \\max\\left(0, 1 - \\max\\left(0, \\operatorname{sign}{\\left(\\max\\left(1, 2 \\cos{\\left(\\theta \\right)} + 1, \\cos{\\left(\\theta \\right)}\\right) - 1 \\right)}\\right), \\min\\left(1 - \\max\\left(0, 1 - \\max\\left(0, \\operatorname{sign}{\\left(\\max\\left(1, 2 \\cos{\\left(\\theta \\right)} + 1, \\cos{\\left(\\theta \\right)}\\right) - 1 \\right)}\\right)\\right), 1 - \\max\\left(0, \\operatorname{sign}{\\left(- \\cos{\\left(\\theta \\right)} + \\max\\left(1, 2 \\cos{\\left(\\theta \\right)} + 1, \\cos{\\left(\\theta \\right)}\\right) \\right)}\\right)\\right)\\right)\\right)}{2}\\right)^{2} \\min\\left(1 - \\max\\left(0, \\operatorname{sign}{\\left(- \\cos{\\left(\\theta \\right)} + \\max\\left(1, 2 \\cos{\\left(\\theta \\right)} + 1, \\cos{\\left(\\theta \\right)}\\right) \\right)}\\right), 1 - \\max\\left(0, 1 - \\max\\left(0, \\operatorname{sign}{\\left(\\max\\left(1, 2 \\cos{\\left(\\theta \\right)} + 1, \\cos{\\left(\\theta \\right)}\\right) - 1 \\right)}\\right), \\min\\left(1 - \\max\\left(0, 1 - \\max\\left(0, \\operatorname{sign}{\\left(\\max\\left(1, 2 \\cos{\\left(\\theta \\right)} + 1, \\cos{\\left(\\theta \\right)}\\right) - 1 \\right)}\\right)\\right), 1 - \\max\\left(0, \\operatorname{sign}{\\left(- \\cos{\\left(\\theta \\right)} + \\max\\left(1, 2 \\cos{\\left(\\theta \\right)} + 1, \\cos{\\left(\\theta \\right)}\\right) \\right)}\\right)\\right)\\right)\\right)^{2} + 1 & \\left(\\frac{1}{2} - \\frac{\\min\\left(1 - \\max\\left(0, 1 - \\max\\left(0, \\operatorname{sign}{\\left(\\max\\left(1, 2 \\cos{\\left(\\theta \\right)} + 1, \\cos{\\left(\\theta \\right)}\\right) - 1 \\right)}\\right)\\right), 1 - \\max\\left(0, \\operatorname{sign}{\\left(- \\cos{\\left(\\theta \\right)} + \\max\\left(1, 2 \\cos{\\left(\\theta \\right)} + 1, \\cos{\\left(\\theta \\right)}\\right) \\right)}\\right)\\right)}{2}\\right) \\left(2 \\cdot \\left(1 - \\max\\left(0, \\operatorname{sign}{\\left(\\max\\left(1, 2 \\cos{\\left(\\theta \\right)} + 1, \\cos{\\left(\\theta \\right)}\\right) - 1 \\right)}\\right)\\right) \\left(\\frac{\\sqrt{\\max\\left(0, 2 - 2 \\cos{\\left(\\theta \\right)}\\right)}}{2} + \\frac{\\max\\left(0, \\operatorname{sign}{\\left(\\max\\left(1, 2 \\cos{\\left(\\theta \\right)} + 1, \\cos{\\left(\\theta \\right)}\\right) - 1 \\right)}\\right)}{2}\\right) + \\frac{4 \\sin{\\left(\\theta \\right)} \\min\\left(1 - \\max\\left(0, \\operatorname{sign}{\\left(- 2 \\cos{\\left(\\theta \\right)} + \\max\\left(1, 2 \\cos{\\left(\\theta \\right)} + 1, \\cos{\\left(\\theta \\right)}\\right) - 1 \\right)}\\right), 1 - \\max\\left(0, 1 - \\max\\left(0, \\operatorname{sign}{\\left(\\max\\left(1, 2 \\cos{\\left(\\theta \\right)} + 1, \\cos{\\left(\\theta \\right)}\\right) - 1 \\right)}\\right), \\min\\left(1 - \\max\\left(0, \\operatorname{sign}{\\left(- \\cos{\\left(\\theta \\right)} + \\max\\left(1, 2 \\cos{\\left(\\theta \\right)} + 1, \\cos{\\left(\\theta \\right)}\\right) \\right)}\\right), \\max\\left(1 - \\max\\left(0, 1 - \\max\\left(0, \\operatorname{sign}{\\left(\\max\\left(1, 2 \\cos{\\left(\\theta \\right)} + 1, \\cos{\\left(\\theta \\right)}\\right) - 1 \\right)}\\right)\\right), 1 - \\max\\left(0, 1 - \\max\\left(0, \\operatorname{sign}{\\left(\\max\\left(1, 2 \\cos{\\left(\\theta \\right)} + 1, \\cos{\\left(\\theta \\right)}\\right) - 1 \\right)}\\right), \\min\\left(1 - \\max\\left(0, 1 - \\max\\left(0, \\operatorname{sign}{\\left(\\max\\left(1, 2 \\cos{\\left(\\theta \\right)} + 1, \\cos{\\left(\\theta \\right)}\\right) - 1 \\right)}\\right)\\right), 1 - \\max\\left(0, \\operatorname{sign}{\\left(- \\cos{\\left(\\theta \\right)} + \\max\\left(1, 2 \\cos{\\left(\\theta \\right)} + 1, \\cos{\\left(\\theta \\right)}\\right) \\right)}\\right)\\right)\\right)\\right)\\right)\\right)\\right)}{2 \\sqrt{\\max\\left(0, 2 \\cos{\\left(\\theta \\right)} + 2\\right)} - 2 \\min\\left(1 - \\max\\left(0, \\operatorname{sign}{\\left(- 2 \\cos{\\left(\\theta \\right)} + \\max\\left(1, 2 \\cos{\\left(\\theta \\right)} + 1, \\cos{\\left(\\theta \\right)}\\right) - 1 \\right)}\\right), 1 - \\max\\left(0, 1 - \\max\\left(0, \\operatorname{sign}{\\left(\\max\\left(1, 2 \\cos{\\left(\\theta \\right)} + 1, \\cos{\\left(\\theta \\right)}\\right) - 1 \\right)}\\right), \\min\\left(1 - \\max\\left(0, \\operatorname{sign}{\\left(- \\cos{\\left(\\theta \\right)} + \\max\\left(1, 2 \\cos{\\left(\\theta \\right)} + 1, \\cos{\\left(\\theta \\right)}\\right) \\right)}\\right), \\max\\left(1 - \\max\\left(0, 1 - \\max\\left(0, \\operatorname{sign}{\\left(\\max\\left(1, 2 \\cos{\\left(\\theta \\right)} + 1, \\cos{\\left(\\theta \\right)}\\right) - 1 \\right)}\\right)\\right), 1 - \\max\\left(0, 1 - \\max\\left(0, \\operatorname{sign}{\\left(\\max\\left(1, 2 \\cos{\\left(\\theta \\right)} + 1, \\cos{\\left(\\theta \\right)}\\right) - 1 \\right)}\\right), \\min\\left(1 - \\max\\left(0, 1 - \\max\\left(0, \\operatorname{sign}{\\left(\\max\\left(1, 2 \\cos{\\left(\\theta \\right)} + 1, \\cos{\\left(\\theta \\right)}\\right) - 1 \\right)}\\right)\\right), 1 - \\max\\left(0, \\operatorname{sign}{\\left(- \\cos{\\left(\\theta \\right)} + \\max\\left(1, 2 \\cos{\\left(\\theta \\right)} + 1, \\cos{\\left(\\theta \\right)}\\right) \\right)}\\right)\\right)\\right)\\right)\\right)\\right)\\right) + 2}\\right) \\min\\left(1 - \\max\\left(0, 1 - \\max\\left(0, \\operatorname{sign}{\\left(\\max\\left(1, 2 \\cos{\\left(\\theta \\right)} + 1, \\cos{\\left(\\theta \\right)}\\right) - 1 \\right)}\\right)\\right), 1 - \\max\\left(0, \\operatorname{sign}{\\left(- \\cos{\\left(\\theta \\right)} + \\max\\left(1, 2 \\cos{\\left(\\theta \\right)} + 1, \\cos{\\left(\\theta \\right)}\\right) \\right)}\\right)\\right) - 2 \\cdot \\left(\\frac{1}{2} - \\frac{\\min\\left(1 - \\max\\left(0, \\operatorname{sign}{\\left(- \\cos{\\left(\\theta \\right)} + \\max\\left(1, 2 \\cos{\\left(\\theta \\right)} + 1, \\cos{\\left(\\theta \\right)}\\right) \\right)}\\right), 1 - \\max\\left(0, 1 - \\max\\left(0, \\operatorname{sign}{\\left(\\max\\left(1, 2 \\cos{\\left(\\theta \\right)} + 1, \\cos{\\left(\\theta \\right)}\\right) - 1 \\right)}\\right), \\min\\left(1 - \\max\\left(0, 1 - \\max\\left(0, \\operatorname{sign}{\\left(\\max\\left(1, 2 \\cos{\\left(\\theta \\right)} + 1, \\cos{\\left(\\theta \\right)}\\right) - 1 \\right)}\\right)\\right), 1 - \\max\\left(0, \\operatorname{sign}{\\left(- \\cos{\\left(\\theta \\right)} + \\max\\left(1, 2 \\cos{\\left(\\theta \\right)} + 1, \\cos{\\left(\\theta \\right)}\\right) \\right)}\\right)\\right)\\right)\\right)}{2}\\right) \\left(\\frac{2 \\cdot \\left(1 - \\max\\left(0, \\operatorname{sign}{\\left(\\max\\left(1, 2 \\cos{\\left(\\theta \\right)} + 1, \\cos{\\left(\\theta \\right)}\\right) - 1 \\right)}\\right)\\right) \\sin{\\left(\\theta \\right)}}{2 \\sqrt{\\max\\left(0, 2 - 2 \\cos{\\left(\\theta \\right)}\\right)} + 2 \\max\\left(0, \\operatorname{sign}{\\left(\\max\\left(1, 2 \\cos{\\left(\\theta \\right)} + 1, \\cos{\\left(\\theta \\right)}\\right) - 1 \\right)}\\right)} + \\left(\\frac{\\sqrt{\\max\\left(0, 2 \\cos{\\left(\\theta \\right)} + 2\\right)}}{2} - \\frac{\\min\\left(1 - \\max\\left(0, \\operatorname{sign}{\\left(- 2 \\cos{\\left(\\theta \\right)} + \\max\\left(1, 2 \\cos{\\left(\\theta \\right)} + 1, \\cos{\\left(\\theta \\right)}\\right) - 1 \\right)}\\right), 1 - \\max\\left(0, 1 - \\max\\left(0, \\operatorname{sign}{\\left(\\max\\left(1, 2 \\cos{\\left(\\theta \\right)} + 1, \\cos{\\left(\\theta \\right)}\\right) - 1 \\right)}\\right), \\min\\left(1 - \\max\\left(0, \\operatorname{sign}{\\left(- \\cos{\\left(\\theta \\right)} + \\max\\left(1, 2 \\cos{\\left(\\theta \\right)} + 1, \\cos{\\left(\\theta \\right)}\\right) \\right)}\\right), \\max\\left(1 - \\max\\left(0, 1 - \\max\\left(0, \\operatorname{sign}{\\left(\\max\\left(1, 2 \\cos{\\left(\\theta \\right)} + 1, \\cos{\\left(\\theta \\right)}\\right) - 1 \\right)}\\right)\\right), 1 - \\max\\left(0, 1 - \\max\\left(0, \\operatorname{sign}{\\left(\\max\\left(1, 2 \\cos{\\left(\\theta \\right)} + 1, \\cos{\\left(\\theta \\right)}\\right) - 1 \\right)}\\right), \\min\\left(1 - \\max\\left(0, 1 - \\max\\left(0, \\operatorname{sign}{\\left(\\max\\left(1, 2 \\cos{\\left(\\theta \\right)} + 1, \\cos{\\left(\\theta \\right)}\\right) - 1 \\right)}\\right)\\right), 1 - \\max\\left(0, \\operatorname{sign}{\\left(- \\cos{\\left(\\theta \\right)} + \\max\\left(1, 2 \\cos{\\left(\\theta \\right)} + 1, \\cos{\\left(\\theta \\right)}\\right) \\right)}\\right)\\right)\\right)\\right)\\right)\\right)\\right)}{2} + \\frac{1}{2}\\right) \\min\\left(1 - \\max\\left(0, \\operatorname{sign}{\\left(- 2 \\cos{\\left(\\theta \\right)} + \\max\\left(1, 2 \\cos{\\left(\\theta \\right)} + 1, \\cos{\\left(\\theta \\right)}\\right) - 1 \\right)}\\right), 1 - \\max\\left(0, 1 - \\max\\left(0, \\operatorname{sign}{\\left(\\max\\left(1, 2 \\cos{\\left(\\theta \\right)} + 1, \\cos{\\left(\\theta \\right)}\\right) - 1 \\right)}\\right), \\min\\left(1 - \\max\\left(0, \\operatorname{sign}{\\left(- \\cos{\\left(\\theta \\right)} + \\max\\left(1, 2 \\cos{\\left(\\theta \\right)} + 1, \\cos{\\left(\\theta \\right)}\\right) \\right)}\\right), \\max\\left(1 - \\max\\left(0, 1 - \\max\\left(0, \\operatorname{sign}{\\left(\\max\\left(1, 2 \\cos{\\left(\\theta \\right)} + 1, \\cos{\\left(\\theta \\right)}\\right) - 1 \\right)}\\right)\\right), 1 - \\max\\left(0, 1 - \\max\\left(0, \\operatorname{sign}{\\left(\\max\\left(1, 2 \\cos{\\left(\\theta \\right)} + 1, \\cos{\\left(\\theta \\right)}\\right) - 1 \\right)}\\right), \\min\\left(1 - \\max\\left(0, 1 - \\max\\left(0, \\operatorname{sign}{\\left(\\max\\left(1, 2 \\cos{\\left(\\theta \\right)} + 1, \\cos{\\left(\\theta \\right)}\\right) - 1 \\right)}\\right)\\right), 1 - \\max\\left(0, \\operatorname{sign}{\\left(- \\cos{\\left(\\theta \\right)} + \\max\\left(1, 2 \\cos{\\left(\\theta \\right)} + 1, \\cos{\\left(\\theta \\right)}\\right) \\right)}\\right)\\right)\\right)\\right)\\right)\\right)\\right)\\right) \\min\\left(1 - \\max\\left(0, \\operatorname{sign}{\\left(- \\cos{\\left(\\theta \\right)} + \\max\\left(1, 2 \\cos{\\left(\\theta \\right)} + 1, \\cos{\\left(\\theta \\right)}\\right) \\right)}\\right), 1 - \\max\\left(0, 1 - \\max\\left(0, \\operatorname{sign}{\\left(\\max\\left(1, 2 \\cos{\\left(\\theta \\right)} + 1, \\cos{\\left(\\theta \\right)}\\right) - 1 \\right)}\\right), \\min\\left(1 - \\max\\left(0, 1 - \\max\\left(0, \\operatorname{sign}{\\left(\\max\\left(1, 2 \\cos{\\left(\\theta \\right)} + 1, \\cos{\\left(\\theta \\right)}\\right) - 1 \\right)}\\right)\\right), 1 - \\max\\left(0, \\operatorname{sign}{\\left(- \\cos{\\left(\\theta \\right)} + \\max\\left(1, 2 \\cos{\\left(\\theta \\right)} + 1, \\cos{\\left(\\theta \\right)}\\right) \\right)}\\right)\\right)\\right)\\right) & 2 \\cdot \\left(\\frac{1}{2} - \\frac{\\min\\left(1 - \\max\\left(0, 1 - \\max\\left(0, \\operatorname{sign}{\\left(\\max\\left(1, 2 \\cos{\\left(\\theta \\right)} + 1, \\cos{\\left(\\theta \\right)}\\right) - 1 \\right)}\\right)\\right), 1 - \\max\\left(0, \\operatorname{sign}{\\left(- \\cos{\\left(\\theta \\right)} + \\max\\left(1, 2 \\cos{\\left(\\theta \\right)} + 1, \\cos{\\left(\\theta \\right)}\\right) \\right)}\\right)\\right)}{2}\\right) \\left(\\frac{2 \\cdot \\left(1 - \\max\\left(0, \\operatorname{sign}{\\left(\\max\\left(1, 2 \\cos{\\left(\\theta \\right)} + 1, \\cos{\\left(\\theta \\right)}\\right) - 1 \\right)}\\right)\\right) \\sin{\\left(\\theta \\right)}}{2 \\sqrt{\\max\\left(0, 2 - 2 \\cos{\\left(\\theta \\right)}\\right)} + 2 \\max\\left(0, \\operatorname{sign}{\\left(\\max\\left(1, 2 \\cos{\\left(\\theta \\right)} + 1, \\cos{\\left(\\theta \\right)}\\right) - 1 \\right)}\\right)} + \\left(\\frac{\\sqrt{\\max\\left(0, 2 \\cos{\\left(\\theta \\right)} + 2\\right)}}{2} - \\frac{\\min\\left(1 - \\max\\left(0, \\operatorname{sign}{\\left(- 2 \\cos{\\left(\\theta \\right)} + \\max\\left(1, 2 \\cos{\\left(\\theta \\right)} + 1, \\cos{\\left(\\theta \\right)}\\right) - 1 \\right)}\\right), 1 - \\max\\left(0, 1 - \\max\\left(0, \\operatorname{sign}{\\left(\\max\\left(1, 2 \\cos{\\left(\\theta \\right)} + 1, \\cos{\\left(\\theta \\right)}\\right) - 1 \\right)}\\right), \\min\\left(1 - \\max\\left(0, \\operatorname{sign}{\\left(- \\cos{\\left(\\theta \\right)} + \\max\\left(1, 2 \\cos{\\left(\\theta \\right)} + 1, \\cos{\\left(\\theta \\right)}\\right) \\right)}\\right), \\max\\left(1 - \\max\\left(0, 1 - \\max\\left(0, \\operatorname{sign}{\\left(\\max\\left(1, 2 \\cos{\\left(\\theta \\right)} + 1, \\cos{\\left(\\theta \\right)}\\right) - 1 \\right)}\\right)\\right), 1 - \\max\\left(0, 1 - \\max\\left(0, \\operatorname{sign}{\\left(\\max\\left(1, 2 \\cos{\\left(\\theta \\right)} + 1, \\cos{\\left(\\theta \\right)}\\right) - 1 \\right)}\\right), \\min\\left(1 - \\max\\left(0, 1 - \\max\\left(0, \\operatorname{sign}{\\left(\\max\\left(1, 2 \\cos{\\left(\\theta \\right)} + 1, \\cos{\\left(\\theta \\right)}\\right) - 1 \\right)}\\right)\\right), 1 - \\max\\left(0, \\operatorname{sign}{\\left(- \\cos{\\left(\\theta \\right)} + \\max\\left(1, 2 \\cos{\\left(\\theta \\right)} + 1, \\cos{\\left(\\theta \\right)}\\right) \\right)}\\right)\\right)\\right)\\right)\\right)\\right)\\right)}{2} + \\frac{1}{2}\\right) \\min\\left(1 - \\max\\left(0, \\operatorname{sign}{\\left(- 2 \\cos{\\left(\\theta \\right)} + \\max\\left(1, 2 \\cos{\\left(\\theta \\right)} + 1, \\cos{\\left(\\theta \\right)}\\right) - 1 \\right)}\\right), 1 - \\max\\left(0, 1 - \\max\\left(0, \\operatorname{sign}{\\left(\\max\\left(1, 2 \\cos{\\left(\\theta \\right)} + 1, \\cos{\\left(\\theta \\right)}\\right) - 1 \\right)}\\right), \\min\\left(1 - \\max\\left(0, \\operatorname{sign}{\\left(- \\cos{\\left(\\theta \\right)} + \\max\\left(1, 2 \\cos{\\left(\\theta \\right)} + 1, \\cos{\\left(\\theta \\right)}\\right) \\right)}\\right), \\max\\left(1 - \\max\\left(0, 1 - \\max\\left(0, \\operatorname{sign}{\\left(\\max\\left(1, 2 \\cos{\\left(\\theta \\right)} + 1, \\cos{\\left(\\theta \\right)}\\right) - 1 \\right)}\\right)\\right), 1 - \\max\\left(0, 1 - \\max\\left(0, \\operatorname{sign}{\\left(\\max\\left(1, 2 \\cos{\\left(\\theta \\right)} + 1, \\cos{\\left(\\theta \\right)}\\right) - 1 \\right)}\\right), \\min\\left(1 - \\max\\left(0, 1 - \\max\\left(0, \\operatorname{sign}{\\left(\\max\\left(1, 2 \\cos{\\left(\\theta \\right)} + 1, \\cos{\\left(\\theta \\right)}\\right) - 1 \\right)}\\right)\\right), 1 - \\max\\left(0, \\operatorname{sign}{\\left(- \\cos{\\left(\\theta \\right)} + \\max\\left(1, 2 \\cos{\\left(\\theta \\right)} + 1, \\cos{\\left(\\theta \\right)}\\right) \\right)}\\right)\\right)\\right)\\right)\\right)\\right)\\right)\\right) \\min\\left(1 - \\max\\left(0, 1 - \\max\\left(0, \\operatorname{sign}{\\left(\\max\\left(1, 2 \\cos{\\left(\\theta \\right)} + 1, \\cos{\\left(\\theta \\right)}\\right) - 1 \\right)}\\right)\\right), 1 - \\max\\left(0, \\operatorname{sign}{\\left(- \\cos{\\left(\\theta \\right)} + \\max\\left(1, 2 \\cos{\\left(\\theta \\right)} + 1, \\cos{\\left(\\theta \\right)}\\right) \\right)}\\right)\\right) + \\left(\\frac{1}{2} - \\frac{\\min\\left(1 - \\max\\left(0, \\operatorname{sign}{\\left(- \\cos{\\left(\\theta \\right)} + \\max\\left(1, 2 \\cos{\\left(\\theta \\right)} + 1, \\cos{\\left(\\theta \\right)}\\right) \\right)}\\right), 1 - \\max\\left(0, 1 - \\max\\left(0, \\operatorname{sign}{\\left(\\max\\left(1, 2 \\cos{\\left(\\theta \\right)} + 1, \\cos{\\left(\\theta \\right)}\\right) - 1 \\right)}\\right), \\min\\left(1 - \\max\\left(0, 1 - \\max\\left(0, \\operatorname{sign}{\\left(\\max\\left(1, 2 \\cos{\\left(\\theta \\right)} + 1, \\cos{\\left(\\theta \\right)}\\right) - 1 \\right)}\\right)\\right), 1 - \\max\\left(0, \\operatorname{sign}{\\left(- \\cos{\\left(\\theta \\right)} + \\max\\left(1, 2 \\cos{\\left(\\theta \\right)} + 1, \\cos{\\left(\\theta \\right)}\\right) \\right)}\\right)\\right)\\right)\\right)}{2}\\right) \\left(2 \\cdot \\left(1 - \\max\\left(0, \\operatorname{sign}{\\left(\\max\\left(1, 2 \\cos{\\left(\\theta \\right)} + 1, \\cos{\\left(\\theta \\right)}\\right) - 1 \\right)}\\right)\\right) \\left(\\frac{\\sqrt{\\max\\left(0, 2 - 2 \\cos{\\left(\\theta \\right)}\\right)}}{2} + \\frac{\\max\\left(0, \\operatorname{sign}{\\left(\\max\\left(1, 2 \\cos{\\left(\\theta \\right)} + 1, \\cos{\\left(\\theta \\right)}\\right) - 1 \\right)}\\right)}{2}\\right) + \\frac{4 \\sin{\\left(\\theta \\right)} \\min\\left(1 - \\max\\left(0, \\operatorname{sign}{\\left(- 2 \\cos{\\left(\\theta \\right)} + \\max\\left(1, 2 \\cos{\\left(\\theta \\right)} + 1, \\cos{\\left(\\theta \\right)}\\right) - 1 \\right)}\\right), 1 - \\max\\left(0, 1 - \\max\\left(0, \\operatorname{sign}{\\left(\\max\\left(1, 2 \\cos{\\left(\\theta \\right)} + 1, \\cos{\\left(\\theta \\right)}\\right) - 1 \\right)}\\right), \\min\\left(1 - \\max\\left(0, \\operatorname{sign}{\\left(- \\cos{\\left(\\theta \\right)} + \\max\\left(1, 2 \\cos{\\left(\\theta \\right)} + 1, \\cos{\\left(\\theta \\right)}\\right) \\right)}\\right), \\max\\left(1 - \\max\\left(0, 1 - \\max\\left(0, \\operatorname{sign}{\\left(\\max\\left(1, 2 \\cos{\\left(\\theta \\right)} + 1, \\cos{\\left(\\theta \\right)}\\right) - 1 \\right)}\\right)\\right), 1 - \\max\\left(0, 1 - \\max\\left(0, \\operatorname{sign}{\\left(\\max\\left(1, 2 \\cos{\\left(\\theta \\right)} + 1, \\cos{\\left(\\theta \\right)}\\right) - 1 \\right)}\\right), \\min\\left(1 - \\max\\left(0, 1 - \\max\\left(0, \\operatorname{sign}{\\left(\\max\\left(1, 2 \\cos{\\left(\\theta \\right)} + 1, \\cos{\\left(\\theta \\right)}\\right) - 1 \\right)}\\right)\\right), 1 - \\max\\left(0, \\operatorname{sign}{\\left(- \\cos{\\left(\\theta \\right)} + \\max\\left(1, 2 \\cos{\\left(\\theta \\right)} + 1, \\cos{\\left(\\theta \\right)}\\right) \\right)}\\right)\\right)\\right)\\right)\\right)\\right)\\right)}{2 \\sqrt{\\max\\left(0, 2 \\cos{\\left(\\theta \\right)} + 2\\right)} - 2 \\min\\left(1 - \\max\\left(0, \\operatorname{sign}{\\left(- 2 \\cos{\\left(\\theta \\right)} + \\max\\left(1, 2 \\cos{\\left(\\theta \\right)} + 1, \\cos{\\left(\\theta \\right)}\\right) - 1 \\right)}\\right), 1 - \\max\\left(0, 1 - \\max\\left(0, \\operatorname{sign}{\\left(\\max\\left(1, 2 \\cos{\\left(\\theta \\right)} + 1, \\cos{\\left(\\theta \\right)}\\right) - 1 \\right)}\\right), \\min\\left(1 - \\max\\left(0, \\operatorname{sign}{\\left(- \\cos{\\left(\\theta \\right)} + \\max\\left(1, 2 \\cos{\\left(\\theta \\right)} + 1, \\cos{\\left(\\theta \\right)}\\right) \\right)}\\right), \\max\\left(1 - \\max\\left(0, 1 - \\max\\left(0, \\operatorname{sign}{\\left(\\max\\left(1, 2 \\cos{\\left(\\theta \\right)} + 1, \\cos{\\left(\\theta \\right)}\\right) - 1 \\right)}\\right)\\right), 1 - \\max\\left(0, 1 - \\max\\left(0, \\operatorname{sign}{\\left(\\max\\left(1, 2 \\cos{\\left(\\theta \\right)} + 1, \\cos{\\left(\\theta \\right)}\\right) - 1 \\right)}\\right), \\min\\left(1 - \\max\\left(0, 1 - \\max\\left(0, \\operatorname{sign}{\\left(\\max\\left(1, 2 \\cos{\\left(\\theta \\right)} + 1, \\cos{\\left(\\theta \\right)}\\right) - 1 \\right)}\\right)\\right), 1 - \\max\\left(0, \\operatorname{sign}{\\left(- \\cos{\\left(\\theta \\right)} + \\max\\left(1, 2 \\cos{\\left(\\theta \\right)} + 1, \\cos{\\left(\\theta \\right)}\\right) \\right)}\\right)\\right)\\right)\\right)\\right)\\right)\\right) + 2}\\right) \\min\\left(1 - \\max\\left(0, \\operatorname{sign}{\\left(- \\cos{\\left(\\theta \\right)} + \\max\\left(1, 2 \\cos{\\left(\\theta \\right)} + 1, \\cos{\\left(\\theta \\right)}\\right) \\right)}\\right), 1 - \\max\\left(0, 1 - \\max\\left(0, \\operatorname{sign}{\\left(\\max\\left(1, 2 \\cos{\\left(\\theta \\right)} + 1, \\cos{\\left(\\theta \\right)}\\right) - 1 \\right)}\\right), \\min\\left(1 - \\max\\left(0, 1 - \\max\\left(0, \\operatorname{sign}{\\left(\\max\\left(1, 2 \\cos{\\left(\\theta \\right)} + 1, \\cos{\\left(\\theta \\right)}\\right) - 1 \\right)}\\right)\\right), 1 - \\max\\left(0, \\operatorname{sign}{\\left(- \\cos{\\left(\\theta \\right)} + \\max\\left(1, 2 \\cos{\\left(\\theta \\right)} + 1, \\cos{\\left(\\theta \\right)}\\right) \\right)}\\right)\\right)\\right)\\right)\\\\\\left(\\frac{1}{2} - \\frac{\\min\\left(1 - \\max\\left(0, 1 - \\max\\left(0, \\operatorname{sign}{\\left(\\max\\left(1, 2 \\cos{\\left(\\theta \\right)} + 1, \\cos{\\left(\\theta \\right)}\\right) - 1 \\right)}\\right)\\right), 1 - \\max\\left(0, \\operatorname{sign}{\\left(- \\cos{\\left(\\theta \\right)} + \\max\\left(1, 2 \\cos{\\left(\\theta \\right)} + 1, \\cos{\\left(\\theta \\right)}\\right) \\right)}\\right)\\right)}{2}\\right) \\left(2 \\cdot \\left(1 - \\max\\left(0, \\operatorname{sign}{\\left(\\max\\left(1, 2 \\cos{\\left(\\theta \\right)} + 1, \\cos{\\left(\\theta \\right)}\\right) - 1 \\right)}\\right)\\right) \\left(\\frac{\\sqrt{\\max\\left(0, 2 - 2 \\cos{\\left(\\theta \\right)}\\right)}}{2} + \\frac{\\max\\left(0, \\operatorname{sign}{\\left(\\max\\left(1, 2 \\cos{\\left(\\theta \\right)} + 1, \\cos{\\left(\\theta \\right)}\\right) - 1 \\right)}\\right)}{2}\\right) + \\frac{4 \\sin{\\left(\\theta \\right)} \\min\\left(1 - \\max\\left(0, \\operatorname{sign}{\\left(- 2 \\cos{\\left(\\theta \\right)} + \\max\\left(1, 2 \\cos{\\left(\\theta \\right)} + 1, \\cos{\\left(\\theta \\right)}\\right) - 1 \\right)}\\right), 1 - \\max\\left(0, 1 - \\max\\left(0, \\operatorname{sign}{\\left(\\max\\left(1, 2 \\cos{\\left(\\theta \\right)} + 1, \\cos{\\left(\\theta \\right)}\\right) - 1 \\right)}\\right), \\min\\left(1 - \\max\\left(0, \\operatorname{sign}{\\left(- \\cos{\\left(\\theta \\right)} + \\max\\left(1, 2 \\cos{\\left(\\theta \\right)} + 1, \\cos{\\left(\\theta \\right)}\\right) \\right)}\\right), \\max\\left(1 - \\max\\left(0, 1 - \\max\\left(0, \\operatorname{sign}{\\left(\\max\\left(1, 2 \\cos{\\left(\\theta \\right)} + 1, \\cos{\\left(\\theta \\right)}\\right) - 1 \\right)}\\right)\\right), 1 - \\max\\left(0, 1 - \\max\\left(0, \\operatorname{sign}{\\left(\\max\\left(1, 2 \\cos{\\left(\\theta \\right)} + 1, \\cos{\\left(\\theta \\right)}\\right) - 1 \\right)}\\right), \\min\\left(1 - \\max\\left(0, 1 - \\max\\left(0, \\operatorname{sign}{\\left(\\max\\left(1, 2 \\cos{\\left(\\theta \\right)} + 1, \\cos{\\left(\\theta \\right)}\\right) - 1 \\right)}\\right)\\right), 1 - \\max\\left(0, \\operatorname{sign}{\\left(- \\cos{\\left(\\theta \\right)} + \\max\\left(1, 2 \\cos{\\left(\\theta \\right)} + 1, \\cos{\\left(\\theta \\right)}\\right) \\right)}\\right)\\right)\\right)\\right)\\right)\\right)\\right)}{2 \\sqrt{\\max\\left(0, 2 \\cos{\\left(\\theta \\right)} + 2\\right)} - 2 \\min\\left(1 - \\max\\left(0, \\operatorname{sign}{\\left(- 2 \\cos{\\left(\\theta \\right)} + \\max\\left(1, 2 \\cos{\\left(\\theta \\right)} + 1, \\cos{\\left(\\theta \\right)}\\right) - 1 \\right)}\\right), 1 - \\max\\left(0, 1 - \\max\\left(0, \\operatorname{sign}{\\left(\\max\\left(1, 2 \\cos{\\left(\\theta \\right)} + 1, \\cos{\\left(\\theta \\right)}\\right) - 1 \\right)}\\right), \\min\\left(1 - \\max\\left(0, \\operatorname{sign}{\\left(- \\cos{\\left(\\theta \\right)} + \\max\\left(1, 2 \\cos{\\left(\\theta \\right)} + 1, \\cos{\\left(\\theta \\right)}\\right) \\right)}\\right), \\max\\left(1 - \\max\\left(0, 1 - \\max\\left(0, \\operatorname{sign}{\\left(\\max\\left(1, 2 \\cos{\\left(\\theta \\right)} + 1, \\cos{\\left(\\theta \\right)}\\right) - 1 \\right)}\\right)\\right), 1 - \\max\\left(0, 1 - \\max\\left(0, \\operatorname{sign}{\\left(\\max\\left(1, 2 \\cos{\\left(\\theta \\right)} + 1, \\cos{\\left(\\theta \\right)}\\right) - 1 \\right)}\\right), \\min\\left(1 - \\max\\left(0, 1 - \\max\\left(0, \\operatorname{sign}{\\left(\\max\\left(1, 2 \\cos{\\left(\\theta \\right)} + 1, \\cos{\\left(\\theta \\right)}\\right) - 1 \\right)}\\right)\\right), 1 - \\max\\left(0, \\operatorname{sign}{\\left(- \\cos{\\left(\\theta \\right)} + \\max\\left(1, 2 \\cos{\\left(\\theta \\right)} + 1, \\cos{\\left(\\theta \\right)}\\right) \\right)}\\right)\\right)\\right)\\right)\\right)\\right)\\right) + 2}\\right) \\min\\left(1 - \\max\\left(0, 1 - \\max\\left(0, \\operatorname{sign}{\\left(\\max\\left(1, 2 \\cos{\\left(\\theta \\right)} + 1, \\cos{\\left(\\theta \\right)}\\right) - 1 \\right)}\\right)\\right), 1 - \\max\\left(0, \\operatorname{sign}{\\left(- \\cos{\\left(\\theta \\right)} + \\max\\left(1, 2 \\cos{\\left(\\theta \\right)} + 1, \\cos{\\left(\\theta \\right)}\\right) \\right)}\\right)\\right) + 2 \\cdot \\left(\\frac{1}{2} - \\frac{\\min\\left(1 - \\max\\left(0, \\operatorname{sign}{\\left(- \\cos{\\left(\\theta \\right)} + \\max\\left(1, 2 \\cos{\\left(\\theta \\right)} + 1, \\cos{\\left(\\theta \\right)}\\right) \\right)}\\right), 1 - \\max\\left(0, 1 - \\max\\left(0, \\operatorname{sign}{\\left(\\max\\left(1, 2 \\cos{\\left(\\theta \\right)} + 1, \\cos{\\left(\\theta \\right)}\\right) - 1 \\right)}\\right), \\min\\left(1 - \\max\\left(0, 1 - \\max\\left(0, \\operatorname{sign}{\\left(\\max\\left(1, 2 \\cos{\\left(\\theta \\right)} + 1, \\cos{\\left(\\theta \\right)}\\right) - 1 \\right)}\\right)\\right), 1 - \\max\\left(0, \\operatorname{sign}{\\left(- \\cos{\\left(\\theta \\right)} + \\max\\left(1, 2 \\cos{\\left(\\theta \\right)} + 1, \\cos{\\left(\\theta \\right)}\\right) \\right)}\\right)\\right)\\right)\\right)}{2}\\right) \\left(\\frac{2 \\cdot \\left(1 - \\max\\left(0, \\operatorname{sign}{\\left(\\max\\left(1, 2 \\cos{\\left(\\theta \\right)} + 1, \\cos{\\left(\\theta \\right)}\\right) - 1 \\right)}\\right)\\right) \\sin{\\left(\\theta \\right)}}{2 \\sqrt{\\max\\left(0, 2 - 2 \\cos{\\left(\\theta \\right)}\\right)} + 2 \\max\\left(0, \\operatorname{sign}{\\left(\\max\\left(1, 2 \\cos{\\left(\\theta \\right)} + 1, \\cos{\\left(\\theta \\right)}\\right) - 1 \\right)}\\right)} + \\left(\\frac{\\sqrt{\\max\\left(0, 2 \\cos{\\left(\\theta \\right)} + 2\\right)}}{2} - \\frac{\\min\\left(1 - \\max\\left(0, \\operatorname{sign}{\\left(- 2 \\cos{\\left(\\theta \\right)} + \\max\\left(1, 2 \\cos{\\left(\\theta \\right)} + 1, \\cos{\\left(\\theta \\right)}\\right) - 1 \\right)}\\right), 1 - \\max\\left(0, 1 - \\max\\left(0, \\operatorname{sign}{\\left(\\max\\left(1, 2 \\cos{\\left(\\theta \\right)} + 1, \\cos{\\left(\\theta \\right)}\\right) - 1 \\right)}\\right), \\min\\left(1 - \\max\\left(0, \\operatorname{sign}{\\left(- \\cos{\\left(\\theta \\right)} + \\max\\left(1, 2 \\cos{\\left(\\theta \\right)} + 1, \\cos{\\left(\\theta \\right)}\\right) \\right)}\\right), \\max\\left(1 - \\max\\left(0, 1 - \\max\\left(0, \\operatorname{sign}{\\left(\\max\\left(1, 2 \\cos{\\left(\\theta \\right)} + 1, \\cos{\\left(\\theta \\right)}\\right) - 1 \\right)}\\right)\\right), 1 - \\max\\left(0, 1 - \\max\\left(0, \\operatorname{sign}{\\left(\\max\\left(1, 2 \\cos{\\left(\\theta \\right)} + 1, \\cos{\\left(\\theta \\right)}\\right) - 1 \\right)}\\right), \\min\\left(1 - \\max\\left(0, 1 - \\max\\left(0, \\operatorname{sign}{\\left(\\max\\left(1, 2 \\cos{\\left(\\theta \\right)} + 1, \\cos{\\left(\\theta \\right)}\\right) - 1 \\right)}\\right)\\right), 1 - \\max\\left(0, \\operatorname{sign}{\\left(- \\cos{\\left(\\theta \\right)} + \\max\\left(1, 2 \\cos{\\left(\\theta \\right)} + 1, \\cos{\\left(\\theta \\right)}\\right) \\right)}\\right)\\right)\\right)\\right)\\right)\\right)\\right)}{2} + \\frac{1}{2}\\right) \\min\\left(1 - \\max\\left(0, \\operatorname{sign}{\\left(- 2 \\cos{\\left(\\theta \\right)} + \\max\\left(1, 2 \\cos{\\left(\\theta \\right)} + 1, \\cos{\\left(\\theta \\right)}\\right) - 1 \\right)}\\right), 1 - \\max\\left(0, 1 - \\max\\left(0, \\operatorname{sign}{\\left(\\max\\left(1, 2 \\cos{\\left(\\theta \\right)} + 1, \\cos{\\left(\\theta \\right)}\\right) - 1 \\right)}\\right), \\min\\left(1 - \\max\\left(0, \\operatorname{sign}{\\left(- \\cos{\\left(\\theta \\right)} + \\max\\left(1, 2 \\cos{\\left(\\theta \\right)} + 1, \\cos{\\left(\\theta \\right)}\\right) \\right)}\\right), \\max\\left(1 - \\max\\left(0, 1 - \\max\\left(0, \\operatorname{sign}{\\left(\\max\\left(1, 2 \\cos{\\left(\\theta \\right)} + 1, \\cos{\\left(\\theta \\right)}\\right) - 1 \\right)}\\right)\\right), 1 - \\max\\left(0, 1 - \\max\\left(0, \\operatorname{sign}{\\left(\\max\\left(1, 2 \\cos{\\left(\\theta \\right)} + 1, \\cos{\\left(\\theta \\right)}\\right) - 1 \\right)}\\right), \\min\\left(1 - \\max\\left(0, 1 - \\max\\left(0, \\operatorname{sign}{\\left(\\max\\left(1, 2 \\cos{\\left(\\theta \\right)} + 1, \\cos{\\left(\\theta \\right)}\\right) - 1 \\right)}\\right)\\right), 1 - \\max\\left(0, \\operatorname{sign}{\\left(- \\cos{\\left(\\theta \\right)} + \\max\\left(1, 2 \\cos{\\left(\\theta \\right)} + 1, \\cos{\\left(\\theta \\right)}\\right) \\right)}\\right)\\right)\\right)\\right)\\right)\\right)\\right)\\right) \\min\\left(1 - \\max\\left(0, \\operatorname{sign}{\\left(- \\cos{\\left(\\theta \\right)} + \\max\\left(1, 2 \\cos{\\left(\\theta \\right)} + 1, \\cos{\\left(\\theta \\right)}\\right) \\right)}\\right), 1 - \\max\\left(0, 1 - \\max\\left(0, \\operatorname{sign}{\\left(\\max\\left(1, 2 \\cos{\\left(\\theta \\right)} + 1, \\cos{\\left(\\theta \\right)}\\right) - 1 \\right)}\\right), \\min\\left(1 - \\max\\left(0, 1 - \\max\\left(0, \\operatorname{sign}{\\left(\\max\\left(1, 2 \\cos{\\left(\\theta \\right)} + 1, \\cos{\\left(\\theta \\right)}\\right) - 1 \\right)}\\right)\\right), 1 - \\max\\left(0, \\operatorname{sign}{\\left(- \\cos{\\left(\\theta \\right)} + \\max\\left(1, 2 \\cos{\\left(\\theta \\right)} + 1, \\cos{\\left(\\theta \\right)}\\right) \\right)}\\right)\\right)\\right)\\right) & - 2 \\left(\\frac{1}{2} - \\frac{\\min\\left(1 - \\max\\left(0, \\operatorname{sign}{\\left(- \\cos{\\left(\\theta \\right)} + \\max\\left(1, 2 \\cos{\\left(\\theta \\right)} + 1, \\cos{\\left(\\theta \\right)}\\right) \\right)}\\right), 1 - \\max\\left(0, 1 - \\max\\left(0, \\operatorname{sign}{\\left(\\max\\left(1, 2 \\cos{\\left(\\theta \\right)} + 1, \\cos{\\left(\\theta \\right)}\\right) - 1 \\right)}\\right), \\min\\left(1 - \\max\\left(0, 1 - \\max\\left(0, \\operatorname{sign}{\\left(\\max\\left(1, 2 \\cos{\\left(\\theta \\right)} + 1, \\cos{\\left(\\theta \\right)}\\right) - 1 \\right)}\\right)\\right), 1 - \\max\\left(0, \\operatorname{sign}{\\left(- \\cos{\\left(\\theta \\right)} + \\max\\left(1, 2 \\cos{\\left(\\theta \\right)} + 1, \\cos{\\left(\\theta \\right)}\\right) \\right)}\\right)\\right)\\right)\\right)}{2}\\right)^{2} \\min\\left(1 - \\max\\left(0, \\operatorname{sign}{\\left(- \\cos{\\left(\\theta \\right)} + \\max\\left(1, 2 \\cos{\\left(\\theta \\right)} + 1, \\cos{\\left(\\theta \\right)}\\right) \\right)}\\right), 1 - \\max\\left(0, 1 - \\max\\left(0, \\operatorname{sign}{\\left(\\max\\left(1, 2 \\cos{\\left(\\theta \\right)} + 1, \\cos{\\left(\\theta \\right)}\\right) - 1 \\right)}\\right), \\min\\left(1 - \\max\\left(0, 1 - \\max\\left(0, \\operatorname{sign}{\\left(\\max\\left(1, 2 \\cos{\\left(\\theta \\right)} + 1, \\cos{\\left(\\theta \\right)}\\right) - 1 \\right)}\\right)\\right), 1 - \\max\\left(0, \\operatorname{sign}{\\left(- \\cos{\\left(\\theta \\right)} + \\max\\left(1, 2 \\cos{\\left(\\theta \\right)} + 1, \\cos{\\left(\\theta \\right)}\\right) \\right)}\\right)\\right)\\right)\\right)^{2} - 2 \\left(\\left(1 - \\max\\left(0, \\operatorname{sign}{\\left(\\max\\left(1, 2 \\cos{\\left(\\theta \\right)} + 1, \\cos{\\left(\\theta \\right)}\\right) - 1 \\right)}\\right)\\right) \\left(\\frac{\\sqrt{\\max\\left(0, 2 - 2 \\cos{\\left(\\theta \\right)}\\right)}}{2} + \\frac{\\max\\left(0, \\operatorname{sign}{\\left(\\max\\left(1, 2 \\cos{\\left(\\theta \\right)} + 1, \\cos{\\left(\\theta \\right)}\\right) - 1 \\right)}\\right)}{2}\\right) + \\frac{2 \\sin{\\left(\\theta \\right)} \\min\\left(1 - \\max\\left(0, \\operatorname{sign}{\\left(- 2 \\cos{\\left(\\theta \\right)} + \\max\\left(1, 2 \\cos{\\left(\\theta \\right)} + 1, \\cos{\\left(\\theta \\right)}\\right) - 1 \\right)}\\right), 1 - \\max\\left(0, 1 - \\max\\left(0, \\operatorname{sign}{\\left(\\max\\left(1, 2 \\cos{\\left(\\theta \\right)} + 1, \\cos{\\left(\\theta \\right)}\\right) - 1 \\right)}\\right), \\min\\left(1 - \\max\\left(0, \\operatorname{sign}{\\left(- \\cos{\\left(\\theta \\right)} + \\max\\left(1, 2 \\cos{\\left(\\theta \\right)} + 1, \\cos{\\left(\\theta \\right)}\\right) \\right)}\\right), \\max\\left(1 - \\max\\left(0, 1 - \\max\\left(0, \\operatorname{sign}{\\left(\\max\\left(1, 2 \\cos{\\left(\\theta \\right)} + 1, \\cos{\\left(\\theta \\right)}\\right) - 1 \\right)}\\right)\\right), 1 - \\max\\left(0, 1 - \\max\\left(0, \\operatorname{sign}{\\left(\\max\\left(1, 2 \\cos{\\left(\\theta \\right)} + 1, \\cos{\\left(\\theta \\right)}\\right) - 1 \\right)}\\right), \\min\\left(1 - \\max\\left(0, 1 - \\max\\left(0, \\operatorname{sign}{\\left(\\max\\left(1, 2 \\cos{\\left(\\theta \\right)} + 1, \\cos{\\left(\\theta \\right)}\\right) - 1 \\right)}\\right)\\right), 1 - \\max\\left(0, \\operatorname{sign}{\\left(- \\cos{\\left(\\theta \\right)} + \\max\\left(1, 2 \\cos{\\left(\\theta \\right)} + 1, \\cos{\\left(\\theta \\right)}\\right) \\right)}\\right)\\right)\\right)\\right)\\right)\\right)\\right)}{2 \\sqrt{\\max\\left(0, 2 \\cos{\\left(\\theta \\right)} + 2\\right)} - 2 \\min\\left(1 - \\max\\left(0, \\operatorname{sign}{\\left(- 2 \\cos{\\left(\\theta \\right)} + \\max\\left(1, 2 \\cos{\\left(\\theta \\right)} + 1, \\cos{\\left(\\theta \\right)}\\right) - 1 \\right)}\\right), 1 - \\max\\left(0, 1 - \\max\\left(0, \\operatorname{sign}{\\left(\\max\\left(1, 2 \\cos{\\left(\\theta \\right)} + 1, \\cos{\\left(\\theta \\right)}\\right) - 1 \\right)}\\right), \\min\\left(1 - \\max\\left(0, \\operatorname{sign}{\\left(- \\cos{\\left(\\theta \\right)} + \\max\\left(1, 2 \\cos{\\left(\\theta \\right)} + 1, \\cos{\\left(\\theta \\right)}\\right) \\right)}\\right), \\max\\left(1 - \\max\\left(0, 1 - \\max\\left(0, \\operatorname{sign}{\\left(\\max\\left(1, 2 \\cos{\\left(\\theta \\right)} + 1, \\cos{\\left(\\theta \\right)}\\right) - 1 \\right)}\\right)\\right), 1 - \\max\\left(0, 1 - \\max\\left(0, \\operatorname{sign}{\\left(\\max\\left(1, 2 \\cos{\\left(\\theta \\right)} + 1, \\cos{\\left(\\theta \\right)}\\right) - 1 \\right)}\\right), \\min\\left(1 - \\max\\left(0, 1 - \\max\\left(0, \\operatorname{sign}{\\left(\\max\\left(1, 2 \\cos{\\left(\\theta \\right)} + 1, \\cos{\\left(\\theta \\right)}\\right) - 1 \\right)}\\right)\\right), 1 - \\max\\left(0, \\operatorname{sign}{\\left(- \\cos{\\left(\\theta \\right)} + \\max\\left(1, 2 \\cos{\\left(\\theta \\right)} + 1, \\cos{\\left(\\theta \\right)}\\right) \\right)}\\right)\\right)\\right)\\right)\\right)\\right)\\right) + 2}\\right)^{2} + 1 & 2 \\cdot \\left(\\frac{1}{2} - \\frac{\\min\\left(1 - \\max\\left(0, 1 - \\max\\left(0, \\operatorname{sign}{\\left(\\max\\left(1, 2 \\cos{\\left(\\theta \\right)} + 1, \\cos{\\left(\\theta \\right)}\\right) - 1 \\right)}\\right)\\right), 1 - \\max\\left(0, \\operatorname{sign}{\\left(- \\cos{\\left(\\theta \\right)} + \\max\\left(1, 2 \\cos{\\left(\\theta \\right)} + 1, \\cos{\\left(\\theta \\right)}\\right) \\right)}\\right)\\right)}{2}\\right) \\left(\\frac{1}{2} - \\frac{\\min\\left(1 - \\max\\left(0, \\operatorname{sign}{\\left(- \\cos{\\left(\\theta \\right)} + \\max\\left(1, 2 \\cos{\\left(\\theta \\right)} + 1, \\cos{\\left(\\theta \\right)}\\right) \\right)}\\right), 1 - \\max\\left(0, 1 - \\max\\left(0, \\operatorname{sign}{\\left(\\max\\left(1, 2 \\cos{\\left(\\theta \\right)} + 1, \\cos{\\left(\\theta \\right)}\\right) - 1 \\right)}\\right), \\min\\left(1 - \\max\\left(0, 1 - \\max\\left(0, \\operatorname{sign}{\\left(\\max\\left(1, 2 \\cos{\\left(\\theta \\right)} + 1, \\cos{\\left(\\theta \\right)}\\right) - 1 \\right)}\\right)\\right), 1 - \\max\\left(0, \\operatorname{sign}{\\left(- \\cos{\\left(\\theta \\right)} + \\max\\left(1, 2 \\cos{\\left(\\theta \\right)} + 1, \\cos{\\left(\\theta \\right)}\\right) \\right)}\\right)\\right)\\right)\\right)}{2}\\right) \\min\\left(1 - \\max\\left(0, 1 - \\max\\left(0, \\operatorname{sign}{\\left(\\max\\left(1, 2 \\cos{\\left(\\theta \\right)} + 1, \\cos{\\left(\\theta \\right)}\\right) - 1 \\right)}\\right)\\right), 1 - \\max\\left(0, \\operatorname{sign}{\\left(- \\cos{\\left(\\theta \\right)} + \\max\\left(1, 2 \\cos{\\left(\\theta \\right)} + 1, \\cos{\\left(\\theta \\right)}\\right) \\right)}\\right)\\right) \\min\\left(1 - \\max\\left(0, \\operatorname{sign}{\\left(- \\cos{\\left(\\theta \\right)} + \\max\\left(1, 2 \\cos{\\left(\\theta \\right)} + 1, \\cos{\\left(\\theta \\right)}\\right) \\right)}\\right), 1 - \\max\\left(0, 1 - \\max\\left(0, \\operatorname{sign}{\\left(\\max\\left(1, 2 \\cos{\\left(\\theta \\right)} + 1, \\cos{\\left(\\theta \\right)}\\right) - 1 \\right)}\\right), \\min\\left(1 - \\max\\left(0, 1 - \\max\\left(0, \\operatorname{sign}{\\left(\\max\\left(1, 2 \\cos{\\left(\\theta \\right)} + 1, \\cos{\\left(\\theta \\right)}\\right) - 1 \\right)}\\right)\\right), 1 - \\max\\left(0, \\operatorname{sign}{\\left(- \\cos{\\left(\\theta \\right)} + \\max\\left(1, 2 \\cos{\\left(\\theta \\right)} + 1, \\cos{\\left(\\theta \\right)}\\right) \\right)}\\right)\\right)\\right)\\right) - \\left(2 \\cdot \\left(1 - \\max\\left(0, \\operatorname{sign}{\\left(\\max\\left(1, 2 \\cos{\\left(\\theta \\right)} + 1, \\cos{\\left(\\theta \\right)}\\right) - 1 \\right)}\\right)\\right) \\left(\\frac{\\sqrt{\\max\\left(0, 2 - 2 \\cos{\\left(\\theta \\right)}\\right)}}{2} + \\frac{\\max\\left(0, \\operatorname{sign}{\\left(\\max\\left(1, 2 \\cos{\\left(\\theta \\right)} + 1, \\cos{\\left(\\theta \\right)}\\right) - 1 \\right)}\\right)}{2}\\right) + \\frac{4 \\sin{\\left(\\theta \\right)} \\min\\left(1 - \\max\\left(0, \\operatorname{sign}{\\left(- 2 \\cos{\\left(\\theta \\right)} + \\max\\left(1, 2 \\cos{\\left(\\theta \\right)} + 1, \\cos{\\left(\\theta \\right)}\\right) - 1 \\right)}\\right), 1 - \\max\\left(0, 1 - \\max\\left(0, \\operatorname{sign}{\\left(\\max\\left(1, 2 \\cos{\\left(\\theta \\right)} + 1, \\cos{\\left(\\theta \\right)}\\right) - 1 \\right)}\\right), \\min\\left(1 - \\max\\left(0, \\operatorname{sign}{\\left(- \\cos{\\left(\\theta \\right)} + \\max\\left(1, 2 \\cos{\\left(\\theta \\right)} + 1, \\cos{\\left(\\theta \\right)}\\right) \\right)}\\right), \\max\\left(1 - \\max\\left(0, 1 - \\max\\left(0, \\operatorname{sign}{\\left(\\max\\left(1, 2 \\cos{\\left(\\theta \\right)} + 1, \\cos{\\left(\\theta \\right)}\\right) - 1 \\right)}\\right)\\right), 1 - \\max\\left(0, 1 - \\max\\left(0, \\operatorname{sign}{\\left(\\max\\left(1, 2 \\cos{\\left(\\theta \\right)} + 1, \\cos{\\left(\\theta \\right)}\\right) - 1 \\right)}\\right), \\min\\left(1 - \\max\\left(0, 1 - \\max\\left(0, \\operatorname{sign}{\\left(\\max\\left(1, 2 \\cos{\\left(\\theta \\right)} + 1, \\cos{\\left(\\theta \\right)}\\right) - 1 \\right)}\\right)\\right), 1 - \\max\\left(0, \\operatorname{sign}{\\left(- \\cos{\\left(\\theta \\right)} + \\max\\left(1, 2 \\cos{\\left(\\theta \\right)} + 1, \\cos{\\left(\\theta \\right)}\\right) \\right)}\\right)\\right)\\right)\\right)\\right)\\right)\\right)}{2 \\sqrt{\\max\\left(0, 2 \\cos{\\left(\\theta \\right)} + 2\\right)} - 2 \\min\\left(1 - \\max\\left(0, \\operatorname{sign}{\\left(- 2 \\cos{\\left(\\theta \\right)} + \\max\\left(1, 2 \\cos{\\left(\\theta \\right)} + 1, \\cos{\\left(\\theta \\right)}\\right) - 1 \\right)}\\right), 1 - \\max\\left(0, 1 - \\max\\left(0, \\operatorname{sign}{\\left(\\max\\left(1, 2 \\cos{\\left(\\theta \\right)} + 1, \\cos{\\left(\\theta \\right)}\\right) - 1 \\right)}\\right), \\min\\left(1 - \\max\\left(0, \\operatorname{sign}{\\left(- \\cos{\\left(\\theta \\right)} + \\max\\left(1, 2 \\cos{\\left(\\theta \\right)} + 1, \\cos{\\left(\\theta \\right)}\\right) \\right)}\\right), \\max\\left(1 - \\max\\left(0, 1 - \\max\\left(0, \\operatorname{sign}{\\left(\\max\\left(1, 2 \\cos{\\left(\\theta \\right)} + 1, \\cos{\\left(\\theta \\right)}\\right) - 1 \\right)}\\right)\\right), 1 - \\max\\left(0, 1 - \\max\\left(0, \\operatorname{sign}{\\left(\\max\\left(1, 2 \\cos{\\left(\\theta \\right)} + 1, \\cos{\\left(\\theta \\right)}\\right) - 1 \\right)}\\right), \\min\\left(1 - \\max\\left(0, 1 - \\max\\left(0, \\operatorname{sign}{\\left(\\max\\left(1, 2 \\cos{\\left(\\theta \\right)} + 1, \\cos{\\left(\\theta \\right)}\\right) - 1 \\right)}\\right)\\right), 1 - \\max\\left(0, \\operatorname{sign}{\\left(- \\cos{\\left(\\theta \\right)} + \\max\\left(1, 2 \\cos{\\left(\\theta \\right)} + 1, \\cos{\\left(\\theta \\right)}\\right) \\right)}\\right)\\right)\\right)\\right)\\right)\\right)\\right) + 2}\\right) \\left(\\frac{2 \\cdot \\left(1 - \\max\\left(0, \\operatorname{sign}{\\left(\\max\\left(1, 2 \\cos{\\left(\\theta \\right)} + 1, \\cos{\\left(\\theta \\right)}\\right) - 1 \\right)}\\right)\\right) \\sin{\\left(\\theta \\right)}}{2 \\sqrt{\\max\\left(0, 2 - 2 \\cos{\\left(\\theta \\right)}\\right)} + 2 \\max\\left(0, \\operatorname{sign}{\\left(\\max\\left(1, 2 \\cos{\\left(\\theta \\right)} + 1, \\cos{\\left(\\theta \\right)}\\right) - 1 \\right)}\\right)} + \\left(\\frac{\\sqrt{\\max\\left(0, 2 \\cos{\\left(\\theta \\right)} + 2\\right)}}{2} - \\frac{\\min\\left(1 - \\max\\left(0, \\operatorname{sign}{\\left(- 2 \\cos{\\left(\\theta \\right)} + \\max\\left(1, 2 \\cos{\\left(\\theta \\right)} + 1, \\cos{\\left(\\theta \\right)}\\right) - 1 \\right)}\\right), 1 - \\max\\left(0, 1 - \\max\\left(0, \\operatorname{sign}{\\left(\\max\\left(1, 2 \\cos{\\left(\\theta \\right)} + 1, \\cos{\\left(\\theta \\right)}\\right) - 1 \\right)}\\right), \\min\\left(1 - \\max\\left(0, \\operatorname{sign}{\\left(- \\cos{\\left(\\theta \\right)} + \\max\\left(1, 2 \\cos{\\left(\\theta \\right)} + 1, \\cos{\\left(\\theta \\right)}\\right) \\right)}\\right), \\max\\left(1 - \\max\\left(0, 1 - \\max\\left(0, \\operatorname{sign}{\\left(\\max\\left(1, 2 \\cos{\\left(\\theta \\right)} + 1, \\cos{\\left(\\theta \\right)}\\right) - 1 \\right)}\\right)\\right), 1 - \\max\\left(0, 1 - \\max\\left(0, \\operatorname{sign}{\\left(\\max\\left(1, 2 \\cos{\\left(\\theta \\right)} + 1, \\cos{\\left(\\theta \\right)}\\right) - 1 \\right)}\\right), \\min\\left(1 - \\max\\left(0, 1 - \\max\\left(0, \\operatorname{sign}{\\left(\\max\\left(1, 2 \\cos{\\left(\\theta \\right)} + 1, \\cos{\\left(\\theta \\right)}\\right) - 1 \\right)}\\right)\\right), 1 - \\max\\left(0, \\operatorname{sign}{\\left(- \\cos{\\left(\\theta \\right)} + \\max\\left(1, 2 \\cos{\\left(\\theta \\right)} + 1, \\cos{\\left(\\theta \\right)}\\right) \\right)}\\right)\\right)\\right)\\right)\\right)\\right)\\right)}{2} + \\frac{1}{2}\\right) \\min\\left(1 - \\max\\left(0, \\operatorname{sign}{\\left(- 2 \\cos{\\left(\\theta \\right)} + \\max\\left(1, 2 \\cos{\\left(\\theta \\right)} + 1, \\cos{\\left(\\theta \\right)}\\right) - 1 \\right)}\\right), 1 - \\max\\left(0, 1 - \\max\\left(0, \\operatorname{sign}{\\left(\\max\\left(1, 2 \\cos{\\left(\\theta \\right)} + 1, \\cos{\\left(\\theta \\right)}\\right) - 1 \\right)}\\right), \\min\\left(1 - \\max\\left(0, \\operatorname{sign}{\\left(- \\cos{\\left(\\theta \\right)} + \\max\\left(1, 2 \\cos{\\left(\\theta \\right)} + 1, \\cos{\\left(\\theta \\right)}\\right) \\right)}\\right), \\max\\left(1 - \\max\\left(0, 1 - \\max\\left(0, \\operatorname{sign}{\\left(\\max\\left(1, 2 \\cos{\\left(\\theta \\right)} + 1, \\cos{\\left(\\theta \\right)}\\right) - 1 \\right)}\\right)\\right), 1 - \\max\\left(0, 1 - \\max\\left(0, \\operatorname{sign}{\\left(\\max\\left(1, 2 \\cos{\\left(\\theta \\right)} + 1, \\cos{\\left(\\theta \\right)}\\right) - 1 \\right)}\\right), \\min\\left(1 - \\max\\left(0, 1 - \\max\\left(0, \\operatorname{sign}{\\left(\\max\\left(1, 2 \\cos{\\left(\\theta \\right)} + 1, \\cos{\\left(\\theta \\right)}\\right) - 1 \\right)}\\right)\\right), 1 - \\max\\left(0, \\operatorname{sign}{\\left(- \\cos{\\left(\\theta \\right)} + \\max\\left(1, 2 \\cos{\\left(\\theta \\right)} + 1, \\cos{\\left(\\theta \\right)}\\right) \\right)}\\right)\\right)\\right)\\right)\\right)\\right)\\right)\\right)\\\\- 2 \\cdot \\left(\\frac{1}{2} - \\frac{\\min\\left(1 - \\max\\left(0, 1 - \\max\\left(0, \\operatorname{sign}{\\left(\\max\\left(1, 2 \\cos{\\left(\\theta \\right)} + 1, \\cos{\\left(\\theta \\right)}\\right) - 1 \\right)}\\right)\\right), 1 - \\max\\left(0, \\operatorname{sign}{\\left(- \\cos{\\left(\\theta \\right)} + \\max\\left(1, 2 \\cos{\\left(\\theta \\right)} + 1, \\cos{\\left(\\theta \\right)}\\right) \\right)}\\right)\\right)}{2}\\right) \\left(\\frac{2 \\cdot \\left(1 - \\max\\left(0, \\operatorname{sign}{\\left(\\max\\left(1, 2 \\cos{\\left(\\theta \\right)} + 1, \\cos{\\left(\\theta \\right)}\\right) - 1 \\right)}\\right)\\right) \\sin{\\left(\\theta \\right)}}{2 \\sqrt{\\max\\left(0, 2 - 2 \\cos{\\left(\\theta \\right)}\\right)} + 2 \\max\\left(0, \\operatorname{sign}{\\left(\\max\\left(1, 2 \\cos{\\left(\\theta \\right)} + 1, \\cos{\\left(\\theta \\right)}\\right) - 1 \\right)}\\right)} + \\left(\\frac{\\sqrt{\\max\\left(0, 2 \\cos{\\left(\\theta \\right)} + 2\\right)}}{2} - \\frac{\\min\\left(1 - \\max\\left(0, \\operatorname{sign}{\\left(- 2 \\cos{\\left(\\theta \\right)} + \\max\\left(1, 2 \\cos{\\left(\\theta \\right)} + 1, \\cos{\\left(\\theta \\right)}\\right) - 1 \\right)}\\right), 1 - \\max\\left(0, 1 - \\max\\left(0, \\operatorname{sign}{\\left(\\max\\left(1, 2 \\cos{\\left(\\theta \\right)} + 1, \\cos{\\left(\\theta \\right)}\\right) - 1 \\right)}\\right), \\min\\left(1 - \\max\\left(0, \\operatorname{sign}{\\left(- \\cos{\\left(\\theta \\right)} + \\max\\left(1, 2 \\cos{\\left(\\theta \\right)} + 1, \\cos{\\left(\\theta \\right)}\\right) \\right)}\\right), \\max\\left(1 - \\max\\left(0, 1 - \\max\\left(0, \\operatorname{sign}{\\left(\\max\\left(1, 2 \\cos{\\left(\\theta \\right)} + 1, \\cos{\\left(\\theta \\right)}\\right) - 1 \\right)}\\right)\\right), 1 - \\max\\left(0, 1 - \\max\\left(0, \\operatorname{sign}{\\left(\\max\\left(1, 2 \\cos{\\left(\\theta \\right)} + 1, \\cos{\\left(\\theta \\right)}\\right) - 1 \\right)}\\right), \\min\\left(1 - \\max\\left(0, 1 - \\max\\left(0, \\operatorname{sign}{\\left(\\max\\left(1, 2 \\cos{\\left(\\theta \\right)} + 1, \\cos{\\left(\\theta \\right)}\\right) - 1 \\right)}\\right)\\right), 1 - \\max\\left(0, \\operatorname{sign}{\\left(- \\cos{\\left(\\theta \\right)} + \\max\\left(1, 2 \\cos{\\left(\\theta \\right)} + 1, \\cos{\\left(\\theta \\right)}\\right) \\right)}\\right)\\right)\\right)\\right)\\right)\\right)\\right)}{2} + \\frac{1}{2}\\right) \\min\\left(1 - \\max\\left(0, \\operatorname{sign}{\\left(- 2 \\cos{\\left(\\theta \\right)} + \\max\\left(1, 2 \\cos{\\left(\\theta \\right)} + 1, \\cos{\\left(\\theta \\right)}\\right) - 1 \\right)}\\right), 1 - \\max\\left(0, 1 - \\max\\left(0, \\operatorname{sign}{\\left(\\max\\left(1, 2 \\cos{\\left(\\theta \\right)} + 1, \\cos{\\left(\\theta \\right)}\\right) - 1 \\right)}\\right), \\min\\left(1 - \\max\\left(0, \\operatorname{sign}{\\left(- \\cos{\\left(\\theta \\right)} + \\max\\left(1, 2 \\cos{\\left(\\theta \\right)} + 1, \\cos{\\left(\\theta \\right)}\\right) \\right)}\\right), \\max\\left(1 - \\max\\left(0, 1 - \\max\\left(0, \\operatorname{sign}{\\left(\\max\\left(1, 2 \\cos{\\left(\\theta \\right)} + 1, \\cos{\\left(\\theta \\right)}\\right) - 1 \\right)}\\right)\\right), 1 - \\max\\left(0, 1 - \\max\\left(0, \\operatorname{sign}{\\left(\\max\\left(1, 2 \\cos{\\left(\\theta \\right)} + 1, \\cos{\\left(\\theta \\right)}\\right) - 1 \\right)}\\right), \\min\\left(1 - \\max\\left(0, 1 - \\max\\left(0, \\operatorname{sign}{\\left(\\max\\left(1, 2 \\cos{\\left(\\theta \\right)} + 1, \\cos{\\left(\\theta \\right)}\\right) - 1 \\right)}\\right)\\right), 1 - \\max\\left(0, \\operatorname{sign}{\\left(- \\cos{\\left(\\theta \\right)} + \\max\\left(1, 2 \\cos{\\left(\\theta \\right)} + 1, \\cos{\\left(\\theta \\right)}\\right) \\right)}\\right)\\right)\\right)\\right)\\right)\\right)\\right)\\right) \\min\\left(1 - \\max\\left(0, 1 - \\max\\left(0, \\operatorname{sign}{\\left(\\max\\left(1, 2 \\cos{\\left(\\theta \\right)} + 1, \\cos{\\left(\\theta \\right)}\\right) - 1 \\right)}\\right)\\right), 1 - \\max\\left(0, \\operatorname{sign}{\\left(- \\cos{\\left(\\theta \\right)} + \\max\\left(1, 2 \\cos{\\left(\\theta \\right)} + 1, \\cos{\\left(\\theta \\right)}\\right) \\right)}\\right)\\right) + \\left(\\frac{1}{2} - \\frac{\\min\\left(1 - \\max\\left(0, \\operatorname{sign}{\\left(- \\cos{\\left(\\theta \\right)} + \\max\\left(1, 2 \\cos{\\left(\\theta \\right)} + 1, \\cos{\\left(\\theta \\right)}\\right) \\right)}\\right), 1 - \\max\\left(0, 1 - \\max\\left(0, \\operatorname{sign}{\\left(\\max\\left(1, 2 \\cos{\\left(\\theta \\right)} + 1, \\cos{\\left(\\theta \\right)}\\right) - 1 \\right)}\\right), \\min\\left(1 - \\max\\left(0, 1 - \\max\\left(0, \\operatorname{sign}{\\left(\\max\\left(1, 2 \\cos{\\left(\\theta \\right)} + 1, \\cos{\\left(\\theta \\right)}\\right) - 1 \\right)}\\right)\\right), 1 - \\max\\left(0, \\operatorname{sign}{\\left(- \\cos{\\left(\\theta \\right)} + \\max\\left(1, 2 \\cos{\\left(\\theta \\right)} + 1, \\cos{\\left(\\theta \\right)}\\right) \\right)}\\right)\\right)\\right)\\right)}{2}\\right) \\left(2 \\cdot \\left(1 - \\max\\left(0, \\operatorname{sign}{\\left(\\max\\left(1, 2 \\cos{\\left(\\theta \\right)} + 1, \\cos{\\left(\\theta \\right)}\\right) - 1 \\right)}\\right)\\right) \\left(\\frac{\\sqrt{\\max\\left(0, 2 - 2 \\cos{\\left(\\theta \\right)}\\right)}}{2} + \\frac{\\max\\left(0, \\operatorname{sign}{\\left(\\max\\left(1, 2 \\cos{\\left(\\theta \\right)} + 1, \\cos{\\left(\\theta \\right)}\\right) - 1 \\right)}\\right)}{2}\\right) + \\frac{4 \\sin{\\left(\\theta \\right)} \\min\\left(1 - \\max\\left(0, \\operatorname{sign}{\\left(- 2 \\cos{\\left(\\theta \\right)} + \\max\\left(1, 2 \\cos{\\left(\\theta \\right)} + 1, \\cos{\\left(\\theta \\right)}\\right) - 1 \\right)}\\right), 1 - \\max\\left(0, 1 - \\max\\left(0, \\operatorname{sign}{\\left(\\max\\left(1, 2 \\cos{\\left(\\theta \\right)} + 1, \\cos{\\left(\\theta \\right)}\\right) - 1 \\right)}\\right), \\min\\left(1 - \\max\\left(0, \\operatorname{sign}{\\left(- \\cos{\\left(\\theta \\right)} + \\max\\left(1, 2 \\cos{\\left(\\theta \\right)} + 1, \\cos{\\left(\\theta \\right)}\\right) \\right)}\\right), \\max\\left(1 - \\max\\left(0, 1 - \\max\\left(0, \\operatorname{sign}{\\left(\\max\\left(1, 2 \\cos{\\left(\\theta \\right)} + 1, \\cos{\\left(\\theta \\right)}\\right) - 1 \\right)}\\right)\\right), 1 - \\max\\left(0, 1 - \\max\\left(0, \\operatorname{sign}{\\left(\\max\\left(1, 2 \\cos{\\left(\\theta \\right)} + 1, \\cos{\\left(\\theta \\right)}\\right) - 1 \\right)}\\right), \\min\\left(1 - \\max\\left(0, 1 - \\max\\left(0, \\operatorname{sign}{\\left(\\max\\left(1, 2 \\cos{\\left(\\theta \\right)} + 1, \\cos{\\left(\\theta \\right)}\\right) - 1 \\right)}\\right)\\right), 1 - \\max\\left(0, \\operatorname{sign}{\\left(- \\cos{\\left(\\theta \\right)} + \\max\\left(1, 2 \\cos{\\left(\\theta \\right)} + 1, \\cos{\\left(\\theta \\right)}\\right) \\right)}\\right)\\right)\\right)\\right)\\right)\\right)\\right)}{2 \\sqrt{\\max\\left(0, 2 \\cos{\\left(\\theta \\right)} + 2\\right)} - 2 \\min\\left(1 - \\max\\left(0, \\operatorname{sign}{\\left(- 2 \\cos{\\left(\\theta \\right)} + \\max\\left(1, 2 \\cos{\\left(\\theta \\right)} + 1, \\cos{\\left(\\theta \\right)}\\right) - 1 \\right)}\\right), 1 - \\max\\left(0, 1 - \\max\\left(0, \\operatorname{sign}{\\left(\\max\\left(1, 2 \\cos{\\left(\\theta \\right)} + 1, \\cos{\\left(\\theta \\right)}\\right) - 1 \\right)}\\right), \\min\\left(1 - \\max\\left(0, \\operatorname{sign}{\\left(- \\cos{\\left(\\theta \\right)} + \\max\\left(1, 2 \\cos{\\left(\\theta \\right)} + 1, \\cos{\\left(\\theta \\right)}\\right) \\right)}\\right), \\max\\left(1 - \\max\\left(0, 1 - \\max\\left(0, \\operatorname{sign}{\\left(\\max\\left(1, 2 \\cos{\\left(\\theta \\right)} + 1, \\cos{\\left(\\theta \\right)}\\right) - 1 \\right)}\\right)\\right), 1 - \\max\\left(0, 1 - \\max\\left(0, \\operatorname{sign}{\\left(\\max\\left(1, 2 \\cos{\\left(\\theta \\right)} + 1, \\cos{\\left(\\theta \\right)}\\right) - 1 \\right)}\\right), \\min\\left(1 - \\max\\left(0, 1 - \\max\\left(0, \\operatorname{sign}{\\left(\\max\\left(1, 2 \\cos{\\left(\\theta \\right)} + 1, \\cos{\\left(\\theta \\right)}\\right) - 1 \\right)}\\right)\\right), 1 - \\max\\left(0, \\operatorname{sign}{\\left(- \\cos{\\left(\\theta \\right)} + \\max\\left(1, 2 \\cos{\\left(\\theta \\right)} + 1, \\cos{\\left(\\theta \\right)}\\right) \\right)}\\right)\\right)\\right)\\right)\\right)\\right)\\right) + 2}\\right) \\min\\left(1 - \\max\\left(0, \\operatorname{sign}{\\left(- \\cos{\\left(\\theta \\right)} + \\max\\left(1, 2 \\cos{\\left(\\theta \\right)} + 1, \\cos{\\left(\\theta \\right)}\\right) \\right)}\\right), 1 - \\max\\left(0, 1 - \\max\\left(0, \\operatorname{sign}{\\left(\\max\\left(1, 2 \\cos{\\left(\\theta \\right)} + 1, \\cos{\\left(\\theta \\right)}\\right) - 1 \\right)}\\right), \\min\\left(1 - \\max\\left(0, 1 - \\max\\left(0, \\operatorname{sign}{\\left(\\max\\left(1, 2 \\cos{\\left(\\theta \\right)} + 1, \\cos{\\left(\\theta \\right)}\\right) - 1 \\right)}\\right)\\right), 1 - \\max\\left(0, \\operatorname{sign}{\\left(- \\cos{\\left(\\theta \\right)} + \\max\\left(1, 2 \\cos{\\left(\\theta \\right)} + 1, \\cos{\\left(\\theta \\right)}\\right) \\right)}\\right)\\right)\\right)\\right) & 2 \\cdot \\left(\\frac{1}{2} - \\frac{\\min\\left(1 - \\max\\left(0, 1 - \\max\\left(0, \\operatorname{sign}{\\left(\\max\\left(1, 2 \\cos{\\left(\\theta \\right)} + 1, \\cos{\\left(\\theta \\right)}\\right) - 1 \\right)}\\right)\\right), 1 - \\max\\left(0, \\operatorname{sign}{\\left(- \\cos{\\left(\\theta \\right)} + \\max\\left(1, 2 \\cos{\\left(\\theta \\right)} + 1, \\cos{\\left(\\theta \\right)}\\right) \\right)}\\right)\\right)}{2}\\right) \\left(\\frac{1}{2} - \\frac{\\min\\left(1 - \\max\\left(0, \\operatorname{sign}{\\left(- \\cos{\\left(\\theta \\right)} + \\max\\left(1, 2 \\cos{\\left(\\theta \\right)} + 1, \\cos{\\left(\\theta \\right)}\\right) \\right)}\\right), 1 - \\max\\left(0, 1 - \\max\\left(0, \\operatorname{sign}{\\left(\\max\\left(1, 2 \\cos{\\left(\\theta \\right)} + 1, \\cos{\\left(\\theta \\right)}\\right) - 1 \\right)}\\right), \\min\\left(1 - \\max\\left(0, 1 - \\max\\left(0, \\operatorname{sign}{\\left(\\max\\left(1, 2 \\cos{\\left(\\theta \\right)} + 1, \\cos{\\left(\\theta \\right)}\\right) - 1 \\right)}\\right)\\right), 1 - \\max\\left(0, \\operatorname{sign}{\\left(- \\cos{\\left(\\theta \\right)} + \\max\\left(1, 2 \\cos{\\left(\\theta \\right)} + 1, \\cos{\\left(\\theta \\right)}\\right) \\right)}\\right)\\right)\\right)\\right)}{2}\\right) \\min\\left(1 - \\max\\left(0, 1 - \\max\\left(0, \\operatorname{sign}{\\left(\\max\\left(1, 2 \\cos{\\left(\\theta \\right)} + 1, \\cos{\\left(\\theta \\right)}\\right) - 1 \\right)}\\right)\\right), 1 - \\max\\left(0, \\operatorname{sign}{\\left(- \\cos{\\left(\\theta \\right)} + \\max\\left(1, 2 \\cos{\\left(\\theta \\right)} + 1, \\cos{\\left(\\theta \\right)}\\right) \\right)}\\right)\\right) \\min\\left(1 - \\max\\left(0, \\operatorname{sign}{\\left(- \\cos{\\left(\\theta \\right)} + \\max\\left(1, 2 \\cos{\\left(\\theta \\right)} + 1, \\cos{\\left(\\theta \\right)}\\right) \\right)}\\right), 1 - \\max\\left(0, 1 - \\max\\left(0, \\operatorname{sign}{\\left(\\max\\left(1, 2 \\cos{\\left(\\theta \\right)} + 1, \\cos{\\left(\\theta \\right)}\\right) - 1 \\right)}\\right), \\min\\left(1 - \\max\\left(0, 1 - \\max\\left(0, \\operatorname{sign}{\\left(\\max\\left(1, 2 \\cos{\\left(\\theta \\right)} + 1, \\cos{\\left(\\theta \\right)}\\right) - 1 \\right)}\\right)\\right), 1 - \\max\\left(0, \\operatorname{sign}{\\left(- \\cos{\\left(\\theta \\right)} + \\max\\left(1, 2 \\cos{\\left(\\theta \\right)} + 1, \\cos{\\left(\\theta \\right)}\\right) \\right)}\\right)\\right)\\right)\\right) + \\left(2 \\cdot \\left(1 - \\max\\left(0, \\operatorname{sign}{\\left(\\max\\left(1, 2 \\cos{\\left(\\theta \\right)} + 1, \\cos{\\left(\\theta \\right)}\\right) - 1 \\right)}\\right)\\right) \\left(\\frac{\\sqrt{\\max\\left(0, 2 - 2 \\cos{\\left(\\theta \\right)}\\right)}}{2} + \\frac{\\max\\left(0, \\operatorname{sign}{\\left(\\max\\left(1, 2 \\cos{\\left(\\theta \\right)} + 1, \\cos{\\left(\\theta \\right)}\\right) - 1 \\right)}\\right)}{2}\\right) + \\frac{4 \\sin{\\left(\\theta \\right)} \\min\\left(1 - \\max\\left(0, \\operatorname{sign}{\\left(- 2 \\cos{\\left(\\theta \\right)} + \\max\\left(1, 2 \\cos{\\left(\\theta \\right)} + 1, \\cos{\\left(\\theta \\right)}\\right) - 1 \\right)}\\right), 1 - \\max\\left(0, 1 - \\max\\left(0, \\operatorname{sign}{\\left(\\max\\left(1, 2 \\cos{\\left(\\theta \\right)} + 1, \\cos{\\left(\\theta \\right)}\\right) - 1 \\right)}\\right), \\min\\left(1 - \\max\\left(0, \\operatorname{sign}{\\left(- \\cos{\\left(\\theta \\right)} + \\max\\left(1, 2 \\cos{\\left(\\theta \\right)} + 1, \\cos{\\left(\\theta \\right)}\\right) \\right)}\\right), \\max\\left(1 - \\max\\left(0, 1 - \\max\\left(0, \\operatorname{sign}{\\left(\\max\\left(1, 2 \\cos{\\left(\\theta \\right)} + 1, \\cos{\\left(\\theta \\right)}\\right) - 1 \\right)}\\right)\\right), 1 - \\max\\left(0, 1 - \\max\\left(0, \\operatorname{sign}{\\left(\\max\\left(1, 2 \\cos{\\left(\\theta \\right)} + 1, \\cos{\\left(\\theta \\right)}\\right) - 1 \\right)}\\right), \\min\\left(1 - \\max\\left(0, 1 - \\max\\left(0, \\operatorname{sign}{\\left(\\max\\left(1, 2 \\cos{\\left(\\theta \\right)} + 1, \\cos{\\left(\\theta \\right)}\\right) - 1 \\right)}\\right)\\right), 1 - \\max\\left(0, \\operatorname{sign}{\\left(- \\cos{\\left(\\theta \\right)} + \\max\\left(1, 2 \\cos{\\left(\\theta \\right)} + 1, \\cos{\\left(\\theta \\right)}\\right) \\right)}\\right)\\right)\\right)\\right)\\right)\\right)\\right)}{2 \\sqrt{\\max\\left(0, 2 \\cos{\\left(\\theta \\right)} + 2\\right)} - 2 \\min\\left(1 - \\max\\left(0, \\operatorname{sign}{\\left(- 2 \\cos{\\left(\\theta \\right)} + \\max\\left(1, 2 \\cos{\\left(\\theta \\right)} + 1, \\cos{\\left(\\theta \\right)}\\right) - 1 \\right)}\\right), 1 - \\max\\left(0, 1 - \\max\\left(0, \\operatorname{sign}{\\left(\\max\\left(1, 2 \\cos{\\left(\\theta \\right)} + 1, \\cos{\\left(\\theta \\right)}\\right) - 1 \\right)}\\right), \\min\\left(1 - \\max\\left(0, \\operatorname{sign}{\\left(- \\cos{\\left(\\theta \\right)} + \\max\\left(1, 2 \\cos{\\left(\\theta \\right)} + 1, \\cos{\\left(\\theta \\right)}\\right) \\right)}\\right), \\max\\left(1 - \\max\\left(0, 1 - \\max\\left(0, \\operatorname{sign}{\\left(\\max\\left(1, 2 \\cos{\\left(\\theta \\right)} + 1, \\cos{\\left(\\theta \\right)}\\right) - 1 \\right)}\\right)\\right), 1 - \\max\\left(0, 1 - \\max\\left(0, \\operatorname{sign}{\\left(\\max\\left(1, 2 \\cos{\\left(\\theta \\right)} + 1, \\cos{\\left(\\theta \\right)}\\right) - 1 \\right)}\\right), \\min\\left(1 - \\max\\left(0, 1 - \\max\\left(0, \\operatorname{sign}{\\left(\\max\\left(1, 2 \\cos{\\left(\\theta \\right)} + 1, \\cos{\\left(\\theta \\right)}\\right) - 1 \\right)}\\right)\\right), 1 - \\max\\left(0, \\operatorname{sign}{\\left(- \\cos{\\left(\\theta \\right)} + \\max\\left(1, 2 \\cos{\\left(\\theta \\right)} + 1, \\cos{\\left(\\theta \\right)}\\right) \\right)}\\right)\\right)\\right)\\right)\\right)\\right)\\right) + 2}\\right) \\left(\\frac{2 \\cdot \\left(1 - \\max\\left(0, \\operatorname{sign}{\\left(\\max\\left(1, 2 \\cos{\\left(\\theta \\right)} + 1, \\cos{\\left(\\theta \\right)}\\right) - 1 \\right)}\\right)\\right) \\sin{\\left(\\theta \\right)}}{2 \\sqrt{\\max\\left(0, 2 - 2 \\cos{\\left(\\theta \\right)}\\right)} + 2 \\max\\left(0, \\operatorname{sign}{\\left(\\max\\left(1, 2 \\cos{\\left(\\theta \\right)} + 1, \\cos{\\left(\\theta \\right)}\\right) - 1 \\right)}\\right)} + \\left(\\frac{\\sqrt{\\max\\left(0, 2 \\cos{\\left(\\theta \\right)} + 2\\right)}}{2} - \\frac{\\min\\left(1 - \\max\\left(0, \\operatorname{sign}{\\left(- 2 \\cos{\\left(\\theta \\right)} + \\max\\left(1, 2 \\cos{\\left(\\theta \\right)} + 1, \\cos{\\left(\\theta \\right)}\\right) - 1 \\right)}\\right), 1 - \\max\\left(0, 1 - \\max\\left(0, \\operatorname{sign}{\\left(\\max\\left(1, 2 \\cos{\\left(\\theta \\right)} + 1, \\cos{\\left(\\theta \\right)}\\right) - 1 \\right)}\\right), \\min\\left(1 - \\max\\left(0, \\operatorname{sign}{\\left(- \\cos{\\left(\\theta \\right)} + \\max\\left(1, 2 \\cos{\\left(\\theta \\right)} + 1, \\cos{\\left(\\theta \\right)}\\right) \\right)}\\right), \\max\\left(1 - \\max\\left(0, 1 - \\max\\left(0, \\operatorname{sign}{\\left(\\max\\left(1, 2 \\cos{\\left(\\theta \\right)} + 1, \\cos{\\left(\\theta \\right)}\\right) - 1 \\right)}\\right)\\right), 1 - \\max\\left(0, 1 - \\max\\left(0, \\operatorname{sign}{\\left(\\max\\left(1, 2 \\cos{\\left(\\theta \\right)} + 1, \\cos{\\left(\\theta \\right)}\\right) - 1 \\right)}\\right), \\min\\left(1 - \\max\\left(0, 1 - \\max\\left(0, \\operatorname{sign}{\\left(\\max\\left(1, 2 \\cos{\\left(\\theta \\right)} + 1, \\cos{\\left(\\theta \\right)}\\right) - 1 \\right)}\\right)\\right), 1 - \\max\\left(0, \\operatorname{sign}{\\left(- \\cos{\\left(\\theta \\right)} + \\max\\left(1, 2 \\cos{\\left(\\theta \\right)} + 1, \\cos{\\left(\\theta \\right)}\\right) \\right)}\\right)\\right)\\right)\\right)\\right)\\right)\\right)}{2} + \\frac{1}{2}\\right) \\min\\left(1 - \\max\\left(0, \\operatorname{sign}{\\left(- 2 \\cos{\\left(\\theta \\right)} + \\max\\left(1, 2 \\cos{\\left(\\theta \\right)} + 1, \\cos{\\left(\\theta \\right)}\\right) - 1 \\right)}\\right), 1 - \\max\\left(0, 1 - \\max\\left(0, \\operatorname{sign}{\\left(\\max\\left(1, 2 \\cos{\\left(\\theta \\right)} + 1, \\cos{\\left(\\theta \\right)}\\right) - 1 \\right)}\\right), \\min\\left(1 - \\max\\left(0, \\operatorname{sign}{\\left(- \\cos{\\left(\\theta \\right)} + \\max\\left(1, 2 \\cos{\\left(\\theta \\right)} + 1, \\cos{\\left(\\theta \\right)}\\right) \\right)}\\right), \\max\\left(1 - \\max\\left(0, 1 - \\max\\left(0, \\operatorname{sign}{\\left(\\max\\left(1, 2 \\cos{\\left(\\theta \\right)} + 1, \\cos{\\left(\\theta \\right)}\\right) - 1 \\right)}\\right)\\right), 1 - \\max\\left(0, 1 - \\max\\left(0, \\operatorname{sign}{\\left(\\max\\left(1, 2 \\cos{\\left(\\theta \\right)} + 1, \\cos{\\left(\\theta \\right)}\\right) - 1 \\right)}\\right), \\min\\left(1 - \\max\\left(0, 1 - \\max\\left(0, \\operatorname{sign}{\\left(\\max\\left(1, 2 \\cos{\\left(\\theta \\right)} + 1, \\cos{\\left(\\theta \\right)}\\right) - 1 \\right)}\\right)\\right), 1 - \\max\\left(0, \\operatorname{sign}{\\left(- \\cos{\\left(\\theta \\right)} + \\max\\left(1, 2 \\cos{\\left(\\theta \\right)} + 1, \\cos{\\left(\\theta \\right)}\\right) \\right)}\\right)\\right)\\right)\\right)\\right)\\right)\\right)\\right) & - 2 \\left(\\frac{1}{2} - \\frac{\\min\\left(1 - \\max\\left(0, 1 - \\max\\left(0, \\operatorname{sign}{\\left(\\max\\left(1, 2 \\cos{\\left(\\theta \\right)} + 1, \\cos{\\left(\\theta \\right)}\\right) - 1 \\right)}\\right)\\right), 1 - \\max\\left(0, \\operatorname{sign}{\\left(- \\cos{\\left(\\theta \\right)} + \\max\\left(1, 2 \\cos{\\left(\\theta \\right)} + 1, \\cos{\\left(\\theta \\right)}\\right) \\right)}\\right)\\right)}{2}\\right)^{2} \\min\\left(1 - \\max\\left(0, 1 - \\max\\left(0, \\operatorname{sign}{\\left(\\max\\left(1, 2 \\cos{\\left(\\theta \\right)} + 1, \\cos{\\left(\\theta \\right)}\\right) - 1 \\right)}\\right)\\right), 1 - \\max\\left(0, \\operatorname{sign}{\\left(- \\cos{\\left(\\theta \\right)} + \\max\\left(1, 2 \\cos{\\left(\\theta \\right)} + 1, \\cos{\\left(\\theta \\right)}\\right) \\right)}\\right)\\right)^{2} - 2 \\left(\\left(1 - \\max\\left(0, \\operatorname{sign}{\\left(\\max\\left(1, 2 \\cos{\\left(\\theta \\right)} + 1, \\cos{\\left(\\theta \\right)}\\right) - 1 \\right)}\\right)\\right) \\left(\\frac{\\sqrt{\\max\\left(0, 2 - 2 \\cos{\\left(\\theta \\right)}\\right)}}{2} + \\frac{\\max\\left(0, \\operatorname{sign}{\\left(\\max\\left(1, 2 \\cos{\\left(\\theta \\right)} + 1, \\cos{\\left(\\theta \\right)}\\right) - 1 \\right)}\\right)}{2}\\right) + \\frac{2 \\sin{\\left(\\theta \\right)} \\min\\left(1 - \\max\\left(0, \\operatorname{sign}{\\left(- 2 \\cos{\\left(\\theta \\right)} + \\max\\left(1, 2 \\cos{\\left(\\theta \\right)} + 1, \\cos{\\left(\\theta \\right)}\\right) - 1 \\right)}\\right), 1 - \\max\\left(0, 1 - \\max\\left(0, \\operatorname{sign}{\\left(\\max\\left(1, 2 \\cos{\\left(\\theta \\right)} + 1, \\cos{\\left(\\theta \\right)}\\right) - 1 \\right)}\\right), \\min\\left(1 - \\max\\left(0, \\operatorname{sign}{\\left(- \\cos{\\left(\\theta \\right)} + \\max\\left(1, 2 \\cos{\\left(\\theta \\right)} + 1, \\cos{\\left(\\theta \\right)}\\right) \\right)}\\right), \\max\\left(1 - \\max\\left(0, 1 - \\max\\left(0, \\operatorname{sign}{\\left(\\max\\left(1, 2 \\cos{\\left(\\theta \\right)} + 1, \\cos{\\left(\\theta \\right)}\\right) - 1 \\right)}\\right)\\right), 1 - \\max\\left(0, 1 - \\max\\left(0, \\operatorname{sign}{\\left(\\max\\left(1, 2 \\cos{\\left(\\theta \\right)} + 1, \\cos{\\left(\\theta \\right)}\\right) - 1 \\right)}\\right), \\min\\left(1 - \\max\\left(0, 1 - \\max\\left(0, \\operatorname{sign}{\\left(\\max\\left(1, 2 \\cos{\\left(\\theta \\right)} + 1, \\cos{\\left(\\theta \\right)}\\right) - 1 \\right)}\\right)\\right), 1 - \\max\\left(0, \\operatorname{sign}{\\left(- \\cos{\\left(\\theta \\right)} + \\max\\left(1, 2 \\cos{\\left(\\theta \\right)} + 1, \\cos{\\left(\\theta \\right)}\\right) \\right)}\\right)\\right)\\right)\\right)\\right)\\right)\\right)}{2 \\sqrt{\\max\\left(0, 2 \\cos{\\left(\\theta \\right)} + 2\\right)} - 2 \\min\\left(1 - \\max\\left(0, \\operatorname{sign}{\\left(- 2 \\cos{\\left(\\theta \\right)} + \\max\\left(1, 2 \\cos{\\left(\\theta \\right)} + 1, \\cos{\\left(\\theta \\right)}\\right) - 1 \\right)}\\right), 1 - \\max\\left(0, 1 - \\max\\left(0, \\operatorname{sign}{\\left(\\max\\left(1, 2 \\cos{\\left(\\theta \\right)} + 1, \\cos{\\left(\\theta \\right)}\\right) - 1 \\right)}\\right), \\min\\left(1 - \\max\\left(0, \\operatorname{sign}{\\left(- \\cos{\\left(\\theta \\right)} + \\max\\left(1, 2 \\cos{\\left(\\theta \\right)} + 1, \\cos{\\left(\\theta \\right)}\\right) \\right)}\\right), \\max\\left(1 - \\max\\left(0, 1 - \\max\\left(0, \\operatorname{sign}{\\left(\\max\\left(1, 2 \\cos{\\left(\\theta \\right)} + 1, \\cos{\\left(\\theta \\right)}\\right) - 1 \\right)}\\right)\\right), 1 - \\max\\left(0, 1 - \\max\\left(0, \\operatorname{sign}{\\left(\\max\\left(1, 2 \\cos{\\left(\\theta \\right)} + 1, \\cos{\\left(\\theta \\right)}\\right) - 1 \\right)}\\right), \\min\\left(1 - \\max\\left(0, 1 - \\max\\left(0, \\operatorname{sign}{\\left(\\max\\left(1, 2 \\cos{\\left(\\theta \\right)} + 1, \\cos{\\left(\\theta \\right)}\\right) - 1 \\right)}\\right)\\right), 1 - \\max\\left(0, \\operatorname{sign}{\\left(- \\cos{\\left(\\theta \\right)} + \\max\\left(1, 2 \\cos{\\left(\\theta \\right)} + 1, \\cos{\\left(\\theta \\right)}\\right) \\right)}\\right)\\right)\\right)\\right)\\right)\\right)\\right) + 2}\\right)^{2} + 1\\end{matrix}\\right]$"
      ],
      "text/plain": [
       "⎡                                                                                                                                      \n",
       "⎢                                                                                                                                      \n",
       "⎢                                                                                                                                      \n",
       "⎢                                                                                                                                      \n",
       "⎢                                                                                                                                      \n",
       "⎢                                                                                                                                      \n",
       "⎢                                                                                                                                      \n",
       "⎢                                                                                                                                      \n",
       "⎢ ⎛1   Min(1 - Max(0, 1 - Max(0, sign(Max(1, 2*cos(theta) + 1, cos(theta)) - 1))), 1 - Max(0, sign(-cos(theta) + Max(1, 2*cos(theta) + \n",
       "⎢ ⎜─ - ────────────────────────────────────────────────────────────────────────────────────────────────────────────────────────────────\n",
       "⎢ ⎝2                                                                           2                                                       \n",
       "⎢                                                                                                                                      \n",
       "⎢                                                                                                                                      \n",
       "⎢                                                                                                                                      \n",
       "⎢                                                                                                                                      \n",
       "⎢    ⎛1   Min(1 - Max(0, 1 - Max(0, sign(Max(1, 2*cos(theta) + 1, cos(theta)) - 1))), 1 - Max(0, sign(-cos(theta) + Max(1, 2*cos(theta)\n",
       "⎢- 2⋅⎜─ - ─────────────────────────────────────────────────────────────────────────────────────────────────────────────────────────────\n",
       "⎢    ⎝2                                                                           2                                                    \n",
       "⎣                                                                                                                                      \n",
       "\n",
       "                                                                                                                                       \n",
       "                                                                                                                                       \n",
       "                                                                                                                                       \n",
       "                                                                                                                                       \n",
       "                                                                                                                                       \n",
       "                                                                                                                                       \n",
       "                                                                                                                                       \n",
       "                   ⎛                                                               ⎛  __________________________                       \n",
       "1, cos(theta)))))⎞ ⎜                                                               ⎜╲╱ Max(0, 2 - 2*cos(theta))    Max(0, sign(Max(1, 2\n",
       "─────────────────⎟⋅⎜2⋅(1 - Max(0, sign(Max(1, 2*cos(theta) + 1, cos(theta)) - 1)))⋅⎜──────────────────────────── + ────────────────────\n",
       "                 ⎠ ⎜                                                               ⎝             2                                     \n",
       "                   ⎝                                                                                                                   \n",
       "                                                                                                                                       \n",
       "                                                                                                                                       \n",
       "                      ⎛                                                                                            ⎛  _________________\n",
       " + 1, cos(theta)))))⎞ ⎜          2⋅(1 - Max(0, sign(Max(1, 2*cos(theta) + 1, cos(theta)) - 1)))⋅sin(θ)             ⎜╲╱ Max(0, 2*cos(the\n",
       "────────────────────⎟⋅⎜───────────────────────────────────────────────────────────────────────────────────────── + ⎜───────────────────\n",
       "                    ⎠ ⎜    __________________________                                                              ⎝             2     \n",
       "                      ⎝2⋅╲╱ Max(0, 2 - 2*cos(theta))  + 2⋅Max(0, sign(Max(1, 2*cos(theta) + 1, cos(theta)) - 1))                       \n",
       "\n",
       "                                                                                                                                       \n",
       "                                                                                                                                       \n",
       "                                                                                                                                       \n",
       "                                                                                                                                       \n",
       "                                                                                                                                       \n",
       "                                                                                                                                       \n",
       "                                                                                                                                       \n",
       "                                  ⎞                                                                                                    \n",
       "*cos(theta) + 1, cos(theta)) - 1))⎟                  4⋅sin(θ)⋅Min(1 - Max(0, sign(-2*cos(theta) + Max(1, 2*cos(theta) + 1, cos(theta)) \n",
       "──────────────────────────────────⎟ + ─────────────────────────────────────────────────────────────────────────────────────────────────\n",
       "      2                           ⎠       __________________________                                                                   \n",
       "                                      2⋅╲╱ Max(0, 2*cos(theta) + 2)  - 2⋅Min(1 - Max(0, sign(-2*cos(theta) + Max(1, 2*cos(theta) + 1, c\n",
       "                                                                                                                                       \n",
       "                                                                                                                                       \n",
       "_________                                                                                                                              \n",
       "ta) + 2)    Min(1 - Max(0, sign(-2*cos(theta) + Max(1, 2*cos(theta) + 1, cos(theta)) - 1)), 1 - Max(0, 1 - Max(0, sign(Max(1, 2*cos(the\n",
       "───────── - ───────────────────────────────────────────────────────────────────────────────────────────────────────────────────────────\n",
       "                                                                                                                                       \n",
       "                                                                                                                                       \n",
       "\n",
       "                                                                                                                                       \n",
       "                                                                                                                                       \n",
       "                                                                                                                                       \n",
       "                                                                                                                                       \n",
       "                                                                                                                                       \n",
       "                                                                                                                                       \n",
       "                                                                                                                                       \n",
       "                                                                                                                                       \n",
       "- 1)), 1 - Max(0, 1 - Max(0, sign(Max(1, 2*cos(theta) + 1, cos(theta)) - 1)), Min(1 - Max(0, sign(-cos(theta) + Max(1, 2*cos(theta) + 1\n",
       "───────────────────────────────────────────────────────────────────────────────────────────────────────────────────────────────────────\n",
       "                                                                                                                                       \n",
       "os(theta)) - 1)), 1 - Max(0, 1 - Max(0, sign(Max(1, 2*cos(theta) + 1, cos(theta)) - 1)), Min(1 - Max(0, sign(-cos(theta) + Max(1, 2*cos\n",
       "                                                                                                                                       \n",
       "                                                                                                                                       \n",
       "                                                                                                                                       \n",
       "ta) + 1, cos(theta)) - 1)), Min(1 - Max(0, sign(-cos(theta) + Max(1, 2*cos(theta) + 1, cos(theta)))), Max(1 - Max(0, 1 - Max(0, sign(Ma\n",
       "───────────────────────────────────────────────────────────────────────────────────────────────────────────────────────────────────────\n",
       "                                                                                                                                       \n",
       "                                                                                                                                       \n",
       "\n",
       "                                                                                                                                       \n",
       "                                                                                                                                       \n",
       "                                                                                                                                       \n",
       "                                                                                                                                       \n",
       "                                                                                                                                       \n",
       "                                                                                                                                       \n",
       "                                                                                                                                       \n",
       "                                                                                                                                       \n",
       ", cos(theta)))), Max(1 - Max(0, 1 - Max(0, sign(Max(1, 2*cos(theta) + 1, cos(theta)) - 1))), 1 - Max(0, 1 - Max(0, sign(Max(1, 2*cos(th\n",
       "───────────────────────────────────────────────────────────────────────────────────────────────────────────────────────────────────────\n",
       "                                                                                                                                       \n",
       "(theta) + 1, cos(theta)))), Max(1 - Max(0, 1 - Max(0, sign(Max(1, 2*cos(theta) + 1, cos(theta)) - 1))), 1 - Max(0, 1 - Max(0, sign(Max(\n",
       "                                                                                                                                       \n",
       "                                                                                                                                       \n",
       "                                                                                                                                       \n",
       "x(1, 2*cos(theta) + 1, cos(theta)) - 1))), 1 - Max(0, 1 - Max(0, sign(Max(1, 2*cos(theta) + 1, cos(theta)) - 1)), Min(1 - Max(0, 1 - Ma\n",
       "───────────────────────────────────────────────────────────────────────────────────────────────────────────────────────────────────────\n",
       "  2                                                                                                                                    \n",
       "                                                                                                                                       \n",
       "\n",
       "                                                                                                                                       \n",
       "                                                                                                                                       \n",
       "                                                                                                                                       \n",
       "                                                                                                                                       \n",
       "                                                                                                                                       \n",
       "                                                                                                                                       \n",
       "                                                                                                                                       \n",
       "                                                                                                                                       \n",
       "eta) + 1, cos(theta)) - 1)), Min(1 - Max(0, 1 - Max(0, sign(Max(1, 2*cos(theta) + 1, cos(theta)) - 1))), 1 - Max(0, sign(-cos(theta) + \n",
       "───────────────────────────────────────────────────────────────────────────────────────────────────────────────────────────────────────\n",
       "                                                                                                                                       \n",
       "1, 2*cos(theta) + 1, cos(theta)) - 1)), Min(1 - Max(0, 1 - Max(0, sign(Max(1, 2*cos(theta) + 1, cos(theta)) - 1))), 1 - Max(0, sign(-co\n",
       "                                                                                                                                       \n",
       "                                                                                                                                       \n",
       "                                                                                                                                     ⎞ \n",
       "x(0, sign(Max(1, 2*cos(theta) + 1, cos(theta)) - 1))), 1 - Max(0, sign(-cos(theta) + Max(1, 2*cos(theta) + 1, cos(theta))))))))))   1⎟ \n",
       "───────────────────────────────────────────────────────────────────────────────────────────────────────────────────────────────── + ─⎟⋅\n",
       "                                                                                                                                    2⎠ \n",
       "                                                                                                                                       \n",
       "\n",
       "                                                                                                                                       \n",
       "                                                                                                                                       \n",
       "                                                                                                                                     - \n",
       "                                                                                                                                       \n",
       "                                                                                                                                       \n",
       "                                                                                                                                       \n",
       "                                                                                                                                       \n",
       "                                                           ⎞                                                                           \n",
       "Max(1, 2*cos(theta) + 1, cos(theta))))))))))               ⎟                                                                           \n",
       "───────────────────────────────────────────────────────────⎟⋅Min(1 - Max(0, 1 - Max(0, sign(Max(1, 2*cos(theta) + 1, cos(theta)) - 1)))\n",
       "                                                           ⎟                                                                           \n",
       "s(theta) + Max(1, 2*cos(theta) + 1, cos(theta)))))))))) + 2⎠                                                                           \n",
       "                                                                                                                                       \n",
       "                                                                                                                                       \n",
       "                                                                                                                                       \n",
       "                                                                                                                                       \n",
       "Min(1 - Max(0, sign(-2*cos(theta) + Max(1, 2*cos(theta) + 1, cos(theta)) - 1)), 1 - Max(0, 1 - Max(0, sign(Max(1, 2*cos(theta) + 1, cos\n",
       "                                                                                                                                       \n",
       "                                                                                                                                       \n",
       "\n",
       "                                                                                                                                       \n",
       "  ⎛1   Min(1 - Max(0, 1 - Max(0, sign(Max(1, 2*cos(theta) + 1, cos(theta)) - 1))), 1 - Max(0, sign(-cos(theta) + Max(1, 2*cos(theta) + \n",
       "2⋅⎜─ - ────────────────────────────────────────────────────────────────────────────────────────────────────────────────────────────────\n",
       "  ⎝2                                                                           2                                                       \n",
       "                                                                                                                                       \n",
       "                                                                                                                                       \n",
       "                                                                                                                                       \n",
       "                                                                                                                                       \n",
       "                                                                            ⎛1   Min(1 - Max(0, sign(-cos(theta) + Max(1, 2*cos(theta) \n",
       ", 1 - Max(0, sign(-cos(theta) + Max(1, 2*cos(theta) + 1, cos(theta))))) + 2⋅⎜─ - ──────────────────────────────────────────────────────\n",
       "                                                                            ⎝2                                                         \n",
       "                                                                                                                                       \n",
       "                                                                                                                                       \n",
       "                                                                                                                                       \n",
       "                                                                                                                                       \n",
       "                                                                                                                                       \n",
       "(theta)) - 1)), Min(1 - Max(0, sign(-cos(theta) + Max(1, 2*cos(theta) + 1, cos(theta)))), Max(1 - Max(0, 1 - Max(0, sign(Max(1, 2*cos(t\n",
       "                                                                                                                                       \n",
       "                                                                                                                                       \n",
       "\n",
       "                  2                                                                                                                    \n",
       "1, cos(theta)))))⎞                                                                                                                     \n",
       "─────────────────⎟ ⋅Min(1 - Max(0, 1 - Max(0, sign(Max(1, 2*cos(theta) + 1, cos(theta)) - 1))), 1 - Max(0, sign(-cos(theta) + Max(1, 2*\n",
       "                 ⎠                                                                                                                     \n",
       "                                                                                                                                       \n",
       "                                                                                                                                       \n",
       "                                                                                                                                       \n",
       "                                                                                                                                       \n",
       "+ 1, cos(theta)))), 1 - Max(0, 1 - Max(0, sign(Max(1, 2*cos(theta) + 1, cos(theta)) - 1)), Min(1 - Max(0, 1 - Max(0, sign(Max(1, 2*cos(\n",
       "───────────────────────────────────────────────────────────────────────────────────────────────────────────────────────────────────────\n",
       "                                                                                           2                                           \n",
       "                                                                                                                                       \n",
       "                                                                                                                                       \n",
       "                                                                                                                                       \n",
       "                                                                                                                                       \n",
       "                                                                                                                                       \n",
       "heta) + 1, cos(theta)) - 1))), 1 - Max(0, 1 - Max(0, sign(Max(1, 2*cos(theta) + 1, cos(theta)) - 1)), Min(1 - Max(0, 1 - Max(0, sign(Ma\n",
       "                                                                                                                                       \n",
       "                                                                                                                                       \n",
       "\n",
       "                                                                                                                                       \n",
       "                              2     ⎛1   Min(1 - Max(0, sign(-cos(theta) + Max(1, 2*cos(theta) + 1, cos(theta)))), 1 - Max(0, 1 - Max(0\n",
       "cos(theta) + 1, cos(theta)))))  - 2⋅⎜─ - ──────────────────────────────────────────────────────────────────────────────────────────────\n",
       "                                    ⎝2                                                                                                 \n",
       "                                                                                                                                       \n",
       "                                                                                                                                       \n",
       "                                                                                                                                       \n",
       "                                                                                                         ⎛                             \n",
       "theta) + 1, cos(theta)) - 1))), 1 - Max(0, sign(-cos(theta) + Max(1, 2*cos(theta) + 1, cos(theta)))))))⎞ ⎜          2⋅(1 - Max(0, sign(\n",
       "───────────────────────────────────────────────────────────────────────────────────────────────────────⎟⋅⎜─────────────────────────────\n",
       "                                                                                                       ⎠ ⎜    _________________________\n",
       "                                                                                                         ⎝2⋅╲╱ Max(0, 2 - 2*cos(theta))\n",
       "                                                                                                                                       \n",
       "                                                                                                                                       \n",
       "                                                                                                                     ⎞                 \n",
       "                                                                                                                     ⎟                 \n",
       "x(1, 2*cos(theta) + 1, cos(theta)) - 1))), 1 - Max(0, sign(-cos(theta) + Max(1, 2*cos(theta) + 1, cos(theta))))))))))⎟⋅Min(1 - Max(0, 1\n",
       "                                                                                                                     ⎟                 \n",
       "                                                                                                                     ⎠                 \n",
       "\n",
       "                                                                                                                                       \n",
       ", sign(Max(1, 2*cos(theta) + 1, cos(theta)) - 1)), Min(1 - Max(0, 1 - Max(0, sign(Max(1, 2*cos(theta) + 1, cos(theta)) - 1))), 1 - Max(\n",
       "───────────────────────────────────────────────────────────────────────────────────────────────────────────────────────────────────────\n",
       "                                                   2                                                                                   \n",
       "                                                                                                                                       \n",
       "                                                                                                                                       \n",
       "                                                                                                                                       \n",
       "                                                               ⎛  __________________________                                           \n",
       "Max(1, 2*cos(theta) + 1, cos(theta)) - 1)))⋅sin(θ)             ⎜╲╱ Max(0, 2*cos(theta) + 2)    Min(1 - Max(0, sign(-2*cos(theta) + Max(\n",
       "──────────────────────────────────────────────────────────── + ⎜──────────────────────────── - ────────────────────────────────────────\n",
       "_                                                              ⎝             2                                                         \n",
       "  + 2⋅Max(0, sign(Max(1, 2*cos(theta) + 1, cos(theta)) - 1))                                                                           \n",
       "                                                                                                                                       \n",
       "                                                                                                                                       \n",
       "                                                                                                                                       \n",
       "                                                                                                                                    ⎛1 \n",
       " - Max(0, sign(Max(1, 2*cos(theta) + 1, cos(theta)) - 1))), 1 - Max(0, sign(-cos(theta) + Max(1, 2*cos(theta) + 1, cos(theta))))) + ⎜─ \n",
       "                                                                                                                                    ⎝2 \n",
       "                                                                                                                                       \n",
       "\n",
       "                                                                2                                                                      \n",
       "0, sign(-cos(theta) + Max(1, 2*cos(theta) + 1, cos(theta)))))))⎞                                                                       \n",
       "───────────────────────────────────────────────────────────────⎟ ⋅Min(1 - Max(0, sign(-cos(theta) + Max(1, 2*cos(theta) + 1, cos(theta)\n",
       "                                                               ⎠                                                                       \n",
       "                                                                                                                                       \n",
       "                                                                                                                                       \n",
       "                                                                                                                                       \n",
       "                                                                                                                                       \n",
       "1, 2*cos(theta) + 1, cos(theta)) - 1)), 1 - Max(0, 1 - Max(0, sign(Max(1, 2*cos(theta) + 1, cos(theta)) - 1)), Min(1 - Max(0, sign(-cos\n",
       "───────────────────────────────────────────────────────────────────────────────────────────────────────────────────────────────────────\n",
       "                                                                                                                                       \n",
       "                                                                                                                                       \n",
       "                                                                                                                                       \n",
       "                                                                                                                                       \n",
       "                                                                                                                                       \n",
       "  Min(1 - Max(0, sign(-cos(theta) + Max(1, 2*cos(theta) + 1, cos(theta)))), 1 - Max(0, 1 - Max(0, sign(Max(1, 2*cos(theta) + 1, cos(the\n",
       "- ─────────────────────────────────────────────────────────────────────────────────────────────────────────────────────────────────────\n",
       "                                                                                                                                       \n",
       "                                                                                                                                       \n",
       "\n",
       "                                                                                                                                       \n",
       "                                                                                                                                       \n",
       "))), 1 - Max(0, 1 - Max(0, sign(Max(1, 2*cos(theta) + 1, cos(theta)) - 1)), Min(1 - Max(0, 1 - Max(0, sign(Max(1, 2*cos(theta) + 1, cos\n",
       "                                                                                                                                       \n",
       "                                                                                                                                       \n",
       "                                                                                                                                       \n",
       "                                                                                                                                       \n",
       "                                                                                                                                       \n",
       "(theta) + Max(1, 2*cos(theta) + 1, cos(theta)))), Max(1 - Max(0, 1 - Max(0, sign(Max(1, 2*cos(theta) + 1, cos(theta)) - 1))), 1 - Max(0\n",
       "───────────────────────────────────────────────────────────────────────────────────────────────────────────────────────────────────────\n",
       "                                                                                     2                                                 \n",
       "                                                                                                                                       \n",
       "                                                                                                                                       \n",
       "                                                                                                                                       \n",
       "                                                                                                                                       \n",
       "ta)) - 1)), Min(1 - Max(0, 1 - Max(0, sign(Max(1, 2*cos(theta) + 1, cos(theta)) - 1))), 1 - Max(0, sign(-cos(theta) + Max(1, 2*cos(thet\n",
       "───────────────────────────────────────────────────────────────────────────────────────────────────────────────────────────────────────\n",
       "            2                                                                                                                          \n",
       "                                                                                                                                       \n",
       "\n",
       "                                                                                                                                       \n",
       "                                                                                        2                                              \n",
       "(theta)) - 1))), 1 - Max(0, sign(-cos(theta) + Max(1, 2*cos(theta) + 1, cos(theta)))))))  + 1                                          \n",
       "                                                                                                                                       \n",
       "                                                                                                                                       \n",
       "                                                                                                                                       \n",
       "                                                                                                                                       \n",
       "                                                                                                                                       \n",
       ", 1 - Max(0, sign(Max(1, 2*cos(theta) + 1, cos(theta)) - 1)), Min(1 - Max(0, 1 - Max(0, sign(Max(1, 2*cos(theta) + 1, cos(theta)) - 1))\n",
       "───────────────────────────────────────────────────────────────────────────────────────────────────────────────────────────────────────\n",
       "                                                                                                                                       \n",
       "                                                                                                                                       \n",
       "                                                                                                                                       \n",
       "                                                                                                                                       \n",
       "                          ⎛                                                               ⎛  __________________________                \n",
       "a) + 1, cos(theta)))))))⎞ ⎜                                                               ⎜╲╱ Max(0, 2 - 2*cos(theta))    Max(0, sign(M\n",
       "────────────────────────⎟⋅⎜2⋅(1 - Max(0, sign(Max(1, 2*cos(theta) + 1, cos(theta)) - 1)))⋅⎜──────────────────────────── + ─────────────\n",
       "                        ⎠ ⎜                                                               ⎝             2                              \n",
       "                          ⎝                                                                                                            \n",
       "\n",
       "                                                                                                                                       \n",
       "                                                                                                                                       \n",
       "                                                                                                                                       \n",
       "                                                                                                                                       \n",
       "                                                                                                                                       \n",
       "                                                                                                                                       \n",
       "                                                                                                                                       \n",
       "                                                                                 ⎞                                                     \n",
       "), 1 - Max(0, sign(-cos(theta) + Max(1, 2*cos(theta) + 1, cos(theta))))))))))   1⎟                                                     \n",
       "───────────────────────────────────────────────────────────────────────────── + ─⎟⋅Min(1 - Max(0, sign(-2*cos(theta) + Max(1, 2*cos(the\n",
       "                                                                                2⎠                                                     \n",
       "                                                                                                                                       \n",
       "                                                                                                                                       \n",
       "                                                                                                                                       \n",
       "                                         ⎞                                                                                             \n",
       "ax(1, 2*cos(theta) + 1, cos(theta)) - 1))⎟                  4⋅sin(θ)⋅Min(1 - Max(0, sign(-2*cos(theta) + Max(1, 2*cos(theta) + 1, cos(t\n",
       "─────────────────────────────────────────⎟ + ──────────────────────────────────────────────────────────────────────────────────────────\n",
       "             2                           ⎠       __________________________                                                            \n",
       "                                             2⋅╲╱ Max(0, 2*cos(theta) + 2)  - 2⋅Min(1 - Max(0, sign(-2*cos(theta) + Max(1, 2*cos(theta)\n",
       "\n",
       "                                                                                                                                       \n",
       "                                                                                                                                       \n",
       "                                                                                                                                       \n",
       "                                                                                                                                       \n",
       "                                                                                                                                       \n",
       "                                                                                                                                       \n",
       "                                                                                                                                       \n",
       "                                                                                                                                       \n",
       "                                                                                                                                       \n",
       "ta) + 1, cos(theta)) - 1)), 1 - Max(0, 1 - Max(0, sign(Max(1, 2*cos(theta) + 1, cos(theta)) - 1)), Min(1 - Max(0, sign(-cos(theta) + Ma\n",
       "                                                                                                                                       \n",
       "                                                                                                                                       \n",
       "                                                                                                                                       \n",
       "                                                                                                                                       \n",
       "                                                                                                                                       \n",
       "heta)) - 1)), 1 - Max(0, 1 - Max(0, sign(Max(1, 2*cos(theta) + 1, cos(theta)) - 1)), Min(1 - Max(0, sign(-cos(theta) + Max(1, 2*cos(the\n",
       "───────────────────────────────────────────────────────────────────────────────────────────────────────────────────────────────────────\n",
       "                                                                                                                                       \n",
       " + 1, cos(theta)) - 1)), 1 - Max(0, 1 - Max(0, sign(Max(1, 2*cos(theta) + 1, cos(theta)) - 1)), Min(1 - Max(0, sign(-cos(theta) + Max(1\n",
       "\n",
       "                                                                                                                                       \n",
       "                                                                                                                                       \n",
       "                                                                                                                                       \n",
       "                                                                                                                                       \n",
       "                                                                                                                                       \n",
       "                                                                                                                                       \n",
       "                                                                                                                                       \n",
       "                                                                                                                                       \n",
       "                                                                                                                                       \n",
       "x(1, 2*cos(theta) + 1, cos(theta)))), Max(1 - Max(0, 1 - Max(0, sign(Max(1, 2*cos(theta) + 1, cos(theta)) - 1))), 1 - Max(0, 1 - Max(0,\n",
       "                                                                                                                                       \n",
       "                                                                                                                                       \n",
       "                                                                                                                                       \n",
       "                                                                                                                                       \n",
       "                                                                                                                                       \n",
       "ta) + 1, cos(theta)))), Max(1 - Max(0, 1 - Max(0, sign(Max(1, 2*cos(theta) + 1, cos(theta)) - 1))), 1 - Max(0, 1 - Max(0, sign(Max(1, 2\n",
       "───────────────────────────────────────────────────────────────────────────────────────────────────────────────────────────────────────\n",
       "                                                                                                                                       \n",
       ", 2*cos(theta) + 1, cos(theta)))), Max(1 - Max(0, 1 - Max(0, sign(Max(1, 2*cos(theta) + 1, cos(theta)) - 1))), 1 - Max(0, 1 - Max(0, si\n",
       "\n",
       "                                                                                                                                       \n",
       "                                                                                                                                       \n",
       "                                                                                                                                       \n",
       "                                                                                                                                       \n",
       "                                                                                                                                       \n",
       "                                                                                                                                       \n",
       "                                                                                                                                       \n",
       "                                                                                                                                       \n",
       "                                                                                                                                       \n",
       " sign(Max(1, 2*cos(theta) + 1, cos(theta)) - 1)), Min(1 - Max(0, 1 - Max(0, sign(Max(1, 2*cos(theta) + 1, cos(theta)) - 1))), 1 - Max(0\n",
       "                                                                                                                                       \n",
       "                                                                                                                                       \n",
       "                                                                                                                                       \n",
       "                                                                                                                                       \n",
       "                                                                                                                                       \n",
       "*cos(theta) + 1, cos(theta)) - 1)), Min(1 - Max(0, 1 - Max(0, sign(Max(1, 2*cos(theta) + 1, cos(theta)) - 1))), 1 - Max(0, sign(-cos(th\n",
       "───────────────────────────────────────────────────────────────────────────────────────────────────────────────────────────────────────\n",
       "                                                                                                                                       \n",
       "gn(Max(1, 2*cos(theta) + 1, cos(theta)) - 1)), Min(1 - Max(0, 1 - Max(0, sign(Max(1, 2*cos(theta) + 1, cos(theta)) - 1))), 1 - Max(0, s\n",
       "\n",
       "                                                                                                                                       \n",
       "                                                                                                                                       \n",
       "                                                                                                                                       \n",
       "                                                                                                                                       \n",
       "                                                                                                                                       \n",
       "                                                                                                                                       \n",
       "                                                                                                                                       \n",
       "                                                                 ⎞                                                                     \n",
       "                                                                 ⎟                                                                     \n",
       ", sign(-cos(theta) + Max(1, 2*cos(theta) + 1, cos(theta))))))))))⎟⋅Min(1 - Max(0, sign(-cos(theta) + Max(1, 2*cos(theta) + 1, cos(theta\n",
       "                                                                 ⎟                                                                     \n",
       "                                                                 ⎠                                                                     \n",
       "                                                                                                                                       \n",
       "                                                                                                                                       \n",
       "                                                                  ⎞                                                                    \n",
       "eta) + Max(1, 2*cos(theta) + 1, cos(theta))))))))))               ⎟                                                                    \n",
       "──────────────────────────────────────────────────────────────────⎟⋅Min(1 - Max(0, sign(-cos(theta) + Max(1, 2*cos(theta) + 1, cos(thet\n",
       "                                                                  ⎟                                                                    \n",
       "ign(-cos(theta) + Max(1, 2*cos(theta) + 1, cos(theta)))))))))) + 2⎠                                                                    \n",
       "\n",
       "                                                                                                                                       \n",
       "                                                                                                                                       \n",
       "                                                                                                                                       \n",
       "                                                                                                                                       \n",
       "                                                                                                                                       \n",
       "                                                                                                                                       \n",
       "                                                                                                                                       \n",
       "                                                                                                                                       \n",
       "                                                                                                                                       \n",
       ")))), 1 - Max(0, 1 - Max(0, sign(Max(1, 2*cos(theta) + 1, cos(theta)) - 1)), Min(1 - Max(0, 1 - Max(0, sign(Max(1, 2*cos(theta) + 1, co\n",
       "                                                                                                                                       \n",
       "                                                                                                                                       \n",
       "                                                                                                                                       \n",
       "                                                                                                                                       \n",
       "                                                                                                                                       \n",
       "                                                                                                                                       \n",
       "a)))), 1 - Max(0, 1 - Max(0, sign(Max(1, 2*cos(theta) + 1, cos(theta)) - 1)), Min(1 - Max(0, 1 - Max(0, sign(Max(1, 2*cos(theta) + 1, c\n",
       "                                                                                                                                       \n",
       "                                                                                                                                       \n",
       "\n",
       "                                                                                                                                       \n",
       "                                                                                            ⎛1   Min(1 - Max(0, 1 - Max(0, sign(Max(1, \n",
       "                                                                                            ⎜─ - ──────────────────────────────────────\n",
       "                                                                                            ⎝2                                         \n",
       "                                                                                                                                       \n",
       "                                                                                                                                       \n",
       "                                                                                                                                       \n",
       "                                                                                                                                       \n",
       "                                                                                                                                       \n",
       "s(theta)) - 1))), 1 - Max(0, sign(-cos(theta) + Max(1, 2*cos(theta) + 1, cos(theta)))))))                                              \n",
       "                                                                                                                                       \n",
       "                                                                                                                                       \n",
       "                                                                                                                                       \n",
       "                                                                                                                                       \n",
       "                                                                                                                                       \n",
       "                                                                                              ⎛1   Min(1 - Max(0, 1 - Max(0, sign(Max(1\n",
       "os(theta)) - 1))), 1 - Max(0, sign(-cos(theta) + Max(1, 2*cos(theta) + 1, cos(theta)))))))  2⋅⎜─ - ────────────────────────────────────\n",
       "                                                                                              ⎝2                                       \n",
       "                                                                                                                                       \n",
       "\n",
       "                                                                                                             ⎛                         \n",
       "2*cos(theta) + 1, cos(theta)) - 1))), 1 - Max(0, sign(-cos(theta) + Max(1, 2*cos(theta) + 1, cos(theta)))))⎞ ⎜                         \n",
       "───────────────────────────────────────────────────────────────────────────────────────────────────────────⎟⋅⎜2⋅(1 - Max(0, sign(Max(1,\n",
       "                                  2                                                                        ⎠ ⎜                         \n",
       "                                                                                                             ⎝                         \n",
       "                                                                                                                                       \n",
       "                                                                                                                                       \n",
       "                                                                                                                                       \n",
       "                                                                                                                                       \n",
       "                                                                                                                                       \n",
       "                                                                                                                                       \n",
       "                                                                                                                                       \n",
       "                                                                                                                                       \n",
       "                                                                                                                                       \n",
       "                                                                                                                                       \n",
       ", 2*cos(theta) + 1, cos(theta)) - 1))), 1 - Max(0, sign(-cos(theta) + Max(1, 2*cos(theta) + 1, cos(theta)))))⎞ ⎛1   Min(1 - Max(0, sign\n",
       "─────────────────────────────────────────────────────────────────────────────────────────────────────────────⎟⋅⎜─ - ───────────────────\n",
       "                                    2                                                                        ⎠ ⎝2                      \n",
       "                                                                                                                                       \n",
       "\n",
       "                                      ⎛  __________________________                                                         ⎞          \n",
       "                                      ⎜╲╱ Max(0, 2 - 2*cos(theta))    Max(0, sign(Max(1, 2*cos(theta) + 1, cos(theta)) - 1))⎟          \n",
       " 2*cos(theta) + 1, cos(theta)) - 1)))⋅⎜──────────────────────────── + ──────────────────────────────────────────────────────⎟ + ───────\n",
       "                                      ⎝             2                                           2                           ⎠       ___\n",
       "                                                                                                                                2⋅╲╱ Ma\n",
       "                                                                                                                                       \n",
       "                                                                                                                                       \n",
       "                                                                                                                                       \n",
       "                                                                                                                                       \n",
       "                                                                                                                                       \n",
       "                                                                                                                                       \n",
       "                                                                                                                                       \n",
       "                                                                                                                                       \n",
       "                                                                                                                                       \n",
       "                                                                                                                                       \n",
       "(-cos(theta) + Max(1, 2*cos(theta) + 1, cos(theta)))), 1 - Max(0, 1 - Max(0, sign(Max(1, 2*cos(theta) + 1, cos(theta)) - 1)), Min(1 - M\n",
       "───────────────────────────────────────────────────────────────────────────────────────────────────────────────────────────────────────\n",
       "                                                                                                                              2        \n",
       "                                                                                                                                       \n",
       "\n",
       "                                                                                                                                       \n",
       "        4⋅sin(θ)⋅Min(1 - Max(0, sign(-2*cos(theta) + Max(1, 2*cos(theta) + 1, cos(theta)) - 1)), 1 - Max(0, 1 - Max(0, sign(Max(1, 2*co\n",
       "───────────────────────────────────────────────────────────────────────────────────────────────────────────────────────────────────────\n",
       "_______________________                                                                                                                \n",
       "x(0, 2*cos(theta) + 2)  - 2⋅Min(1 - Max(0, sign(-2*cos(theta) + Max(1, 2*cos(theta) + 1, cos(theta)) - 1)), 1 - Max(0, 1 - Max(0, sign(\n",
       "                                                                                                                                       \n",
       "                                                                                                                                       \n",
       "                                                                                                                                       \n",
       "                                                                                                                                       \n",
       "                                                                                                                                       \n",
       "                                                                                                                                       \n",
       "                                                                                                                                       \n",
       "                                                                                                                                       \n",
       "                                                                                                                                       \n",
       "                                                                                                                                       \n",
       "ax(0, 1 - Max(0, sign(Max(1, 2*cos(theta) + 1, cos(theta)) - 1))), 1 - Max(0, sign(-cos(theta) + Max(1, 2*cos(theta) + 1, cos(theta))))\n",
       "───────────────────────────────────────────────────────────────────────────────────────────────────────────────────────────────────────\n",
       "                                                                                                                                       \n",
       "                                                                                                                                       \n",
       "\n",
       "                                                                                                                                       \n",
       "s(theta) + 1, cos(theta)) - 1)), Min(1 - Max(0, sign(-cos(theta) + Max(1, 2*cos(theta) + 1, cos(theta)))), Max(1 - Max(0, 1 - Max(0, si\n",
       "───────────────────────────────────────────────────────────────────────────────────────────────────────────────────────────────────────\n",
       "                                                                                                                                       \n",
       "Max(1, 2*cos(theta) + 1, cos(theta)) - 1)), Min(1 - Max(0, sign(-cos(theta) + Max(1, 2*cos(theta) + 1, cos(theta)))), Max(1 - Max(0, 1 \n",
       "                                                                                                                                       \n",
       "                                                                                                                                       \n",
       "                                                                                                                                       \n",
       "                                                                                                                                       \n",
       "                                                                                                                                       \n",
       "                                                                                                                                       \n",
       "                                                                                                                                       \n",
       "                                                                                                                                       \n",
       "                                                                                                                                       \n",
       "                                                                                                                                       \n",
       ")))⎞                                                                                                                                   \n",
       "───⎟⋅Min(1 - Max(0, 1 - Max(0, sign(Max(1, 2*cos(theta) + 1, cos(theta)) - 1))), 1 - Max(0, sign(-cos(theta) + Max(1, 2*cos(theta) + 1,\n",
       "   ⎠                                                                                                                                   \n",
       "                                                                                                                                       \n",
       "\n",
       "                                                                                                                                       \n",
       "gn(Max(1, 2*cos(theta) + 1, cos(theta)) - 1))), 1 - Max(0, 1 - Max(0, sign(Max(1, 2*cos(theta) + 1, cos(theta)) - 1)), Min(1 - Max(0, 1\n",
       "───────────────────────────────────────────────────────────────────────────────────────────────────────────────────────────────────────\n",
       "                                                                                                                                       \n",
       "- Max(0, sign(Max(1, 2*cos(theta) + 1, cos(theta)) - 1))), 1 - Max(0, 1 - Max(0, sign(Max(1, 2*cos(theta) + 1, cos(theta)) - 1)), Min(1\n",
       "                                                                                                                                       \n",
       "                                                                                                                                       \n",
       "                                                                                                                                       \n",
       "                                                                                                                                       \n",
       "                                                                                                                                       \n",
       "                                                                                                                                       \n",
       "                                                                                                                                       \n",
       "                                                                                                                                       \n",
       "                                                                                                                                       \n",
       "                                                                                                                                       \n",
       "                                                                                                                                       \n",
       " cos(theta)))))⋅Min(1 - Max(0, sign(-cos(theta) + Max(1, 2*cos(theta) + 1, cos(theta)))), 1 - Max(0, 1 - Max(0, sign(Max(1, 2*cos(theta\n",
       "                                                                                                                                       \n",
       "                                                                                                                                       \n",
       "\n",
       "                                                                                                                                       \n",
       " - Max(0, sign(Max(1, 2*cos(theta) + 1, cos(theta)) - 1))), 1 - Max(0, sign(-cos(theta) + Max(1, 2*cos(theta) + 1, cos(theta)))))))))) \n",
       "───────────────────────────────────────────────────────────────────────────────────────────────────────────────────────────────────────\n",
       "                                                                                                                                       \n",
       " - Max(0, 1 - Max(0, sign(Max(1, 2*cos(theta) + 1, cos(theta)) - 1))), 1 - Max(0, sign(-cos(theta) + Max(1, 2*cos(theta) + 1, cos(theta\n",
       "                                                                                                                                       \n",
       "                                                                                                                                       \n",
       "                                                                                                                                       \n",
       "                   ⎛1   Min(1 - Max(0, sign(-cos(theta) + Max(1, 2*cos(theta) + 1, cos(theta)))), 1 - Max(0, 1 - Max(0, sign(Max(1, 2*c\n",
       "               - 2⋅⎜─ - ───────────────────────────────────────────────────────────────────────────────────────────────────────────────\n",
       "                   ⎝2                                                                                                                  \n",
       "                                                                                                                                       \n",
       "                                                                                                                                       \n",
       "                                                                                                                                       \n",
       "                                                                                                                                       \n",
       "                                                                                                                                       \n",
       ") + 1, cos(theta)) - 1)), Min(1 - Max(0, 1 - Max(0, sign(Max(1, 2*cos(theta) + 1, cos(theta)) - 1))), 1 - Max(0, sign(-cos(theta) + Max\n",
       "                                                                                                                                       \n",
       "                                                                                                                                       \n",
       "\n",
       "              ⎞                                                                                                                        \n",
       "              ⎟                                                                                                                        \n",
       "──────────────⎟⋅Min(1 - Max(0, 1 - Max(0, sign(Max(1, 2*cos(theta) + 1, cos(theta)) - 1))), 1 - Max(0, sign(-cos(theta) + Max(1, 2*cos(\n",
       "              ⎟                                                                                                                        \n",
       ")))))))))) + 2⎠                                                                                                                        \n",
       "                                                                                                                                       \n",
       "                                                                                                                                       \n",
       "                                                                                                                                       \n",
       "os(theta) + 1, cos(theta)) - 1)), Min(1 - Max(0, 1 - Max(0, sign(Max(1, 2*cos(theta) + 1, cos(theta)) - 1))), 1 - Max(0, sign(-cos(thet\n",
       "───────────────────────────────────────────────────────────────────────────────────────────────────────────────────────────────────────\n",
       "                                  2                                                                                                    \n",
       "                                                                                                                                       \n",
       "                                                                                                                                       \n",
       "                                                                                                                                       \n",
       "                                         ⎛                                                               ⎛  __________________________ \n",
       "                                         ⎜                                                               ⎜╲╱ Max(0, 2 - 2*cos(theta))  \n",
       "(1, 2*cos(theta) + 1, cos(theta))))))) + ⎜2⋅(1 - Max(0, sign(Max(1, 2*cos(theta) + 1, cos(theta)) - 1)))⋅⎜──────────────────────────── \n",
       "                                         ⎜                                                               ⎝             2               \n",
       "                                         ⎝                                                                                             \n",
       "\n",
       "                                                                                                                                       \n",
       "                               ⎛1   Min(1 - Max(0, sign(-cos(theta) + Max(1, 2*cos(theta) + 1, cos(theta)))), 1 - Max(0, 1 - Max(0, sig\n",
       "theta) + 1, cos(theta))))) - 2⋅⎜─ - ───────────────────────────────────────────────────────────────────────────────────────────────────\n",
       "                               ⎝2                                                                                                      \n",
       "                                                                                                                                       \n",
       "                                                                                                                                       \n",
       "                                                                                                                                       \n",
       "                                               2                                                                                       \n",
       "a) + Max(1, 2*cos(theta) + 1, cos(theta)))))))⎞                                                                                        \n",
       "──────────────────────────────────────────────⎟ ⋅Min(1 - Max(0, sign(-cos(theta) + Max(1, 2*cos(theta) + 1, cos(theta)))), 1 - Max(0, 1\n",
       "                                              ⎠                                                                                        \n",
       "                                                                                                                                       \n",
       "                                                                                                                                       \n",
       "                                                                                                                                       \n",
       "                                                        ⎞                                                                              \n",
       "  Max(0, sign(Max(1, 2*cos(theta) + 1, cos(theta)) - 1))⎟                  4⋅sin(θ)⋅Min(1 - Max(0, sign(-2*cos(theta) + Max(1, 2*cos(th\n",
       "+ ──────────────────────────────────────────────────────⎟ + ───────────────────────────────────────────────────────────────────────────\n",
       "                            2                           ⎠       __________________________                                             \n",
       "                                                            2⋅╲╱ Max(0, 2*cos(theta) + 2)  - 2⋅Min(1 - Max(0, sign(-2*cos(theta) + Max(\n",
       "\n",
       "                                                                                                                                       \n",
       "n(Max(1, 2*cos(theta) + 1, cos(theta)) - 1)), Min(1 - Max(0, 1 - Max(0, sign(Max(1, 2*cos(theta) + 1, cos(theta)) - 1))), 1 - Max(0, si\n",
       "───────────────────────────────────────────────────────────────────────────────────────────────────────────────────────────────────────\n",
       "                                              2                                                                                        \n",
       "                                                                                                                                       \n",
       "                                                                                                                                       \n",
       "                                                                                                                                       \n",
       "                                                                                                                                       \n",
       "                                                                                                                                       \n",
       " - Max(0, sign(Max(1, 2*cos(theta) + 1, cos(theta)) - 1)), Min(1 - Max(0, 1 - Max(0, sign(Max(1, 2*cos(theta) + 1, cos(theta)) - 1))), \n",
       "                                                                                                                                       \n",
       "                                                                                                                                       \n",
       "                                                                                                                                       \n",
       "                                                                                                                                       \n",
       "                                                                                                                                       \n",
       "eta) + 1, cos(theta)) - 1)), 1 - Max(0, 1 - Max(0, sign(Max(1, 2*cos(theta) + 1, cos(theta)) - 1)), Min(1 - Max(0, sign(-cos(theta) + M\n",
       "───────────────────────────────────────────────────────────────────────────────────────────────────────────────────────────────────────\n",
       "                                                                                                                                       \n",
       "1, 2*cos(theta) + 1, cos(theta)) - 1)), 1 - Max(0, 1 - Max(0, sign(Max(1, 2*cos(theta) + 1, cos(theta)) - 1)), Min(1 - Max(0, sign(-cos\n",
       "\n",
       "                                                            ⎛                                                                          \n",
       "gn(-cos(theta) + Max(1, 2*cos(theta) + 1, cos(theta)))))))⎞ ⎜          2⋅(1 - Max(0, sign(Max(1, 2*cos(theta) + 1, cos(theta)) - 1)))⋅s\n",
       "──────────────────────────────────────────────────────────⎟⋅⎜──────────────────────────────────────────────────────────────────────────\n",
       "                                                          ⎠ ⎜    __________________________                                            \n",
       "                                                            ⎝2⋅╲╱ Max(0, 2 - 2*cos(theta))  + 2⋅Max(0, sign(Max(1, 2*cos(theta) + 1, co\n",
       "                                                                                                                                       \n",
       "                                                                                                                                       \n",
       "                                                                             ⎛                                                         \n",
       "                                                                       2     ⎜                                                         \n",
       "1 - Max(0, sign(-cos(theta) + Max(1, 2*cos(theta) + 1, cos(theta)))))))  - 2⋅⎜(1 - Max(0, sign(Max(1, 2*cos(theta) + 1, cos(theta)) - 1\n",
       "                                                                             ⎜                                                         \n",
       "                                                                             ⎝                                                         \n",
       "                                                                                                                                       \n",
       "                                                                                                                                       \n",
       "                                                                                                                                       \n",
       "ax(1, 2*cos(theta) + 1, cos(theta)))), Max(1 - Max(0, 1 - Max(0, sign(Max(1, 2*cos(theta) + 1, cos(theta)) - 1))), 1 - Max(0, 1 - Max(0\n",
       "───────────────────────────────────────────────────────────────────────────────────────────────────────────────────────────────────────\n",
       "                                                                                                                                       \n",
       "(theta) + Max(1, 2*cos(theta) + 1, cos(theta)))), Max(1 - Max(0, 1 - Max(0, sign(Max(1, 2*cos(theta) + 1, cos(theta)) - 1))), 1 - Max(0\n",
       "\n",
       "                  ⎛  __________________________                                                                                        \n",
       "in(θ)             ⎜╲╱ Max(0, 2*cos(theta) + 2)    Min(1 - Max(0, sign(-2*cos(theta) + Max(1, 2*cos(theta) + 1, cos(theta)) - 1)), 1 - M\n",
       "─────────────── + ⎜──────────────────────────── - ─────────────────────────────────────────────────────────────────────────────────────\n",
       "                  ⎝             2                                                                                                      \n",
       "s(theta)) - 1))                                                                                                                        \n",
       "                                                                                                                                       \n",
       "                                                                                                                                       \n",
       "    ⎛  __________________________                                                         ⎞                                            \n",
       "    ⎜╲╱ Max(0, 2 - 2*cos(theta))    Max(0, sign(Max(1, 2*cos(theta) + 1, cos(theta)) - 1))⎟                  2⋅sin(θ)⋅Min(1 - Max(0, si\n",
       ")))⋅⎜──────────────────────────── + ──────────────────────────────────────────────────────⎟ + ─────────────────────────────────────────\n",
       "    ⎝             2                                           2                           ⎠       __________________________           \n",
       "                                                                                              2⋅╲╱ Max(0, 2*cos(theta) + 2)  - 2⋅Min(1 \n",
       "                                                                                                                                       \n",
       "                                                                                                                                       \n",
       "                                                                                                                                       \n",
       ", sign(Max(1, 2*cos(theta) + 1, cos(theta)) - 1)), Min(1 - Max(0, 1 - Max(0, sign(Max(1, 2*cos(theta) + 1, cos(theta)) - 1))), 1 - Max(\n",
       "───────────────────────────────────────────────────────────────────────────────────────────────────────────────────────────────────────\n",
       "                                                                                                                                       \n",
       ", 1 - Max(0, sign(Max(1, 2*cos(theta) + 1, cos(theta)) - 1)), Min(1 - Max(0, 1 - Max(0, sign(Max(1, 2*cos(theta) + 1, cos(theta)) - 1))\n",
       "\n",
       "                                                                                                                                       \n",
       "ax(0, 1 - Max(0, sign(Max(1, 2*cos(theta) + 1, cos(theta)) - 1)), Min(1 - Max(0, sign(-cos(theta) + Max(1, 2*cos(theta) + 1, cos(theta)\n",
       "───────────────────────────────────────────────────────────────────────────────────────────────────────────────────────────────────────\n",
       "                                                                                                                                       \n",
       "                                                                                                                                       \n",
       "                                                                                                                                       \n",
       "                                                                                                                                       \n",
       "                                                                                                                                       \n",
       "gn(-2*cos(theta) + Max(1, 2*cos(theta) + 1, cos(theta)) - 1)), 1 - Max(0, 1 - Max(0, sign(Max(1, 2*cos(theta) + 1, cos(theta)) - 1)), M\n",
       "───────────────────────────────────────────────────────────────────────────────────────────────────────────────────────────────────────\n",
       "                                                                                                                                       \n",
       "- Max(0, sign(-2*cos(theta) + Max(1, 2*cos(theta) + 1, cos(theta)) - 1)), 1 - Max(0, 1 - Max(0, sign(Max(1, 2*cos(theta) + 1, cos(theta\n",
       "                                                                                                                                       \n",
       "                                                                                                                                       \n",
       "                                                                                 ⎞ ⎛                                                   \n",
       "0, sign(-cos(theta) + Max(1, 2*cos(theta) + 1, cos(theta))))))))))               ⎟ ⎜          2⋅(1 - Max(0, sign(Max(1, 2*cos(theta) + \n",
       "─────────────────────────────────────────────────────────────────────────────────⎟⋅⎜───────────────────────────────────────────────────\n",
       "                                                                                 ⎟ ⎜    __________________________                     \n",
       "), 1 - Max(0, sign(-cos(theta) + Max(1, 2*cos(theta) + 1, cos(theta)))))))))) + 2⎠ ⎝2⋅╲╱ Max(0, 2 - 2*cos(theta))  + 2⋅Max(0, sign(Max(\n",
       "\n",
       "                                                                                                                                       \n",
       "))), Max(1 - Max(0, 1 - Max(0, sign(Max(1, 2*cos(theta) + 1, cos(theta)) - 1))), 1 - Max(0, 1 - Max(0, sign(Max(1, 2*cos(theta) + 1, co\n",
       "───────────────────────────────────────────────────────────────────────────────────────────────────────────────────────────────────────\n",
       "                                        2                                                                                              \n",
       "                                                                                                                                       \n",
       "                                                                                                                                       \n",
       "                                                                                                                                       \n",
       "                                                                                                                                       \n",
       "in(1 - Max(0, sign(-cos(theta) + Max(1, 2*cos(theta) + 1, cos(theta)))), Max(1 - Max(0, 1 - Max(0, sign(Max(1, 2*cos(theta) + 1, cos(th\n",
       "───────────────────────────────────────────────────────────────────────────────────────────────────────────────────────────────────────\n",
       "                                                                                                                                       \n",
       ")) - 1)), Min(1 - Max(0, sign(-cos(theta) + Max(1, 2*cos(theta) + 1, cos(theta)))), Max(1 - Max(0, 1 - Max(0, sign(Max(1, 2*cos(theta) \n",
       "                                                                                                                                       \n",
       "                                                                                                                                       \n",
       "                                         ⎛  __________________________                                                                 \n",
       "1, cos(theta)) - 1)))⋅sin(θ)             ⎜╲╱ Max(0, 2*cos(theta) + 2)    Min(1 - Max(0, sign(-2*cos(theta) + Max(1, 2*cos(theta) + 1, c\n",
       "────────────────────────────────────── + ⎜──────────────────────────── - ──────────────────────────────────────────────────────────────\n",
       "                                         ⎝             2                                                                               \n",
       "1, 2*cos(theta) + 1, cos(theta)) - 1))                                                                                                 \n",
       "\n",
       "                                                                                                                                       \n",
       "s(theta)) - 1)), Min(1 - Max(0, 1 - Max(0, sign(Max(1, 2*cos(theta) + 1, cos(theta)) - 1))), 1 - Max(0, sign(-cos(theta) + Max(1, 2*cos\n",
       "───────────────────────────────────────────────────────────────────────────────────────────────────────────────────────────────────────\n",
       "                                                                                                                                       \n",
       "                                                                                                                                       \n",
       "                                                                                                                                       \n",
       "                                                                                                                                       \n",
       "                                                                                                                                       \n",
       "eta)) - 1))), 1 - Max(0, 1 - Max(0, sign(Max(1, 2*cos(theta) + 1, cos(theta)) - 1)), Min(1 - Max(0, 1 - Max(0, sign(Max(1, 2*cos(theta)\n",
       "───────────────────────────────────────────────────────────────────────────────────────────────────────────────────────────────────────\n",
       "                                                                                                                                       \n",
       "+ 1, cos(theta)) - 1))), 1 - Max(0, 1 - Max(0, sign(Max(1, 2*cos(theta) + 1, cos(theta)) - 1)), Min(1 - Max(0, 1 - Max(0, sign(Max(1, 2\n",
       "                                                                                                                                       \n",
       "                                                                                                                                       \n",
       "                                                                                                                                       \n",
       "os(theta)) - 1)), 1 - Max(0, 1 - Max(0, sign(Max(1, 2*cos(theta) + 1, cos(theta)) - 1)), Min(1 - Max(0, sign(-cos(theta) + Max(1, 2*cos\n",
       "───────────────────────────────────────────────────────────────────────────────────────────────────────────────────────────────────────\n",
       "                                                                                                                                       \n",
       "                                                                                                                                       \n",
       "\n",
       "                                    ⎞                                                                                                  \n",
       "(theta) + 1, cos(theta))))))))))   1⎟                                                                                                  \n",
       "──────────────────────────────── + ─⎟⋅Min(1 - Max(0, sign(-2*cos(theta) + Max(1, 2*cos(theta) + 1, cos(theta)) - 1)), 1 - Max(0, 1 - Ma\n",
       "                                   2⎠                                                                                                  \n",
       "                                                                                                                                       \n",
       "                                                                                                                                       \n",
       "                                                                                                                    2                  \n",
       "                                                                                                                   ⎞                   \n",
       " + 1, cos(theta)) - 1))), 1 - Max(0, sign(-cos(theta) + Max(1, 2*cos(theta) + 1, cos(theta))))))))))               ⎟                   \n",
       "───────────────────────────────────────────────────────────────────────────────────────────────────────────────────⎟  + 1              \n",
       "                                                                                                                   ⎟                   \n",
       "*cos(theta) + 1, cos(theta)) - 1))), 1 - Max(0, sign(-cos(theta) + Max(1, 2*cos(theta) + 1, cos(theta)))))))))) + 2⎠                   \n",
       "                                                                                                                                       \n",
       "                                                                                                                                       \n",
       "                                                                                                                                       \n",
       "(theta) + 1, cos(theta)))), Max(1 - Max(0, 1 - Max(0, sign(Max(1, 2*cos(theta) + 1, cos(theta)) - 1))), 1 - Max(0, 1 - Max(0, sign(Max(\n",
       "───────────────────────────────────────────────────────────────────────────────────────────────────────────────────────────────────────\n",
       "                                                               2                                                                       \n",
       "                                                                                                                                       \n",
       "\n",
       "                                                                                                                                       \n",
       "                                                                                                                                       \n",
       "x(0, sign(Max(1, 2*cos(theta) + 1, cos(theta)) - 1)), Min(1 - Max(0, sign(-cos(theta) + Max(1, 2*cos(theta) + 1, cos(theta)))), Max(1 -\n",
       "                                                                                                                                       \n",
       "                                                                                                                                       \n",
       "                                                                                                                                       \n",
       "                                                                                                                                       \n",
       "                                                                                                                                       \n",
       "                                                                                                                                       \n",
       "                                                                                                                                       \n",
       "                                                                                                                                       \n",
       "                                                                                                                                       \n",
       "                                                                                                                                       \n",
       "                                                                                                                                       \n",
       "                                                                                                                                       \n",
       "1, 2*cos(theta) + 1, cos(theta)) - 1)), Min(1 - Max(0, 1 - Max(0, sign(Max(1, 2*cos(theta) + 1, cos(theta)) - 1))), 1 - Max(0, sign(-co\n",
       "───────────────────────────────────────────────────────────────────────────────────────────────────────────────────────────────────────\n",
       "                                                                                                                                       \n",
       "                                                                                                                                       \n",
       "\n",
       "                                                                                                                                       \n",
       "                                                                                                                                       \n",
       " Max(0, 1 - Max(0, sign(Max(1, 2*cos(theta) + 1, cos(theta)) - 1))), 1 - Max(0, 1 - Max(0, sign(Max(1, 2*cos(theta) + 1, cos(theta)) - \n",
       "                                                                                                                                       \n",
       "                                                                                                                                       \n",
       "                                                                                                                                       \n",
       "                                                                                                                                       \n",
       "                                                                                                                                       \n",
       "                                                                                                                                       \n",
       "                                                                                                                                       \n",
       "                                                                                                                                       \n",
       "                                                                                                                                       \n",
       "                                                                                                                                       \n",
       "                                                                                                                                       \n",
       "                                                           ⎞                                                                           \n",
       "s(theta) + Max(1, 2*cos(theta) + 1, cos(theta))))))))))   1⎟                                                                           \n",
       "─────────────────────────────────────────────────────── + ─⎟⋅Min(1 - Max(0, sign(-2*cos(theta) + Max(1, 2*cos(theta) + 1, cos(theta)) -\n",
       "                                                          2⎠                                                                           \n",
       "                                                                                                                                       \n",
       "\n",
       "                                                                                                                                       \n",
       "                                                                                                                                       \n",
       "1)), Min(1 - Max(0, 1 - Max(0, sign(Max(1, 2*cos(theta) + 1, cos(theta)) - 1))), 1 - Max(0, sign(-cos(theta) + Max(1, 2*cos(theta) + 1,\n",
       "                                                                                                                                       \n",
       "                                                                                                                                       \n",
       "                                                                                                                                       \n",
       "                                                                                                                                       \n",
       "                                                                                                                                       \n",
       "                                                                                                                                       \n",
       "                                                                                                                                       \n",
       "                                                                                                                                       \n",
       "                                                                                                                                       \n",
       "                                                                                                                                       \n",
       "                                                                                                                                       \n",
       "                                                                                                                                       \n",
       "                                                                                                                                       \n",
       " 1)), 1 - Max(0, 1 - Max(0, sign(Max(1, 2*cos(theta) + 1, cos(theta)) - 1)), Min(1 - Max(0, sign(-cos(theta) + Max(1, 2*cos(theta) + 1,\n",
       "                                                                                                                                       \n",
       "                                                                                                                                       \n",
       "\n",
       "                    ⎞                                                                                                                  \n",
       "                    ⎟                                                                                                                  \n",
       " cos(theta))))))))))⎟⋅Min(1 - Max(0, sign(-cos(theta) + Max(1, 2*cos(theta) + 1, cos(theta)))), 1 - Max(0, 1 - Max(0, sign(Max(1, 2*cos\n",
       "                    ⎟                                                                                                                  \n",
       "                    ⎠                                                                                                                  \n",
       "                                                                                                                                       \n",
       "                                                                                                                                       \n",
       "                                                                                                                                       \n",
       "                                                                                                                                       \n",
       "                                                                                                                                       \n",
       "                                                                                                                                       \n",
       "                                                                                                                                       \n",
       "                                                                                                                                       \n",
       "                                                                                                                                       \n",
       "                                                                                                                                       \n",
       "                                                                                                                                       \n",
       " cos(theta)))), Max(1 - Max(0, 1 - Max(0, sign(Max(1, 2*cos(theta) + 1, cos(theta)) - 1))), 1 - Max(0, 1 - Max(0, sign(Max(1, 2*cos(the\n",
       "                                                                                                                                       \n",
       "                                                                                                                                       \n",
       "\n",
       "                                                                                                                                       \n",
       "                                                                                                                                       \n",
       "(theta) + 1, cos(theta)) - 1)), Min(1 - Max(0, 1 - Max(0, sign(Max(1, 2*cos(theta) + 1, cos(theta)) - 1))), 1 - Max(0, sign(-cos(theta)\n",
       "                                                                                                                                       \n",
       "                                                                                                                                       \n",
       "                                                                                                                                       \n",
       "                                                                                                                                       \n",
       "                                                                                                                                       \n",
       "                                                                                                                                       \n",
       "                                                                                                                                       \n",
       "                                                                                                                                       \n",
       "                                                                                                                                       \n",
       "                                                                                                                                       \n",
       "                                                                                                                                       \n",
       "                                                                                                                                       \n",
       "                                                                                                                                       \n",
       "ta) + 1, cos(theta)) - 1)), Min(1 - Max(0, 1 - Max(0, sign(Max(1, 2*cos(theta) + 1, cos(theta)) - 1))), 1 - Max(0, sign(-cos(theta) + M\n",
       "                                                                                                                                       \n",
       "                                                                                                                                       \n",
       "\n",
       "                                                                                                                                       \n",
       "                                                ⎛1   Min(1 - Max(0, 1 - Max(0, sign(Max(1, 2*cos(theta) + 1, cos(theta)) - 1))), 1 - Ma\n",
       " + Max(1, 2*cos(theta) + 1, cos(theta)))))))  2⋅⎜─ - ──────────────────────────────────────────────────────────────────────────────────\n",
       "                                                ⎝2                                                                           2         \n",
       "                                                                                                                                       \n",
       "                                                                                                                                       \n",
       "                                                                                                                                       \n",
       "                                                                                                                                       \n",
       "                                                ⎛1   Min(1 - Max(0, 1 - Max(0, sign(Max(1, 2*cos(theta) + 1, cos(theta)) - 1))), 1 - Ma\n",
       "                                              2⋅⎜─ - ──────────────────────────────────────────────────────────────────────────────────\n",
       "                                                ⎝2                                                                           2         \n",
       "                                                                                                                                       \n",
       "                                                                                                                                       \n",
       "                                                                                                                                       \n",
       "                                           ⎞                                                                                           \n",
       "                                           ⎟                                                                                           \n",
       "ax(1, 2*cos(theta) + 1, cos(theta))))))))))⎟                                                                                           \n",
       "                                           ⎟                                                                                           \n",
       "                                           ⎠                                                                                           \n",
       "\n",
       "                                                                 ⎛                                                                     \n",
       "x(0, sign(-cos(theta) + Max(1, 2*cos(theta) + 1, cos(theta)))))⎞ ⎜          2⋅(1 - Max(0, sign(Max(1, 2*cos(theta) + 1, cos(theta)) - 1\n",
       "───────────────────────────────────────────────────────────────⎟⋅⎜─────────────────────────────────────────────────────────────────────\n",
       "                                                               ⎠ ⎜    __________________________                                       \n",
       "                                                                 ⎝2⋅╲╱ Max(0, 2 - 2*cos(theta))  + 2⋅Max(0, sign(Max(1, 2*cos(theta) + \n",
       "                                                                                                                                       \n",
       "                                                                                                                                       \n",
       "                                                                                                                                       \n",
       "x(0, sign(-cos(theta) + Max(1, 2*cos(theta) + 1, cos(theta)))))⎞ ⎛1   Min(1 - Max(0, sign(-cos(theta) + Max(1, 2*cos(theta) + 1, cos(th\n",
       "───────────────────────────────────────────────────────────────⎟⋅⎜─ - ─────────────────────────────────────────────────────────────────\n",
       "                                                               ⎠ ⎝2                                                                    \n",
       "                                                                                                                                       \n",
       "                                                                                                                                       \n",
       "                                                                                                                                       \n",
       "                                                                                                                                       \n",
       "                                                                                                                                       \n",
       "                                                                                                                                       \n",
       "                                                                                                                                       \n",
       "                                                                                                                                       \n",
       "\n",
       "                       ⎛  __________________________                                                                                   \n",
       ")))⋅sin(θ)             ⎜╲╱ Max(0, 2*cos(theta) + 2)    Min(1 - Max(0, sign(-2*cos(theta) + Max(1, 2*cos(theta) + 1, cos(theta)) - 1)), \n",
       "──────────────────── + ⎜──────────────────────────── - ────────────────────────────────────────────────────────────────────────────────\n",
       "                       ⎝             2                                                                                                 \n",
       "1, cos(theta)) - 1))                                                                                                                   \n",
       "                                                                                                                                       \n",
       "                                                                                                                                       \n",
       "                                                                                                                                       \n",
       "eta)))), 1 - Max(0, 1 - Max(0, sign(Max(1, 2*cos(theta) + 1, cos(theta)) - 1)), Min(1 - Max(0, 1 - Max(0, sign(Max(1, 2*cos(theta) + 1,\n",
       "───────────────────────────────────────────────────────────────────────────────────────────────────────────────────────────────────────\n",
       "                                                                                2                                                      \n",
       "                                                                                                                                       \n",
       "                                                                                                                                       \n",
       "                                                                                                                                       \n",
       "                                                                                                                                       \n",
       "                                                                                                                                       \n",
       "                                                                                                                                       \n",
       "                                                                                                                                       \n",
       "                                                                                                                                       \n",
       "\n",
       "                                                                                                                                       \n",
       "1 - Max(0, 1 - Max(0, sign(Max(1, 2*cos(theta) + 1, cos(theta)) - 1)), Min(1 - Max(0, sign(-cos(theta) + Max(1, 2*cos(theta) + 1, cos(t\n",
       "───────────────────────────────────────────────────────────────────────────────────────────────────────────────────────────────────────\n",
       "                                                                                                                                       \n",
       "                                                                                                                                       \n",
       "                                                                                                                                       \n",
       "                                                                                                                                       \n",
       "                                                                                                                                       \n",
       " cos(theta)) - 1))), 1 - Max(0, sign(-cos(theta) + Max(1, 2*cos(theta) + 1, cos(theta)))))))⎞                                          \n",
       "────────────────────────────────────────────────────────────────────────────────────────────⎟⋅Min(1 - Max(0, 1 - Max(0, sign(Max(1, 2*c\n",
       "                                                                                            ⎠                                          \n",
       "                                                                                                                                       \n",
       "                                                                                                                                       \n",
       "                                                                                                                                       \n",
       "                                                                                                                                       \n",
       "                                                                                                                                       \n",
       "                                                                                                                                       \n",
       "                                                                                                                                       \n",
       "                                                                                                                                       \n",
       "\n",
       "                                                                                                                                       \n",
       "heta)))), Max(1 - Max(0, 1 - Max(0, sign(Max(1, 2*cos(theta) + 1, cos(theta)) - 1))), 1 - Max(0, 1 - Max(0, sign(Max(1, 2*cos(theta) + \n",
       "───────────────────────────────────────────────────────────────────────────────────────────────────────────────────────────────────────\n",
       "                                             2                                                                                         \n",
       "                                                                                                                                       \n",
       "                                                                                                                                       \n",
       "                                                                                                                                       \n",
       "                                                                                                                                       \n",
       "                                                                                                                                       \n",
       "os(theta) + 1, cos(theta)) - 1))), 1 - Max(0, sign(-cos(theta) + Max(1, 2*cos(theta) + 1, cos(theta)))))⋅Min(1 - Max(0, sign(-cos(theta\n",
       "                                                                                                                                       \n",
       "                                                                                                                                       \n",
       "                                                                                                                                       \n",
       "                                                                                                                                       \n",
       "                                                                                                                                       \n",
       "                                                                                                                                       \n",
       "                                                                                                                                       \n",
       "                                                                                                                                       \n",
       "                                                                                                                                       \n",
       "\n",
       "                                                                                                                                       \n",
       "1, cos(theta)) - 1)), Min(1 - Max(0, 1 - Max(0, sign(Max(1, 2*cos(theta) + 1, cos(theta)) - 1))), 1 - Max(0, sign(-cos(theta) + Max(1, \n",
       "───────────────────────────────────────────────────────────────────────────────────────────────────────────────────────────────────────\n",
       "                                                                                                                                       \n",
       "                                                                                                                                       \n",
       "                                                                                                                                       \n",
       "                                                                                                                                       \n",
       "                                                                                                                                       \n",
       "                                                                                                                                       \n",
       ") + Max(1, 2*cos(theta) + 1, cos(theta)))), 1 - Max(0, 1 - Max(0, sign(Max(1, 2*cos(theta) + 1, cos(theta)) - 1)), Min(1 - Max(0, 1 - M\n",
       "                                                                                                                                       \n",
       "                                                                                                                                       \n",
       "                                                                                                                                       \n",
       "                                                                                                                                       \n",
       "                                                                                                                                       \n",
       "                                                                                                                                       \n",
       "                                                                                                                                       \n",
       "                                                                                                                                       \n",
       "                                                                                                                                       \n",
       "\n",
       "                                         ⎞                                                                                             \n",
       "2*cos(theta) + 1, cos(theta))))))))))   1⎟                                                                                             \n",
       "───────────────────────────────────── + ─⎟⋅Min(1 - Max(0, sign(-2*cos(theta) + Max(1, 2*cos(theta) + 1, cos(theta)) - 1)), 1 - Max(0, 1\n",
       "                                        2⎠                                                                                             \n",
       "                                                                                                                                       \n",
       "                                                                                                                                       \n",
       "                                                                                                                                       \n",
       "                                                                                                                                  ⎛    \n",
       "                                                                                                                                  ⎜    \n",
       "ax(0, sign(Max(1, 2*cos(theta) + 1, cos(theta)) - 1))), 1 - Max(0, sign(-cos(theta) + Max(1, 2*cos(theta) + 1, cos(theta))))))) - ⎜2⋅(1\n",
       "                                                                                                                                  ⎜    \n",
       "                                                                                                                                  ⎝    \n",
       "                                                                                                                                       \n",
       "                                                                                                                                       \n",
       "                                                                                                                                       \n",
       "                                                                                                                        ⎛1   Min(1 - Ma\n",
       "                                                                                                                    - 2⋅⎜─ - ──────────\n",
       "                                                                                                                        ⎝2             \n",
       "                                                                                                                                       \n",
       "\n",
       "                                                                                                                                       \n",
       "                                                                                                                                       \n",
       " - Max(0, sign(Max(1, 2*cos(theta) + 1, cos(theta)) - 1)), Min(1 - Max(0, sign(-cos(theta) + Max(1, 2*cos(theta) + 1, cos(theta)))), Ma\n",
       "                                                                                                                                       \n",
       "                                                                                                                                       \n",
       "                                                                                                                                       \n",
       "                                                                                                                                       \n",
       "                                                           ⎛  __________________________                                               \n",
       "                                                           ⎜╲╱ Max(0, 2 - 2*cos(theta))    Max(0, sign(Max(1, 2*cos(theta) + 1, cos(the\n",
       " - Max(0, sign(Max(1, 2*cos(theta) + 1, cos(theta)) - 1)))⋅⎜──────────────────────────── + ────────────────────────────────────────────\n",
       "                                                           ⎝             2                                           2                 \n",
       "                                                                                                                                       \n",
       "                                                                                                                                       \n",
       "                                                                                                                                       \n",
       "                                                                                                                                       \n",
       "x(0, 1 - Max(0, sign(Max(1, 2*cos(theta) + 1, cos(theta)) - 1))), 1 - Max(0, sign(-cos(theta) + Max(1, 2*cos(theta) + 1, cos(theta)))))\n",
       "───────────────────────────────────────────────────────────────────────────────────────────────────────────────────────────────────────\n",
       "                                                              2                                                                        \n",
       "                                                                                                                                       \n",
       "\n",
       "                                                                                                                                       \n",
       "                                                                                                                                       \n",
       "x(1 - Max(0, 1 - Max(0, sign(Max(1, 2*cos(theta) + 1, cos(theta)) - 1))), 1 - Max(0, 1 - Max(0, sign(Max(1, 2*cos(theta) + 1, cos(theta\n",
       "                                                                                                                                       \n",
       "                                                                                                                                       \n",
       "                                                                                                                                       \n",
       "                                                                                                                                       \n",
       "          ⎞                                                                                                                            \n",
       "ta)) - 1))⎟                  4⋅sin(θ)⋅Min(1 - Max(0, sign(-2*cos(theta) + Max(1, 2*cos(theta) + 1, cos(theta)) - 1)), 1 - Max(0, 1 - Ma\n",
       "──────────⎟ + ─────────────────────────────────────────────────────────────────────────────────────────────────────────────────────────\n",
       "          ⎠       __________________________                                                                                           \n",
       "              2⋅╲╱ Max(0, 2*cos(theta) + 2)  - 2⋅Min(1 - Max(0, sign(-2*cos(theta) + Max(1, 2*cos(theta) + 1, cos(theta)) - 1)), 1 - Ma\n",
       "                                                                                                                                       \n",
       "                                                                                                                                       \n",
       " 2                                                                                                                                     \n",
       "⎞                                                                                                                                      \n",
       "⎟ ⋅Min(1 - Max(0, 1 - Max(0, sign(Max(1, 2*cos(theta) + 1, cos(theta)) - 1))), 1 - Max(0, sign(-cos(theta) + Max(1, 2*cos(theta) + 1, c\n",
       "⎠                                                                                                                                      \n",
       "                                                                                                                                       \n",
       "\n",
       "                                                                                                                                       \n",
       "                                                                                                                                       \n",
       ")) - 1)), Min(1 - Max(0, 1 - Max(0, sign(Max(1, 2*cos(theta) + 1, cos(theta)) - 1))), 1 - Max(0, sign(-cos(theta) + Max(1, 2*cos(theta)\n",
       "                                                                                                                                       \n",
       "                                                                                                                                       \n",
       "                                                                                                                                       \n",
       "                                                                                                                                       \n",
       "                                                                                                                                       \n",
       "x(0, sign(Max(1, 2*cos(theta) + 1, cos(theta)) - 1)), Min(1 - Max(0, sign(-cos(theta) + Max(1, 2*cos(theta) + 1, cos(theta)))), Max(1 -\n",
       "───────────────────────────────────────────────────────────────────────────────────────────────────────────────────────────────────────\n",
       "                                                                                                                                       \n",
       "x(0, 1 - Max(0, sign(Max(1, 2*cos(theta) + 1, cos(theta)) - 1)), Min(1 - Max(0, sign(-cos(theta) + Max(1, 2*cos(theta) + 1, cos(theta))\n",
       "                                                                                                                                       \n",
       "                                                                                                                                       \n",
       "                   ⎛                                                             ⎛  __________________________                         \n",
       "             2     ⎜                                                             ⎜╲╱ Max(0, 2 - 2*cos(theta))    Max(0, sign(Max(1, 2*c\n",
       "os(theta)))))  - 2⋅⎜(1 - Max(0, sign(Max(1, 2*cos(theta) + 1, cos(theta)) - 1)))⋅⎜──────────────────────────── + ──────────────────────\n",
       "                   ⎜                                                             ⎝             2                                       \n",
       "                   ⎝                                                                                                                   \n",
       "\n",
       "                         ⎞                                                                                                             \n",
       "                         ⎟                                                                                                             \n",
       " + 1, cos(theta))))))))))⎟⋅Min(1 - Max(0, 1 - Max(0, sign(Max(1, 2*cos(theta) + 1, cos(theta)) - 1))), 1 - Max(0, sign(-cos(theta) + Ma\n",
       "                         ⎟                                                                                                             \n",
       "                         ⎠                                                                                                             \n",
       "                                                                                                                                       \n",
       "                                                                                                                                       \n",
       "                                                                                                                                       \n",
       " Max(0, 1 - Max(0, sign(Max(1, 2*cos(theta) + 1, cos(theta)) - 1))), 1 - Max(0, 1 - Max(0, sign(Max(1, 2*cos(theta) + 1, cos(theta)) - \n",
       "───────────────────────────────────────────────────────────────────────────────────────────────────────────────────────────────────────\n",
       "                                                                                                                                       \n",
       ")), Max(1 - Max(0, 1 - Max(0, sign(Max(1, 2*cos(theta) + 1, cos(theta)) - 1))), 1 - Max(0, 1 - Max(0, sign(Max(1, 2*cos(theta) + 1, cos\n",
       "                                                                                                                                       \n",
       "                                                                                                                                       \n",
       "                                ⎞                                                                                                      \n",
       "os(theta) + 1, cos(theta)) - 1))⎟                  2⋅sin(θ)⋅Min(1 - Max(0, sign(-2*cos(theta) + Max(1, 2*cos(theta) + 1, cos(theta)) - \n",
       "────────────────────────────────⎟ + ───────────────────────────────────────────────────────────────────────────────────────────────────\n",
       "    2                           ⎠       __________________________                                                                     \n",
       "                                    2⋅╲╱ Max(0, 2*cos(theta) + 2)  - 2⋅Min(1 - Max(0, sign(-2*cos(theta) + Max(1, 2*cos(theta) + 1, cos\n",
       "\n",
       "                                                                                                                                       \n",
       "                                        ⎛1   Min(1 - Max(0, sign(-cos(theta) + Max(1, 2*cos(theta) + 1, cos(theta)))), 1 - Max(0, 1 - M\n",
       "x(1, 2*cos(theta) + 1, cos(theta))))) + ⎜─ - ──────────────────────────────────────────────────────────────────────────────────────────\n",
       "                                        ⎝2                                                                                             \n",
       "                                                                                                                                       \n",
       "                                                                                                                                       \n",
       "                                                                                                                                       \n",
       "                                                                                                                                       \n",
       "1)), Min(1 - Max(0, 1 - Max(0, sign(Max(1, 2*cos(theta) + 1, cos(theta)) - 1))), 1 - Max(0, sign(-cos(theta) + Max(1, 2*cos(theta) + 1,\n",
       "───────────────────────────────────────────────────────────────────────────────────────────────────────────────────────────────────────\n",
       "                                                                                                                                       \n",
       "(theta)) - 1)), Min(1 - Max(0, 1 - Max(0, sign(Max(1, 2*cos(theta) + 1, cos(theta)) - 1))), 1 - Max(0, sign(-cos(theta) + Max(1, 2*cos(\n",
       "                                                                                                                                       \n",
       "                                                                                                                                       \n",
       "                                                                                                                                       \n",
       "1)), 1 - Max(0, 1 - Max(0, sign(Max(1, 2*cos(theta) + 1, cos(theta)) - 1)), Min(1 - Max(0, sign(-cos(theta) + Max(1, 2*cos(theta) + 1, \n",
       "───────────────────────────────────────────────────────────────────────────────────────────────────────────────────────────────────────\n",
       "                                                                                                                                       \n",
       "(theta)) - 1)), 1 - Max(0, 1 - Max(0, sign(Max(1, 2*cos(theta) + 1, cos(theta)) - 1)), Min(1 - Max(0, sign(-cos(theta) + Max(1, 2*cos(t\n",
       "\n",
       "                                                                                                                                       \n",
       "ax(0, sign(Max(1, 2*cos(theta) + 1, cos(theta)) - 1)), Min(1 - Max(0, 1 - Max(0, sign(Max(1, 2*cos(theta) + 1, cos(theta)) - 1))), 1 - \n",
       "───────────────────────────────────────────────────────────────────────────────────────────────────────────────────────────────────────\n",
       "                                                       2                                                                               \n",
       "                                                                                                                                       \n",
       "                                                                                                                                       \n",
       "                                                                                                                                       \n",
       "                                   ⎞ ⎛                                                                                            ⎛  __\n",
       " cos(theta))))))))))               ⎟ ⎜          2⋅(1 - Max(0, sign(Max(1, 2*cos(theta) + 1, cos(theta)) - 1)))⋅sin(θ)             ⎜╲╱ M\n",
       "───────────────────────────────────⎟⋅⎜───────────────────────────────────────────────────────────────────────────────────────── + ⎜────\n",
       "                                   ⎟ ⎜    __________________________                                                              ⎝    \n",
       "theta) + 1, cos(theta)))))))))) + 2⎠ ⎝2⋅╲╱ Max(0, 2 - 2*cos(theta))  + 2⋅Max(0, sign(Max(1, 2*cos(theta) + 1, cos(theta)) - 1))        \n",
       "                                                                                                                                       \n",
       "                                                                                                                                       \n",
       "                                                                                                                                       \n",
       "cos(theta)))), Max(1 - Max(0, 1 - Max(0, sign(Max(1, 2*cos(theta) + 1, cos(theta)) - 1))), 1 - Max(0, 1 - Max(0, sign(Max(1, 2*cos(thet\n",
       "───────────────────────────────────────────────────────────────────────────────────────────────────────────────────────────────────────\n",
       "                                                                                                                                       \n",
       "heta) + 1, cos(theta)))), Max(1 - Max(0, 1 - Max(0, sign(Max(1, 2*cos(theta) + 1, cos(theta)) - 1))), 1 - Max(0, 1 - Max(0, sign(Max(1,\n",
       "\n",
       "                                                                     ⎛                                                               ⎛ \n",
       "Max(0, sign(-cos(theta) + Max(1, 2*cos(theta) + 1, cos(theta)))))))⎞ ⎜                                                               ⎜╲\n",
       "───────────────────────────────────────────────────────────────────⎟⋅⎜2⋅(1 - Max(0, sign(Max(1, 2*cos(theta) + 1, cos(theta)) - 1)))⋅⎜─\n",
       "                                                                   ⎠ ⎜                                                               ⎝ \n",
       "                                                                     ⎝                                                                 \n",
       "                                                                                                                                       \n",
       "                                                                                                                                       \n",
       "________________________                                                                                                               \n",
       "ax(0, 2*cos(theta) + 2)    Min(1 - Max(0, sign(-2*cos(theta) + Max(1, 2*cos(theta) + 1, cos(theta)) - 1)), 1 - Max(0, 1 - Max(0, sign(M\n",
       "──────────────────────── - ────────────────────────────────────────────────────────────────────────────────────────────────────────────\n",
       "         2                                                                                                                             \n",
       "                                                                                                                                       \n",
       "                                                                                                                                       \n",
       "                                                                                                                                       \n",
       "                                                                                                                                       \n",
       "a) + 1, cos(theta)) - 1)), Min(1 - Max(0, 1 - Max(0, sign(Max(1, 2*cos(theta) + 1, cos(theta)) - 1))), 1 - Max(0, sign(-cos(theta) + Ma\n",
       "───────────────────────────────────────────────────────────────────────────────────────────────────────────────────────────────────────\n",
       "                                                                                                                                       \n",
       " 2*cos(theta) + 1, cos(theta)) - 1)), Min(1 - Max(0, 1 - Max(0, sign(Max(1, 2*cos(theta) + 1, cos(theta)) - 1))), 1 - Max(0, sign(-cos(\n",
       "\n",
       " __________________________                                                         ⎞                                                  \n",
       "╱ Max(0, 2 - 2*cos(theta))    Max(0, sign(Max(1, 2*cos(theta) + 1, cos(theta)) - 1))⎟                  4⋅sin(θ)⋅Min(1 - Max(0, sign(-2*\n",
       "─────────────────────────── + ──────────────────────────────────────────────────────⎟ + ───────────────────────────────────────────────\n",
       "            2                                           2                           ⎠       __________________________                 \n",
       "                                                                                        2⋅╲╱ Max(0, 2*cos(theta) + 2)  - 2⋅Min(1 - Max(\n",
       "                                                                                                                                       \n",
       "                                                                                                                                       \n",
       "                                                                                                                                       \n",
       "ax(1, 2*cos(theta) + 1, cos(theta)) - 1)), Min(1 - Max(0, sign(-cos(theta) + Max(1, 2*cos(theta) + 1, cos(theta)))), Max(1 - Max(0, 1 -\n",
       "───────────────────────────────────────────────────────────────────────────────────────────────────────────────────────────────────────\n",
       "                                                                                                                                       \n",
       "                                                                                                                                       \n",
       "                                                                                                                                       \n",
       "                                                          2                                                                            \n",
       "                                                         ⎞                                                                             \n",
       "x(1, 2*cos(theta) + 1, cos(theta))))))))))               ⎟                                                                             \n",
       "─────────────────────────────────────────────────────────⎟  + 1                                                                        \n",
       "                                                         ⎟                                                                             \n",
       "theta) + Max(1, 2*cos(theta) + 1, cos(theta)))))))))) + 2⎠                                                                             \n",
       "\n",
       "                                                                                                                                       \n",
       "cos(theta) + Max(1, 2*cos(theta) + 1, cos(theta)) - 1)), 1 - Max(0, 1 - Max(0, sign(Max(1, 2*cos(theta) + 1, cos(theta)) - 1)), Min(1 -\n",
       "───────────────────────────────────────────────────────────────────────────────────────────────────────────────────────────────────────\n",
       "                                                                                                                                       \n",
       "0, sign(-2*cos(theta) + Max(1, 2*cos(theta) + 1, cos(theta)) - 1)), 1 - Max(0, 1 - Max(0, sign(Max(1, 2*cos(theta) + 1, cos(theta)) - 1\n",
       "                                                                                                                                       \n",
       "                                                                                                                                       \n",
       "                                                                                                                                       \n",
       " Max(0, sign(Max(1, 2*cos(theta) + 1, cos(theta)) - 1))), 1 - Max(0, 1 - Max(0, sign(Max(1, 2*cos(theta) + 1, cos(theta)) - 1)), Min(1 \n",
       "───────────────────────────────────────────────────────────────────────────────────────────────────────────────────────────────────────\n",
       "                 2                                                                                                                     \n",
       "                                                                                                                                       \n",
       "                                                                                                                                       \n",
       "                                                                                                                                       \n",
       "                                                                                                                                       \n",
       "                                                                                                                                       \n",
       "                                                                                                                                       \n",
       "                                                                                                                                       \n",
       "                                                                                                                                       \n",
       "\n",
       "                                                                                                                                       \n",
       " Max(0, sign(-cos(theta) + Max(1, 2*cos(theta) + 1, cos(theta)))), Max(1 - Max(0, 1 - Max(0, sign(Max(1, 2*cos(theta) + 1, cos(theta)) \n",
       "───────────────────────────────────────────────────────────────────────────────────────────────────────────────────────────────────────\n",
       "                                                                                                                                       \n",
       ")), Min(1 - Max(0, sign(-cos(theta) + Max(1, 2*cos(theta) + 1, cos(theta)))), Max(1 - Max(0, 1 - Max(0, sign(Max(1, 2*cos(theta) + 1, c\n",
       "                                                                                                                                       \n",
       "                                                                                                                                       \n",
       "                                                                                                                                       \n",
       "- Max(0, 1 - Max(0, sign(Max(1, 2*cos(theta) + 1, cos(theta)) - 1))), 1 - Max(0, sign(-cos(theta) + Max(1, 2*cos(theta) + 1, cos(theta)\n",
       "───────────────────────────────────────────────────────────────────────────────────────────────────────────────────────────────────────\n",
       "                                                                                                                                       \n",
       "                                                                                                                                       \n",
       "                                                                                                                                       \n",
       "                                                                                                                                       \n",
       "                                                                                                                                       \n",
       "                                                                                                                                       \n",
       "                                                                                                                                       \n",
       "                                                                                                                                       \n",
       "                                                                                                                                       \n",
       "\n",
       "                                                                                                                                       \n",
       "- 1))), 1 - Max(0, 1 - Max(0, sign(Max(1, 2*cos(theta) + 1, cos(theta)) - 1)), Min(1 - Max(0, 1 - Max(0, sign(Max(1, 2*cos(theta) + 1, \n",
       "───────────────────────────────────────────────────────────────────────────────────────────────────────────────────────────────────────\n",
       "                                                                                                                                       \n",
       "os(theta)) - 1))), 1 - Max(0, 1 - Max(0, sign(Max(1, 2*cos(theta) + 1, cos(theta)) - 1)), Min(1 - Max(0, 1 - Max(0, sign(Max(1, 2*cos(t\n",
       "                                                                                                                                       \n",
       "                                                                                                                                       \n",
       "             ⎞                                                                                                                         \n",
       ")))))))))   1⎟                                                                                                                         \n",
       "───────── + ─⎟⋅Min(1 - Max(0, sign(-2*cos(theta) + Max(1, 2*cos(theta) + 1, cos(theta)) - 1)), 1 - Max(0, 1 - Max(0, sign(Max(1, 2*cos(\n",
       "            2⎠                                                                                                                         \n",
       "                                                                                                                                       \n",
       "                                                                                                                                       \n",
       "                                                                                                                                       \n",
       "                                                                                                                                       \n",
       "                                                                                                                                       \n",
       "                                                                                                                                       \n",
       "                                                                                                                                       \n",
       "                                                                                                                                       \n",
       "\n",
       "                                                                                                             ⎞                         \n",
       "cos(theta)) - 1))), 1 - Max(0, sign(-cos(theta) + Max(1, 2*cos(theta) + 1, cos(theta))))))))))               ⎟                         \n",
       "─────────────────────────────────────────────────────────────────────────────────────────────────────────────⎟⋅Min(1 - Max(0, sign(-cos\n",
       "                                                                                                             ⎟                         \n",
       "heta) + 1, cos(theta)) - 1))), 1 - Max(0, sign(-cos(theta) + Max(1, 2*cos(theta) + 1, cos(theta)))))))))) + 2⎠                         \n",
       "                                                                                                                                       \n",
       "                                                                                                                                       \n",
       "                                                                                                                                       \n",
       "                                                                                                                                       \n",
       "theta) + 1, cos(theta)) - 1)), Min(1 - Max(0, sign(-cos(theta) + Max(1, 2*cos(theta) + 1, cos(theta)))), Max(1 - Max(0, 1 - Max(0, sign\n",
       "                                                                                                                                       \n",
       "                                                                                                                                       \n",
       "                                                                                                                                       \n",
       "                                                                                                                                       \n",
       "                                                                                                                                       \n",
       "                                                                                                                                       \n",
       "                                                                                                                                       \n",
       "                                                                                                                                       \n",
       "                                                                                                                                       \n",
       "\n",
       "                                                                                                                                       \n",
       "                                                                                                                                       \n",
       "(theta) + Max(1, 2*cos(theta) + 1, cos(theta)))), 1 - Max(0, 1 - Max(0, sign(Max(1, 2*cos(theta) + 1, cos(theta)) - 1)), Min(1 - Max(0,\n",
       "                                                                                                                                       \n",
       "                                                                                                                                       \n",
       "                                                                                                                                       \n",
       "                                                                                                                                       \n",
       "                                                                                                                                       \n",
       "                                                                                                                                       \n",
       "(Max(1, 2*cos(theta) + 1, cos(theta)) - 1))), 1 - Max(0, 1 - Max(0, sign(Max(1, 2*cos(theta) + 1, cos(theta)) - 1)), Min(1 - Max(0, 1 -\n",
       "                                                                                                                                       \n",
       "                                                                                                                                       \n",
       "                                                                                                                                       \n",
       "                                                                                                                                       \n",
       "                                                                                                                                       \n",
       "                                                                                                                                       \n",
       "                                                                                                                                       \n",
       "                                                                                                                                       \n",
       "                                                                                                                                       \n",
       "\n",
       "                                                                                                                                     ⎤\n",
       "                                                                                                                                     ⎥\n",
       " 1 - Max(0, sign(Max(1, 2*cos(theta) + 1, cos(theta)) - 1))), 1 - Max(0, sign(-cos(theta) + Max(1, 2*cos(theta) + 1, cos(theta)))))))⎥\n",
       "                                                                                                                                     ⎥\n",
       "                                                                                                                                     ⎥\n",
       "                                                                                                                                     ⎥\n",
       "                                                                                                                                     ⎥\n",
       "                                                                                                                                    ⎞⎥\n",
       "                                                                                                                                    ⎟⎥\n",
       " Max(0, sign(Max(1, 2*cos(theta) + 1, cos(theta)) - 1))), 1 - Max(0, sign(-cos(theta) + Max(1, 2*cos(theta) + 1, cos(theta))))))))))⎟⎥\n",
       "                                                                                                                                    ⎟⎥\n",
       "                                                                                                                                    ⎠⎥\n",
       "                                                                                                                                     ⎥\n",
       "                                                                                                                                     ⎥\n",
       "                                                                                                                                     ⎥\n",
       "                                                                                                                                     ⎥\n",
       "                                                                                                                                     ⎥\n",
       "                                                                                                                                     ⎥\n",
       "                                                                                                                                     ⎦"
      ]
     },
     "metadata": {},
     "output_type": "display_data"
    }
   ],
   "source": [
    "# To/From rotation matrix\n",
    "\n",
    "# Rotate about x-axis\n",
    "theta = sm.Symbol(\"theta\")\n",
    "R_mat = geo.Matrix(\n",
    "    [[1, 0, 0], [0, sm.cos(theta), -sm.sin(theta)], [0, sm.sin(theta), sm.cos(theta)]]\n",
    ")\n",
    "R = geo.Rot3.from_rotation_matrix(R_mat)\n",
    "\n",
    "display(R_mat)\n",
    "display(R)  # Note the additional expressions required to avoid numerical errors\n",
    "display(R.to_rotation_matrix())"
   ]
  },
  {
   "cell_type": "code",
   "execution_count": 5,
   "metadata": {
    "execution": {
     "iopub.execute_input": "2022-05-10T03:09:20.981271Z",
     "iopub.status.busy": "2022-05-10T03:09:20.981125Z",
     "iopub.status.idle": "2022-05-10T03:09:21.114930Z",
     "shell.execute_reply": "2022-05-10T03:09:21.114569Z"
    }
   },
   "outputs": [
    {
     "data": {
      "text/plain": [
       "<Rot3 <Q xyzw=[sin(theta/2), 0, 0, cos(theta/2)]>>"
      ]
     },
     "metadata": {},
     "output_type": "display_data"
    },
    {
     "data": {
      "image/png": "[encoded data removed]",
      "text/latex": [
       "$\\displaystyle \\left[ 0, \\  0, \\  \\operatorname{atan_{2}}{\\left(\\sin{\\left(\\theta \\right)},\\cos{\\left(\\theta \\right)} \\right)}\\right]$"
      ],
      "text/plain": [
       "[0, 0, atan2(sin(θ), cos(θ))]"
      ]
     },
     "metadata": {},
     "output_type": "display_data"
    }
   ],
   "source": [
    "# To/From Euler angles\n",
    "R = geo.Rot3.from_yaw_pitch_roll(0, 0, theta)  # Yaw rotation only\n",
    "ypr = R.to_yaw_pitch_roll()\n",
    "\n",
    "display(R)\n",
    "display(ops.StorageOps.simplify(list(ypr)))  # Simplify YPR expression"
   ]
  },
  {
   "cell_type": "code",
   "execution_count": 6,
   "metadata": {
    "execution": {
     "iopub.execute_input": "2022-05-10T03:09:21.116331Z",
     "iopub.status.busy": "2022-05-10T03:09:21.116243Z",
     "iopub.status.idle": "2022-05-10T03:09:21.119231Z",
     "shell.execute_reply": "2022-05-10T03:09:21.119017Z"
    }
   },
   "outputs": [
    {
     "data": {
      "text/plain": [
       "<Rot3 <Q xyzw=[sin(theta/2), 0, 0, cos(theta/2)]>>"
      ]
     },
     "metadata": {},
     "output_type": "display_data"
    }
   ],
   "source": [
    "# From axis-angle representation\n",
    "\n",
    "# Rotate about x-axis\n",
    "R = geo.Rot3.from_angle_axis(angle=theta, axis=geo.Vector3(1, 0, 0))\n",
    "\n",
    "display(R)"
   ]
  },
  {
   "cell_type": "markdown",
   "metadata": {},
   "source": [
    "Now that we can construct rotations, we can use them to rotate vectors as one would expect."
   ]
  },
  {
   "cell_type": "code",
   "execution_count": 7,
   "metadata": {
    "execution": {
     "iopub.execute_input": "2022-05-10T03:09:21.120509Z",
     "iopub.status.busy": "2022-05-10T03:09:21.120427Z",
     "iopub.status.idle": "2022-05-10T03:09:21.158431Z",
     "shell.execute_reply": "2022-05-10T03:09:21.158072Z"
    }
   },
   "outputs": [
    {
     "data": {
      "text/latex": [
       "$\\displaystyle \\left[\\begin{matrix}p_{0} \\left(- 2 R_{y}^{2} - 2 R_{z}^{2} + 1\\right) + p_{1} \\left(- 2 R_{w} R_{z} + 2 R_{x} R_{y}\\right) + p_{2} \\cdot \\left(2 R_{w} R_{y} + 2 R_{x} R_{z}\\right)\\\\p_{0} \\cdot \\left(2 R_{w} R_{z} + 2 R_{x} R_{y}\\right) + p_{1} \\left(- 2 R_{x}^{2} - 2 R_{z}^{2} + 1\\right) + p_{2} \\left(- 2 R_{w} R_{x} + 2 R_{y} R_{z}\\right)\\\\p_{0} \\left(- 2 R_{w} R_{y} + 2 R_{x} R_{z}\\right) + p_{1} \\cdot \\left(2 R_{w} R_{x} + 2 R_{y} R_{z}\\right) + p_{2} \\left(- 2 R_{x}^{2} - 2 R_{y}^{2} + 1\\right)\\end{matrix}\\right]$"
      ],
      "text/plain": [
       "⎡   ⎛       2        2    ⎞                                                         ⎤\n",
       "⎢p₀⋅⎝- 2⋅R_y  - 2⋅R_z  + 1⎠ + p₁⋅(-2⋅R_w⋅R_z + 2⋅Rₓ⋅R_y) + p₂⋅(2⋅R_w⋅R_y + 2⋅Rₓ⋅R_z)⎥\n",
       "⎢                                                                                   ⎥\n",
       "⎢                               ⎛      2        2    ⎞                              ⎥\n",
       "⎢p₀⋅(2⋅R_w⋅R_z + 2⋅Rₓ⋅R_y) + p₁⋅⎝- 2⋅Rₓ  - 2⋅R_z  + 1⎠ + p₂⋅(-2⋅R_w⋅Rₓ + 2⋅R_y⋅R_z) ⎥\n",
       "⎢                                                                                   ⎥\n",
       "⎢                                                            ⎛      2        2    ⎞ ⎥\n",
       "⎣p₀⋅(-2⋅R_w⋅R_y + 2⋅Rₓ⋅R_z) + p₁⋅(2⋅R_w⋅Rₓ + 2⋅R_y⋅R_z) + p₂⋅⎝- 2⋅Rₓ  - 2⋅R_y  + 1⎠ ⎦"
      ]
     },
     "metadata": {},
     "output_type": "display_data"
    }
   ],
   "source": [
    "world_R_body = geo.Rot3.symbolic(\"R\")  # Rotation defining orientation of body frame wrt world frame\n",
    "body_t_point = geo.Vector3.symbolic(\"p\")  # Point written in body frame\n",
    "world_t_point = world_R_body * body_t_point  # Point written in world frame\n",
    "display(world_t_point)"
   ]
  },
  {
   "cell_type": "markdown",
   "metadata": {},
   "source": [
    "Chaining rotations and inverting rotations works as one would expect as well:"
   ]
  },
  {
   "cell_type": "code",
   "execution_count": 8,
   "metadata": {
    "execution": {
     "iopub.execute_input": "2022-05-10T03:09:21.159884Z",
     "iopub.status.busy": "2022-05-10T03:09:21.159795Z",
     "iopub.status.idle": "2022-05-10T03:09:21.165429Z",
     "shell.execute_reply": "2022-05-10T03:09:21.165210Z"
    }
   },
   "outputs": [
    {
     "data": {
      "text/plain": [
       "<Rot3 <Q xyzw=[R_cam_x, R_cam_y, R_cam_z, R_cam_w]>>"
      ]
     },
     "metadata": {},
     "output_type": "display_data"
    },
    {
     "data": {
      "text/plain": [
       "<Rot3 <Q xyzw=[-R_cam_x, -R_cam_y, -R_cam_z, R_cam_w]>>"
      ]
     },
     "metadata": {},
     "output_type": "display_data"
    }
   ],
   "source": [
    "body_R_cam = geo.Rot3.symbolic(\"R_cam\")\n",
    "world_R_cam = world_R_body * body_R_cam\n",
    "\n",
    "# Rotation inverse = negate vector part of quaternion\n",
    "cam_R_body = body_R_cam.inverse()\n",
    "display(body_R_cam)\n",
    "display(cam_R_body)"
   ]
  },
  {
   "cell_type": "markdown",
   "metadata": {},
   "source": [
    "We can also easily substitute numerical values into symbolic expressions using geo objects themselves. This makes it very convenient to substitute numeric values into large symbolic expressions constructed using many different geo objects."
   ]
  },
  {
   "cell_type": "code",
   "execution_count": 9,
   "metadata": {
    "execution": {
     "iopub.execute_input": "2022-05-10T03:09:21.166677Z",
     "iopub.status.busy": "2022-05-10T03:09:21.166595Z",
     "iopub.status.idle": "2022-05-10T03:09:21.193531Z",
     "shell.execute_reply": "2022-05-10T03:09:21.193308Z"
    }
   },
   "outputs": [
    {
     "data": {
      "text/latex": [
       "$\\displaystyle \\left[\\begin{matrix}- 0.662947416398295 p_{0} - 0.554353314451006 p_{1} - 0.503182994394693 p_{2}\\\\- 0.0665166116342196 p_{0} + 0.713061539471145 p_{1} - 0.697938952419008 p_{2}\\\\0.74570521217672 p_{0} - 0.429226797490819 p_{1} - 0.509596009450867 p_{2}\\end{matrix}\\right]$"
      ],
      "text/plain": [
       "⎡-0.662947416398295⋅p₀ - 0.554353314451006⋅p₁ - 0.503182994394693⋅p₂ ⎤\n",
       "⎢                                                                    ⎥\n",
       "⎢-0.0665166116342196⋅p₀ + 0.713061539471145⋅p₁ - 0.697938952419008⋅p₂⎥\n",
       "⎢                                                                    ⎥\n",
       "⎣ 0.74570521217672⋅p₀ - 0.429226797490819⋅p₁ - 0.509596009450867⋅p₂  ⎦"
      ]
     },
     "metadata": {},
     "output_type": "display_data"
    }
   ],
   "source": [
    "world_R_body_numeric = geo.Rot3.from_yaw_pitch_roll(0.1, -2.3, 0.7)\n",
    "display(world_t_point.subs(world_R_body, world_R_body_numeric))"
   ]
  },
  {
   "cell_type": "markdown",
   "metadata": {},
   "source": [
    "## Poses"
   ]
  },
  {
   "cell_type": "markdown",
   "metadata": {},
   "source": [
    "Poses are defined as a rotation plus a translation, and are constructed as such. We use the notation world_T_body to represent a pose that transforms from the body frame to the world frame."
   ]
  },
  {
   "cell_type": "code",
   "execution_count": 10,
   "metadata": {
    "execution": {
     "iopub.execute_input": "2022-05-10T03:09:21.194918Z",
     "iopub.status.busy": "2022-05-10T03:09:21.194832Z",
     "iopub.status.idle": "2022-05-10T03:09:21.197566Z",
     "shell.execute_reply": "2022-05-10T03:09:21.197360Z"
    }
   },
   "outputs": [
    {
     "data": {
      "text/plain": [
       "<Pose3 R=<Rot3 <Q xyzw=[T.R_x, T.R_y, T.R_z, T.R_w]>>, t=(T.t0, T.t1, T.t2)>"
      ]
     },
     "metadata": {},
     "output_type": "display_data"
    }
   ],
   "source": [
    "# Symbolic construction\n",
    "world_T_body = geo.Pose3.symbolic(\"T\")\n",
    "display(world_T_body)"
   ]
  },
  {
   "cell_type": "code",
   "execution_count": 11,
   "metadata": {
    "execution": {
     "iopub.execute_input": "2022-05-10T03:09:21.198842Z",
     "iopub.status.busy": "2022-05-10T03:09:21.198739Z",
     "iopub.status.idle": "2022-05-10T03:09:21.201537Z",
     "shell.execute_reply": "2022-05-10T03:09:21.201330Z"
    }
   },
   "outputs": [
    {
     "data": {
      "text/plain": [
       "<Pose3 R=<Rot3 <Q xyzw=[R_x, R_y, R_z, R_w]>>, t=(t0, t1, t2)>"
      ]
     },
     "metadata": {},
     "output_type": "display_data"
    }
   ],
   "source": [
    "# Construction from a rotation and translation\n",
    "\n",
    "# Orientation of body frame wrt world frame\n",
    "world_R_body = geo.Rot3.symbolic(\"R\")\n",
    "\n",
    "# Position of body frame wrt world frame written in the world frame\n",
    "world_t_body = geo.Vector3.symbolic(\"t\")\n",
    "\n",
    "world_T_body = geo.Pose3(R=world_R_body, t=world_t_body)\n",
    "display(world_T_body)"
   ]
  },
  {
   "cell_type": "markdown",
   "metadata": {},
   "source": [
    "Similar to rotations, we can compose poses with poses, compose poses with 3D points, and invert poses as one would expect."
   ]
  },
  {
   "cell_type": "code",
   "execution_count": 12,
   "metadata": {
    "execution": {
     "iopub.execute_input": "2022-05-10T03:09:21.202845Z",
     "iopub.status.busy": "2022-05-10T03:09:21.202744Z",
     "iopub.status.idle": "2022-05-10T03:09:21.231104Z",
     "shell.execute_reply": "2022-05-10T03:09:21.230769Z"
    }
   },
   "outputs": [
    {
     "data": {
      "text/latex": [
       "$\\displaystyle \\left[\\begin{matrix}p_{0} \\left(- 2 R_{y}^{2} - 2 R_{z}^{2} + 1\\right) + p_{1} \\left(- 2 R_{w} R_{z} + 2 R_{x} R_{y}\\right) + p_{2} \\cdot \\left(2 R_{w} R_{y} + 2 R_{x} R_{z}\\right) + t_{0}\\\\p_{0} \\cdot \\left(2 R_{w} R_{z} + 2 R_{x} R_{y}\\right) + p_{1} \\left(- 2 R_{x}^{2} - 2 R_{z}^{2} + 1\\right) + p_{2} \\left(- 2 R_{w} R_{x} + 2 R_{y} R_{z}\\right) + t_{1}\\\\p_{0} \\left(- 2 R_{w} R_{y} + 2 R_{x} R_{z}\\right) + p_{1} \\cdot \\left(2 R_{w} R_{x} + 2 R_{y} R_{z}\\right) + p_{2} \\left(- 2 R_{x}^{2} - 2 R_{y}^{2} + 1\\right) + t_{2}\\end{matrix}\\right]$"
      ],
      "text/plain": [
       "⎡   ⎛       2        2    ⎞                                                              ⎤\n",
       "⎢p₀⋅⎝- 2⋅R_y  - 2⋅R_z  + 1⎠ + p₁⋅(-2⋅R_w⋅R_z + 2⋅Rₓ⋅R_y) + p₂⋅(2⋅R_w⋅R_y + 2⋅Rₓ⋅R_z) + t₀⎥\n",
       "⎢                                                                                        ⎥\n",
       "⎢                               ⎛      2        2    ⎞                                   ⎥\n",
       "⎢p₀⋅(2⋅R_w⋅R_z + 2⋅Rₓ⋅R_y) + p₁⋅⎝- 2⋅Rₓ  - 2⋅R_z  + 1⎠ + p₂⋅(-2⋅R_w⋅Rₓ + 2⋅R_y⋅R_z) + t₁ ⎥\n",
       "⎢                                                                                        ⎥\n",
       "⎢                                                            ⎛      2        2    ⎞      ⎥\n",
       "⎣p₀⋅(-2⋅R_w⋅R_y + 2⋅Rₓ⋅R_z) + p₁⋅(2⋅R_w⋅Rₓ + 2⋅R_y⋅R_z) + p₂⋅⎝- 2⋅Rₓ  - 2⋅R_y  + 1⎠ + t₂ ⎦"
      ]
     },
     "metadata": {},
     "output_type": "display_data"
    }
   ],
   "source": [
    "# Compose pose with a pose\n",
    "body_T_cam = geo.Pose3.symbolic(\"T_cam\")\n",
    "world_T_cam = world_T_body * body_T_cam\n",
    "\n",
    "# Compose pose with a point\n",
    "body_t_point = geo.Vector3.symbolic(\"p\")  # Position relative to body frame written in body frame\n",
    "display(world_T_body * body_t_point)  # Equivalent to: world_R_body * body_t_point + world_t_body"
   ]
  },
  {
   "cell_type": "code",
   "execution_count": 13,
   "metadata": {
    "execution": {
     "iopub.execute_input": "2022-05-10T03:09:21.232420Z",
     "iopub.status.busy": "2022-05-10T03:09:21.232332Z",
     "iopub.status.idle": "2022-05-10T03:09:21.240682Z",
     "shell.execute_reply": "2022-05-10T03:09:21.240345Z"
    }
   },
   "outputs": [
    {
     "data": {
      "text/plain": [
       "<Pose3 R=<Rot3 <Q xyzw=[R_x, R_y, R_z, R_w]>>, t=(t0, t1, t2)>"
      ]
     },
     "metadata": {},
     "output_type": "display_data"
    },
    {
     "data": {
      "text/plain": [
       "<Pose3 R=<Rot3 <Q xyzw=[-R_x, -R_y, -R_z, R_w]>>, t=(-t0*(-2*R_y**2 - 2*R_z**2 + 1) - t1*(2*R_w*R_z + 2*R_x*R_y) - t2*(-2*R_w*R_y + 2*R_x*R_z), -t0*(-2*R_w*R_z + 2*R_x*R_y) - t1*(-2*R_x**2 - 2*R_z**2 + 1) - t2*(2*R_w*R_x + 2*R_y*R_z), -t0*(2*R_w*R_y + 2*R_x*R_z) - t1*(-2*R_w*R_x + 2*R_y*R_z) - t2*(-2*R_x**2 - 2*R_y**2 + 1))>"
      ]
     },
     "metadata": {},
     "output_type": "display_data"
    }
   ],
   "source": [
    "# Invert a pose\n",
    "body_T_world = world_T_body.inverse()\n",
    "display(world_T_body)\n",
    "display(body_T_world)"
   ]
  },
  {
   "cell_type": "markdown",
   "metadata": {},
   "source": [
    "## Vectors and matricies"
   ]
  },
  {
   "cell_type": "markdown",
   "metadata": {},
   "source": [
    "Vectors and matrices are all represented using subclasses of geo.Matrix class, and can be constrcuted in several different ways as shown below."
   ]
  },
  {
   "cell_type": "code",
   "execution_count": 14,
   "metadata": {
    "execution": {
     "iopub.execute_input": "2022-05-10T03:09:21.242079Z",
     "iopub.status.busy": "2022-05-10T03:09:21.241994Z",
     "iopub.status.idle": "2022-05-10T03:09:21.246242Z",
     "shell.execute_reply": "2022-05-10T03:09:21.245902Z"
    }
   },
   "outputs": [],
   "source": [
    "# Matrix construction. The statements below all create the same 2x3 matrix object\n",
    "\n",
    "# Construction from 2D list\n",
    "m1 = geo.Matrix([[1, 2, 3], [4, 5, 6]])\n",
    "\n",
    "# Construction using specified size + data\n",
    "m2 = geo.Matrix(2, 3, [1, 2, 3, 4, 5, 6])\n",
    "\n",
    "# geo.MatrixNM creates a matrix with shape NxM (defined by default 6x6 matrices and smaller)\n",
    "m3 = geo.Matrix23(1, 2, 3, 4, 5, 6)\n",
    "m4 = geo.Matrix23([1, 2, 3, 4, 5, 6])\n",
    "\n",
    "# Construction using aliases\n",
    "m5 = geo.M([[1, 2, 3], [4, 5, 6]])\n",
    "m6 = geo.M(2, 3, [1, 2, 3, 4, 5, 6])\n",
    "m7 = geo.M23(1, 2, 3, 4, 5, 6)\n",
    "m8 = geo.M23([1, 2, 3, 4, 5, 6])\n",
    "\n",
    "# Construction from block matrices of appropriate dimensions\n",
    "m9 = geo.Matrix23.block_matrix([[geo.M13([1, 2, 3])], [geo.M13([3, 4, 5])]])"
   ]
  },
  {
   "cell_type": "code",
   "execution_count": 15,
   "metadata": {
    "execution": {
     "iopub.execute_input": "2022-05-10T03:09:21.247572Z",
     "iopub.status.busy": "2022-05-10T03:09:21.247430Z",
     "iopub.status.idle": "2022-05-10T03:09:21.249934Z",
     "shell.execute_reply": "2022-05-10T03:09:21.249717Z"
    }
   },
   "outputs": [],
   "source": [
    "# Vector constructors. The statements below all create the same 3x1 vector object\n",
    "\n",
    "# Construction from 2D list\n",
    "v1 = geo.Matrix([[1], [2], [3]])\n",
    "\n",
    "# Construction from 1D list. We assume a 1D list represents a column vector.\n",
    "v2 = geo.Matrix([1, 2, 3])\n",
    "\n",
    "# Construction using aliases (defined by default for 9x1 vectors and smaller)\n",
    "v3 = geo.Matrix31(1, 2, 3)\n",
    "v4 = geo.M31(1, 2, 3)\n",
    "v5 = geo.Vector3(1, 2, 3)\n",
    "v6 = geo.V3(1, 2, 3)"
   ]
  },
  {
   "cell_type": "markdown",
   "metadata": {},
   "source": [
    "We can also use a few typical matrix constructors:"
   ]
  },
  {
   "cell_type": "code",
   "execution_count": 16,
   "metadata": {
    "execution": {
     "iopub.execute_input": "2022-05-10T03:09:21.251199Z",
     "iopub.status.busy": "2022-05-10T03:09:21.251116Z",
     "iopub.status.idle": "2022-05-10T03:09:21.253309Z",
     "shell.execute_reply": "2022-05-10T03:09:21.253092Z"
    }
   },
   "outputs": [],
   "source": [
    "# Matrix of zeros\n",
    "z1 = geo.Matrix23.zero()\n",
    "z2 = geo.Matrix.zeros(2, 3)\n",
    "\n",
    "# Matrix of ones\n",
    "o1 = geo.Matrix23.one()\n",
    "o2 = geo.Matrix.ones(2, 3)"
   ]
  },
  {
   "cell_type": "markdown",
   "metadata": {},
   "source": [
    "Note that the Matrix class itself does not contain group or lie group methods, to prevent confusion\n",
    "between the identity matrix and inverse matrix, and the group operations under addition.  The group\n",
    "operations are implemented separately for matrices under addition, and are accessed through\n",
    "ops.GroupOps and ops.LieGroupOps."
   ]
  },
  {
   "cell_type": "code",
   "execution_count": 17,
   "metadata": {
    "execution": {
     "iopub.execute_input": "2022-05-10T03:09:21.254706Z",
     "iopub.status.busy": "2022-05-10T03:09:21.254551Z",
     "iopub.status.idle": "2022-05-10T03:09:21.262373Z",
     "shell.execute_reply": "2022-05-10T03:09:21.262160Z"
    }
   },
   "outputs": [
    {
     "data": {
      "text/latex": [
       "$\\displaystyle \\left[\\begin{matrix}0 & 0 & 0\\\\0 & 0 & 0\\\\0 & 0 & 0\\end{matrix}\\right]$"
      ],
      "text/plain": [
       "⎡0  0  0⎤\n",
       "⎢       ⎥\n",
       "⎢0  0  0⎥\n",
       "⎢       ⎥\n",
       "⎣0  0  0⎦"
      ]
     },
     "metadata": {},
     "output_type": "display_data"
    },
    {
     "data": {
      "text/latex": [
       "$\\displaystyle \\left[\\begin{matrix}1 & 0 & 0\\\\0 & 1 & 0\\\\0 & 0 & 1\\end{matrix}\\right]$"
      ],
      "text/plain": [
       "⎡1  0  0⎤\n",
       "⎢       ⎥\n",
       "⎢0  1  0⎥\n",
       "⎢       ⎥\n",
       "⎣0  0  1⎦"
      ]
     },
     "metadata": {},
     "output_type": "display_data"
    }
   ],
   "source": [
    "zero_matrix = geo.Matrix33.zero()  # We could also write ops.GroupOps.identity(geo.Matrix33)\n",
    "identity_matrix = geo.Matrix33.eye()\n",
    "\n",
    "display(zero_matrix)\n",
    "display(identity_matrix)"
   ]
  },
  {
   "cell_type": "markdown",
   "metadata": {},
   "source": [
    "And, of course, matrix math works as one would expect:"
   ]
  },
  {
   "cell_type": "code",
   "execution_count": 18,
   "metadata": {
    "execution": {
     "iopub.execute_input": "2022-05-10T03:09:21.263662Z",
     "iopub.status.busy": "2022-05-10T03:09:21.263575Z",
     "iopub.status.idle": "2022-05-10T03:09:21.272419Z",
     "shell.execute_reply": "2022-05-10T03:09:21.272211Z"
    }
   },
   "outputs": [
    {
     "data": {
      "text/latex": [
       "$\\displaystyle \\left[\\begin{matrix}lhs_{0 0} rhs_{0} + lhs_{0 1} rhs_{1} + lhs_{0 2} rhs_{2}\\\\lhs_{1 0} rhs_{0} + lhs_{1 1} rhs_{1} + lhs_{1 2} rhs_{2}\\end{matrix}\\right]$"
      ],
      "text/plain": [
       "⎡lhs₀ ₀⋅rhs₀ + lhs₀ ₁⋅rhs₁ + lhs₀ ₂⋅rhs₂⎤\n",
       "⎢                                       ⎥\n",
       "⎣lhs₁ ₀⋅rhs₀ + lhs₁ ₁⋅rhs₁ + lhs₁ ₂⋅rhs₂⎦"
      ]
     },
     "metadata": {},
     "output_type": "display_data"
    }
   ],
   "source": [
    "# Matrix multiplication\n",
    "m23 = geo.M23.symbolic(\"lhs\")\n",
    "m31 = geo.V3.symbolic(\"rhs\")\n",
    "display(m23 * m31)"
   ]
  },
  {
   "cell_type": "code",
   "execution_count": 19,
   "metadata": {
    "execution": {
     "iopub.execute_input": "2022-05-10T03:09:21.273714Z",
     "iopub.status.busy": "2022-05-10T03:09:21.273615Z",
     "iopub.status.idle": "2022-05-10T03:09:21.283182Z",
     "shell.execute_reply": "2022-05-10T03:09:21.282974Z"
    }
   },
   "outputs": [
    {
     "data": {
      "text/latex": [
       "$\\displaystyle \\left[\\begin{matrix}\\frac{rhs_{0}}{\\sqrt{rhs_{0}^{2} + rhs_{1}^{2} + rhs_{2}^{2}}}\\\\\\frac{rhs_{1}}{\\sqrt{rhs_{0}^{2} + rhs_{1}^{2} + rhs_{2}^{2}}}\\\\\\frac{rhs_{2}}{\\sqrt{rhs_{0}^{2} + rhs_{1}^{2} + rhs_{2}^{2}}}\\end{matrix}\\right]$"
      ],
      "text/plain": [
       "⎡           rhs₀           ⎤\n",
       "⎢──────────────────────────⎥\n",
       "⎢   _______________________⎥\n",
       "⎢  ╱     2       2       2 ⎥\n",
       "⎢╲╱  rhs₀  + rhs₁  + rhs₂  ⎥\n",
       "⎢                          ⎥\n",
       "⎢           rhs₁           ⎥\n",
       "⎢──────────────────────────⎥\n",
       "⎢   _______________________⎥\n",
       "⎢  ╱     2       2       2 ⎥\n",
       "⎢╲╱  rhs₀  + rhs₁  + rhs₂  ⎥\n",
       "⎢                          ⎥\n",
       "⎢           rhs₂           ⎥\n",
       "⎢──────────────────────────⎥\n",
       "⎢   _______________________⎥\n",
       "⎢  ╱     2       2       2 ⎥\n",
       "⎣╲╱  rhs₀  + rhs₁  + rhs₂  ⎦"
      ]
     },
     "metadata": {},
     "output_type": "display_data"
    }
   ],
   "source": [
    "# Vector operations\n",
    "norm = m31.norm()\n",
    "squared_norm = m31.squared_norm()\n",
    "unit_vec = m31.normalized()\n",
    "display(unit_vec)"
   ]
  },
  {
   "cell_type": "code",
   "execution_count": 20,
   "metadata": {
    "execution": {
     "iopub.execute_input": "2022-05-10T03:09:21.284507Z",
     "iopub.status.busy": "2022-05-10T03:09:21.284402Z",
     "iopub.status.idle": "2022-05-10T03:09:21.290704Z",
     "shell.execute_reply": "2022-05-10T03:09:21.290496Z"
    }
   },
   "outputs": [
    {
     "data": {
      "text/latex": [
       "$\\displaystyle \\left[\\begin{matrix}\\frac{1}{5} & 0 & 0\\\\0 & \\frac{1}{5} & 0\\\\0 & 0 & \\frac{1}{5}\\end{matrix}\\right]$"
      ],
      "text/plain": [
       "⎡1/5   0    0 ⎤\n",
       "⎢             ⎥\n",
       "⎢ 0   1/5   0 ⎥\n",
       "⎢             ⎥\n",
       "⎣ 0    0   1/5⎦"
      ]
     },
     "metadata": {},
     "output_type": "display_data"
    }
   ],
   "source": [
    "m33 = 5 * geo.Matrix33.eye()  # Element-wise multiplication with scalar\n",
    "display(m33.inv())  # Matrix inverse"
   ]
  },
  {
   "cell_type": "markdown",
   "metadata": {},
   "source": [
    "One of the most powerful operations we can use matrices for is to compute jacobians with respect to other geo objects. By default we compute jacobians with respect to the tangent space of the given object."
   ]
  },
  {
   "cell_type": "code",
   "execution_count": 21,
   "metadata": {
    "execution": {
     "iopub.execute_input": "2022-05-10T03:09:21.292021Z",
     "iopub.status.busy": "2022-05-10T03:09:21.291918Z",
     "iopub.status.idle": "2022-05-10T03:09:21.349305Z",
     "shell.execute_reply": "2022-05-10T03:09:21.349033Z"
    }
   },
   "outputs": [
    {
     "data": {
      "text/latex": [
       "$\\displaystyle \\left[\\begin{matrix}\\frac{2 \\cdot \\left(2 \\min\\left(0, \\operatorname{sign}{\\left(R_{0 w} R_{1 w} + R_{0 x} R_{1 x} + R_{0 y} R_{1 y} + R_{0 z} R_{1 z} \\right)}\\right) + 1\\right) \\left(R_{0 w} R_{1 x} - R_{0 x} R_{1 w} - R_{0 y} R_{1 z} + R_{0 z} R_{1 y}\\right) \\operatorname{acos}{\\left(\\min\\left(1, \\left|{R_{0 w} R_{1 w} + R_{0 x} R_{1 x} + R_{0 y} R_{1 y} + R_{0 z} R_{1 z}}\\right|\\right) \\right)}}{\\sqrt{1 - \\min\\left(1, \\left|{R_{0 w} R_{1 w} + R_{0 x} R_{1 x} + R_{0 y} R_{1 y} + R_{0 z} R_{1 z}}\\right|\\right)^{2}}}\\\\\\frac{2 \\cdot \\left(2 \\min\\left(0, \\operatorname{sign}{\\left(R_{0 w} R_{1 w} + R_{0 x} R_{1 x} + R_{0 y} R_{1 y} + R_{0 z} R_{1 z} \\right)}\\right) + 1\\right) \\left(R_{0 w} R_{1 y} + R_{0 x} R_{1 z} - R_{0 y} R_{1 w} - R_{0 z} R_{1 x}\\right) \\operatorname{acos}{\\left(\\min\\left(1, \\left|{R_{0 w} R_{1 w} + R_{0 x} R_{1 x} + R_{0 y} R_{1 y} + R_{0 z} R_{1 z}}\\right|\\right) \\right)}}{\\sqrt{1 - \\min\\left(1, \\left|{R_{0 w} R_{1 w} + R_{0 x} R_{1 x} + R_{0 y} R_{1 y} + R_{0 z} R_{1 z}}\\right|\\right)^{2}}}\\\\\\frac{2 \\cdot \\left(2 \\min\\left(0, \\operatorname{sign}{\\left(R_{0 w} R_{1 w} + R_{0 x} R_{1 x} + R_{0 y} R_{1 y} + R_{0 z} R_{1 z} \\right)}\\right) + 1\\right) \\left(R_{0 w} R_{1 z} - R_{0 x} R_{1 y} + R_{0 y} R_{1 x} - R_{0 z} R_{1 w}\\right) \\operatorname{acos}{\\left(\\min\\left(1, \\left|{R_{0 w} R_{1 w} + R_{0 x} R_{1 x} + R_{0 y} R_{1 y} + R_{0 z} R_{1 z}}\\right|\\right) \\right)}}{\\sqrt{1 - \\min\\left(1, \\left|{R_{0 w} R_{1 w} + R_{0 x} R_{1 x} + R_{0 y} R_{1 y} + R_{0 z} R_{1 z}}\\right|\\right)^{2}}}\\end{matrix}\\right]$"
      ],
      "text/plain": [
       "⎡2⋅(2⋅Min(0, sign(R0_w*R1_w + R0_x*R1_x + R0_y*R1_y + R0_z*R1_z)) + 1)⋅(R_0_w⋅R₁ ₓ - R₀ ₓ⋅R_1_w - R_0_y⋅R_1_z + R_0_z⋅R_1_y)⋅acos(Min(1\n",
       "⎢──────────────────────────────────────────────────────────────────────────────────────────────────────────────────────────────────────\n",
       "⎢                                                               _________________________________________________________________      \n",
       "⎢                                                              ╱                                                               2       \n",
       "⎢                                                            ╲╱  1 - Min(1, Abs(R0_w*R1_w + R0_x*R1_x + R0_y*R1_y + R0_z*R1_z))        \n",
       "⎢                                                                                                                                      \n",
       "⎢2⋅(2⋅Min(0, sign(R0_w*R1_w + R0_x*R1_x + R0_y*R1_y + R0_z*R1_z)) + 1)⋅(R_0_w⋅R_1_y + R₀ ₓ⋅R_1_z - R_0_y⋅R_1_w - R_0_z⋅R₁ ₓ)⋅acos(Min(1\n",
       "⎢──────────────────────────────────────────────────────────────────────────────────────────────────────────────────────────────────────\n",
       "⎢                                                               _________________________________________________________________      \n",
       "⎢                                                              ╱                                                               2       \n",
       "⎢                                                            ╲╱  1 - Min(1, Abs(R0_w*R1_w + R0_x*R1_x + R0_y*R1_y + R0_z*R1_z))        \n",
       "⎢                                                                                                                                      \n",
       "⎢2⋅(2⋅Min(0, sign(R0_w*R1_w + R0_x*R1_x + R0_y*R1_y + R0_z*R1_z)) + 1)⋅(R_0_w⋅R_1_z - R₀ ₓ⋅R_1_y + R_0_y⋅R₁ ₓ - R_0_z⋅R_1_w)⋅acos(Min(1\n",
       "⎢──────────────────────────────────────────────────────────────────────────────────────────────────────────────────────────────────────\n",
       "⎢                                                               _________________________________________________________________      \n",
       "⎢                                                              ╱                                                               2       \n",
       "⎣                                                            ╲╱  1 - Min(1, Abs(R0_w*R1_w + R0_x*R1_x + R0_y*R1_y + R0_z*R1_z))        \n",
       "\n",
       ", Abs(R0_w*R1_w + R0_x*R1_x + R0_y*R1_y + R0_z*R1_z)))⎤\n",
       "──────────────────────────────────────────────────────⎥\n",
       "                                                      ⎥\n",
       "                                                      ⎥\n",
       "                                                      ⎥\n",
       "                                                      ⎥\n",
       ", Abs(R0_w*R1_w + R0_x*R1_x + R0_y*R1_y + R0_z*R1_z)))⎥\n",
       "──────────────────────────────────────────────────────⎥\n",
       "                                                      ⎥\n",
       "                                                      ⎥\n",
       "                                                      ⎥\n",
       "                                                      ⎥\n",
       ", Abs(R0_w*R1_w + R0_x*R1_x + R0_y*R1_y + R0_z*R1_z)))⎥\n",
       "──────────────────────────────────────────────────────⎥\n",
       "                                                      ⎥\n",
       "                                                      ⎥\n",
       "                                                      ⎦"
      ]
     },
     "metadata": {},
     "output_type": "display_data"
    }
   ],
   "source": [
    "R0 = geo.Rot3.symbolic(\"R0\")\n",
    "R1 = geo.Rot3.symbolic(\"R1\")\n",
    "residual = geo.M(R0.local_coordinates(R1))\n",
    "display(residual)"
   ]
  },
  {
   "cell_type": "code",
   "execution_count": 22,
   "metadata": {
    "execution": {
     "iopub.execute_input": "2022-05-10T03:09:21.350691Z",
     "iopub.status.busy": "2022-05-10T03:09:21.350605Z",
     "iopub.status.idle": "2022-05-10T03:09:21.773610Z",
     "shell.execute_reply": "2022-05-10T03:09:21.773250Z"
    }
   },
   "outputs": [
    {
     "data": {
      "image/png": "[encoded data removed]",
      "text/latex": [
       "$\\displaystyle \\left( 3, \\  3\\right)$"
      ],
      "text/plain": [
       "(3, 3)"
      ]
     },
     "metadata": {},
     "output_type": "display_data"
    }
   ],
   "source": [
    "jacobian = residual.jacobian(R1)\n",
    "# The jacobian is quite a complex symbolic expression, so we don't display it for convenience\n",
    "# The shape is equal to (dimension of residual) x (dimension of tangent space)\n",
    "display(jacobian.shape)"
   ]
  },
  {
   "cell_type": "markdown",
   "metadata": {},
   "source": [
    "## General properties of geo objects"
   ]
  },
  {
   "cell_type": "markdown",
   "metadata": {},
   "source": [
    "### Storage operations"
   ]
  },
  {
   "cell_type": "markdown",
   "metadata": {},
   "source": [
    "All geometric types implement the \"Storage\" interface. This means that they can:\n",
    "\n",
    "1. Be serialized into a list of scalar expressions (`.to_storage()`)\n",
    "2. Be reconstructed from a list of scalar expressions (`.from_storage()`)\n",
    "3. Use common symbolic operations (symbolic construction, substitution, simplification, etc.)"
   ]
  },
  {
   "cell_type": "code",
   "execution_count": 23,
   "metadata": {
    "execution": {
     "iopub.execute_input": "2022-05-10T03:09:21.775080Z",
     "iopub.status.busy": "2022-05-10T03:09:21.774992Z",
     "iopub.status.idle": "2022-05-10T03:09:21.786717Z",
     "shell.execute_reply": "2022-05-10T03:09:21.786492Z"
    }
   },
   "outputs": [
    {
     "data": {
      "image/png": "[encoded data removed]",
      "text/latex": [
       "$\\displaystyle \\left[ 0, \\  0, \\  0, \\  1\\right]$"
      ],
      "text/plain": [
       "[0, 0, 0, 1]"
      ]
     },
     "metadata": {},
     "output_type": "display_data"
    }
   ],
   "source": [
    "# Serialization to scalar list\n",
    "rot = geo.Rot3()\n",
    "elements = rot.to_storage()\n",
    "assert len(elements) == rot.storage_dim()\n",
    "display(elements)"
   ]
  },
  {
   "cell_type": "code",
   "execution_count": 24,
   "metadata": {
    "execution": {
     "iopub.execute_input": "2022-05-10T03:09:21.788029Z",
     "iopub.status.busy": "2022-05-10T03:09:21.787945Z",
     "iopub.status.idle": "2022-05-10T03:09:21.789850Z",
     "shell.execute_reply": "2022-05-10T03:09:21.789605Z"
    }
   },
   "outputs": [],
   "source": [
    "# Construction from scalar list\n",
    "rot2 = geo.Rot3.from_storage(elements)\n",
    "assert rot == rot2"
   ]
  },
  {
   "cell_type": "code",
   "execution_count": 25,
   "metadata": {
    "execution": {
     "iopub.execute_input": "2022-05-10T03:09:21.791190Z",
     "iopub.status.busy": "2022-05-10T03:09:21.791049Z",
     "iopub.status.idle": "2022-05-10T03:09:21.796211Z",
     "shell.execute_reply": "2022-05-10T03:09:21.796009Z"
    }
   },
   "outputs": [
    {
     "data": {
      "text/plain": [
       "<Rot3 <Q xyzw=[rot_sym_x, rot_sym_y, rot_sym_z, rot_sym_w]>>"
      ]
     },
     "metadata": {},
     "output_type": "display_data"
    },
    {
     "data": {
      "text/plain": [
       "<Rot3 <Q xyzw=[0, 0, 0, 1]>>"
      ]
     },
     "metadata": {},
     "output_type": "display_data"
    },
    {
     "data": {
      "text/plain": [
       "<Rot3 <Q xyzw=[0, 0, 0, 1]>>"
      ]
     },
     "metadata": {},
     "output_type": "display_data"
    },
    {
     "data": {
      "text/plain": [
       "<Rot3 <Q xyzw=[0, 0, 0, 1.00000000000000]>>"
      ]
     },
     "metadata": {},
     "output_type": "display_data"
    }
   ],
   "source": [
    "# Symbolic operations\n",
    "rot_sym = geo.Rot3.symbolic(\"rot_sym\")\n",
    "rot_num = rot_sym.subs(rot_sym, rot)\n",
    "\n",
    "display(rot_sym)\n",
    "display(rot_num)\n",
    "display(rot_num.simplify())  # Simplify interal symbolic expressions\n",
    "display(rot_num.evalf())  # Numerical evaluation"
   ]
  },
  {
   "cell_type": "markdown",
   "metadata": {},
   "source": [
    "### Group operations"
   ]
  },
  {
   "cell_type": "markdown",
   "metadata": {},
   "source": [
    "All geometric types also implement the \"Group\" interface, meaning that geometric objects:\n",
    "\n",
    "1. Can be composed with objects of the same type to produce an object of the same type (`.compose()`)\n",
    "2. Have an identity element (`.identity()`)\n",
    "3. Can be inverted (`.inverse()`)\n",
    "4. Can be created to represent the relation between two other objects of the same type (`.between()`)"
   ]
  },
  {
   "cell_type": "code",
   "execution_count": 26,
   "metadata": {
    "execution": {
     "iopub.execute_input": "2022-05-10T03:09:21.797526Z",
     "iopub.status.busy": "2022-05-10T03:09:21.797419Z",
     "iopub.status.idle": "2022-05-10T03:09:21.803506Z",
     "shell.execute_reply": "2022-05-10T03:09:21.803299Z"
    }
   },
   "outputs": [
    {
     "data": {
      "text/plain": [
       "<Rot3 <Q xyzw=[0.125625329800009, -0.831461324988424, -0.297640104826490, 0.451996360118099]>>"
      ]
     },
     "metadata": {},
     "output_type": "display_data"
    }
   ],
   "source": [
    "# Construct two random rotations\n",
    "R1 = geo.Rot3.random()\n",
    "R2 = geo.Rot3.random()\n",
    "\n",
    "# Composition\n",
    "display(R1.compose(R2))  # For rotations this is the same as R1 * R2"
   ]
  },
  {
   "cell_type": "code",
   "execution_count": 27,
   "metadata": {
    "execution": {
     "iopub.execute_input": "2022-05-10T03:09:21.804786Z",
     "iopub.status.busy": "2022-05-10T03:09:21.804687Z",
     "iopub.status.idle": "2022-05-10T03:09:21.808050Z",
     "shell.execute_reply": "2022-05-10T03:09:21.807848Z"
    }
   },
   "outputs": [
    {
     "data": {
      "text/plain": [
       "<Rot3 <Q xyzw=[0.266409001529524, 0.872491035144246, 0.350866860614686, 0.211371908302305]>>"
      ]
     },
     "metadata": {},
     "output_type": "display_data"
    },
    {
     "data": {
      "text/plain": [
       "<Rot3 <Q xyzw=[0.266409001529524, 0.872491035144246, 0.350866860614686, 0.211371908302305]>>"
      ]
     },
     "metadata": {},
     "output_type": "display_data"
    }
   ],
   "source": [
    "# Identity\n",
    "R_identity = geo.Rot3.identity()\n",
    "display(R1)\n",
    "display(R_identity * R1)"
   ]
  },
  {
   "cell_type": "code",
   "execution_count": 28,
   "metadata": {
    "execution": {
     "iopub.execute_input": "2022-05-10T03:09:21.809402Z",
     "iopub.status.busy": "2022-05-10T03:09:21.809320Z",
     "iopub.status.idle": "2022-05-10T03:09:21.812972Z",
     "shell.execute_reply": "2022-05-10T03:09:21.812769Z"
    }
   },
   "outputs": [
    {
     "data": {
      "text/plain": [
       "<Rot3 <Q xyzw=[0, 0, 0, 1]>>"
      ]
     },
     "metadata": {},
     "output_type": "display_data"
    },
    {
     "data": {
      "text/plain": [
       "<Rot3 <Q xyzw=[0, 0, 0, 1.00000000000000]>>"
      ]
     },
     "metadata": {},
     "output_type": "display_data"
    }
   ],
   "source": [
    "# Inverse\n",
    "R1_inv = R1.inverse()\n",
    "display(R_identity)\n",
    "display(R1_inv * R1)"
   ]
  },
  {
   "cell_type": "code",
   "execution_count": 29,
   "metadata": {
    "execution": {
     "iopub.execute_input": "2022-05-10T03:09:21.814319Z",
     "iopub.status.busy": "2022-05-10T03:09:21.814234Z",
     "iopub.status.idle": "2022-05-10T03:09:21.818574Z",
     "shell.execute_reply": "2022-05-10T03:09:21.818368Z"
    }
   },
   "outputs": [
    {
     "data": {
      "text/plain": [
       "<Rot3 <Q xyzw=[-0.125906134963817, -0.693482107285819, 0.109612454609752, -0.700867549432357]>>"
      ]
     },
     "metadata": {},
     "output_type": "display_data"
    },
    {
     "data": {
      "text/plain": [
       "<Rot3 <Q xyzw=[-0.125906134963817, -0.693482107285819, 0.109612454609752, -0.700867549432357]>>"
      ]
     },
     "metadata": {},
     "output_type": "display_data"
    }
   ],
   "source": [
    "# Between\n",
    "R_delta = R1.between(R2)\n",
    "display(R1 * R_delta)\n",
    "display(R2)"
   ]
  },
  {
   "cell_type": "markdown",
   "metadata": {},
   "source": [
    "### Lie Group operations"
   ]
  },
  {
   "cell_type": "markdown",
   "metadata": {},
   "source": [
    "Rotations, poses, and matrices all implement the \"LieGroup\" interface, meaning that they each have a\n",
    "tangent space. There are many great references on Lie groups out there already, so instead of\n",
    "introducing them here, we recommend checking out\n",
    "[Frank Dellaert's](https://github.com/borglab/gtsam/blob/develop/doc/LieGroups.pdf),\n",
    "[Ethan Eade's](https://www.ethaneade.com/lie.pdf), or\n",
    "[JL Blanco's](https://ingmec.ual.es/~jlblanco/papers/jlblanco2010geometry3D_techrep.pdf) tutorials.\n",
    "In SymForce, objects which are a Lie Group can:\n",
    "\n",
    "1. Be used to compute the tangent space vector about the identity element (`.to_tangent()`)\n",
    "2. Be constructed from a tangent space vector about the identity element (`.from_tangent()`)\n",
    "3. Be perturbed by a tangent space vector about the given element (`.retract()`)\n",
    "4. Be used to compute the tangent space perturbation needed to obtain another given element (`.local_coordinates()`)\n",
    "5. Be used to compute a jacobian describing the relation between the underlying data of the object (e.g. a quaternion for a rotation) and the tangent space vector about the given element (`.storage_D_tangent()`)"
   ]
  },
  {
   "cell_type": "code",
   "execution_count": 30,
   "metadata": {
    "execution": {
     "iopub.execute_input": "2022-05-10T03:09:21.819983Z",
     "iopub.status.busy": "2022-05-10T03:09:21.819882Z",
     "iopub.status.idle": "2022-05-10T03:09:21.833621Z",
     "shell.execute_reply": "2022-05-10T03:09:21.833417Z"
    }
   },
   "outputs": [
    {
     "data": {
      "text/plain": [
       "<Rot3 <Q xyzw=[0.588675121562975, 0.428135682626578, -0.129582177544828, -0.673327481822502]>>"
      ]
     },
     "metadata": {},
     "output_type": "display_data"
    },
    {
     "data": {
      "text/plain": [
       "<Rot3 <Q xyzw=[-0.588675121562975, -0.428135682626578, 0.129582177544828, 0.673327481822502]>>"
      ]
     },
     "metadata": {},
     "output_type": "display_data"
    }
   ],
   "source": [
    "# To/From tangent space vector about identity element\n",
    "R1 = geo.Rot3.random()\n",
    "tangent_vec = R1.to_tangent()\n",
    "R1_recovered = geo.Rot3.from_tangent(tangent_vec)\n",
    "\n",
    "assert len(tangent_vec) == R1.tangent_dim()\n",
    "display(R1)\n",
    "display(R1_recovered)"
   ]
  },
  {
   "cell_type": "code",
   "execution_count": 31,
   "metadata": {
    "execution": {
     "iopub.execute_input": "2022-05-10T03:09:21.834975Z",
     "iopub.status.busy": "2022-05-10T03:09:21.834892Z",
     "iopub.status.idle": "2022-05-10T03:09:21.859987Z",
     "shell.execute_reply": "2022-05-10T03:09:21.859765Z"
    }
   },
   "outputs": [
    {
     "data": {
      "image/png": "[encoded data removed]",
      "text/latex": [
       "$\\displaystyle \\left[ 0.0999999999999997, \\  2.3, \\  -0.5\\right]$"
      ],
      "text/plain": [
       "[0.0999999999999997, 2.3, -0.5]"
      ]
     },
     "metadata": {},
     "output_type": "display_data"
    }
   ],
   "source": [
    "# Tangent space perturbations\n",
    "\n",
    "# Perturb R1 by the given vector in the tangent space around R1\n",
    "R2 = R1.retract([0.1, 2.3, -0.5])\n",
    "\n",
    "# Compute the tangent vector pointing from R1 to R2, in the tangent space around R1\n",
    "recovered_tangent_vec = R1.local_coordinates(R2)\n",
    "\n",
    "display(recovered_tangent_vec)"
   ]
  },
  {
   "cell_type": "code",
   "execution_count": 32,
   "metadata": {
    "execution": {
     "iopub.execute_input": "2022-05-10T03:09:21.861403Z",
     "iopub.status.busy": "2022-05-10T03:09:21.861317Z",
     "iopub.status.idle": "2022-05-10T03:09:21.863808Z",
     "shell.execute_reply": "2022-05-10T03:09:21.863592Z"
    }
   },
   "outputs": [],
   "source": [
    "# Jacobian of storage w.r.t tangent space perturbation\n",
    "\n",
    "# We chain storage_D_tangent together with jacobians of larger symbolic expressions taken\n",
    "# with respect to the symbolic elements of the object (e.g. a quaternion for rotations) to compute\n",
    "# the jacobian wrt the tanget space about the element.\n",
    "# I.e. residual_D_tangent = residual_D_storage * storage_D_tangent\n",
    "\n",
    "jacobian = R1.storage_D_tangent()\n",
    "assert jacobian.shape == (R1.storage_dim(), R1.tangent_dim())"
   ]
  },
  {
   "cell_type": "markdown",
   "metadata": {},
   "source": [
    "For more details on Storage/Group/LieGroup operations, see the [Concept tutorial](../notebooks/ops_tutorial.html)."
   ]
  },
  {
   "cell_type": "markdown",
   "metadata": {},
   "source": [
    "## Poses and SE(n)"
   ]
  },
  {
   "cell_type": "markdown",
   "metadata": {},
   "source": [
    "Poses in robotics are often represented using the [Special Euclidean group](https://en.wikipedia.org/wiki/Euclidean_group),\n",
    "SE(2) and SE(3) for 2D and 3D respectively. Additionally, the manifold is often defined so that the\n",
    "`from_tangent` function is the matrix exponential of a linear combination of generators.\n",
    "\n",
    "This has the advantage of simpler theoretical treatment in some cases, but has disadvantages in\n",
    "terms of the number of operations required to implement commonly used functions like `retract`.\n",
    "For these reasons, instead of using the SE(n) `from_tangent` and `to_tangent` functions, ours\n",
    "decouple the perturbations to rotation and translation.  This means our `Pose2` and `Pose3` objects\n",
    "represent neither `SE(n)` nor `SO(n) x R^n`; they compose like objects on `SE(n)` but have tangent\n",
    "space operations analogous to `SO(n) x R^n`.\n",
    "\n",
    "For most users, this should all happen under the hood.  The most common observable difference is\n",
    "that `retract(g, v) != compose(g, from_tangent(v))`, so simplifications done by hand that rely on\n",
    "this fact must be treated with care.  We do also provide a `Pose3_SE3` class for users who need this\n",
    "functionality."
   ]
  }
 ],
 "metadata": {
  "file_extension": ".py",
  "kernelspec": {
   "display_name": "Python 3",
   "language": "python",
   "name": "python3"
  },
  "language_info": {
   "codemirror_mode": {
    "name": "ipython",
    "version": 3
   },
   "file_extension": ".py",
   "mimetype": "text/x-python",
   "name": "python",
   "nbconvert_exporter": "python",
   "pygments_lexer": "ipython3",
   "version": "3.9.2"
  },
  "mimetype": "text/x-python",
  "name": "python",
  "npconvert_exporter": "python",
  "pygments_lexer": "ipython2",
  "version": 2
 },
 "nbformat": 4,
 "nbformat_minor": 2
}
